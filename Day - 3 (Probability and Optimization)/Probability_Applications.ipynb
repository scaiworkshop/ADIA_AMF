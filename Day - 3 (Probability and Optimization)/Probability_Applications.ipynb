{
  "cells": [
    {
      "cell_type": "code",
      "source": [
        "import numpy as np"
      ],
      "metadata": {
        "id": "VQnTn3VTY6qf"
      },
      "execution_count": 2,
      "outputs": []
    },
    {
      "cell_type": "markdown",
      "metadata": {
        "ein.tags": "worksheet-0",
        "id": "BLqxZdWcX4fM"
      },
      "source": [
        "We can generate a random number from a normal distribution with mean 20 and standard deviation 30. If you evaluate this several times, it will generate a different random number each time."
      ]
    },
    {
      "cell_type": "code",
      "execution_count": 3,
      "metadata": {
        "autoscroll": false,
        "ein.hycell": false,
        "ein.tags": "worksheet-0",
        "id": "1MJpX0b3X4fM",
        "outputId": "c562b07a-92f3-45f4-dfe2-68fc26e06a5e",
        "colab": {
          "base_uri": "https://localhost:8080/"
        }
      },
      "outputs": [
        {
          "output_type": "execute_result",
          "data": {
            "text/plain": [
              "-4.265365614695405"
            ]
          },
          "metadata": {},
          "execution_count": 3
        }
      ],
      "source": [
        "np.random.normal(20, 30)"
      ]
    },
    {
      "cell_type": "code",
      "execution_count": 4,
      "metadata": {
        "autoscroll": false,
        "ein.hycell": false,
        "ein.tags": "worksheet-0",
        "id": "6q0BBfpGX4fN",
        "outputId": "a5aee804-3cfc-4e31-a439-5a5794d52c52",
        "colab": {
          "base_uri": "https://localhost:8080/"
        }
      },
      "outputs": [
        {
          "output_type": "execute_result",
          "data": {
            "text/plain": [
              "49.907978103113834"
            ]
          },
          "metadata": {},
          "execution_count": 4
        }
      ],
      "source": [
        "np.random.normal(20, 30)"
      ]
    },
    {
      "cell_type": "markdown",
      "metadata": {
        "ein.tags": "worksheet-0",
        "id": "XcBy7qzHX4fN"
      },
      "source": [
        "We can generate an **array** of random numbers by passing a third argument to the `np.random.normal` function, saying how many random numbers we want. We store the array in a *variable* named `obs`."
      ]
    },
    {
      "cell_type": "code",
      "execution_count": 5,
      "metadata": {
        "autoscroll": false,
        "ein.hycell": false,
        "ein.tags": "worksheet-0",
        "id": "6PuV4bgIX4fN",
        "outputId": "8b052265-613e-47cf-a3f6-61c705c591ed",
        "colab": {
          "base_uri": "https://localhost:8080/"
        }
      },
      "outputs": [
        {
          "output_type": "execute_result",
          "data": {
            "text/plain": [
              "array([-19.0764012 ,  38.63377998, -14.33790982,  -1.74662953,\n",
              "        -8.21202361,  61.48342808,  30.86632804,  56.89928289,\n",
              "        30.11108028,  75.33349454])"
            ]
          },
          "metadata": {},
          "execution_count": 5
        }
      ],
      "source": [
        "obs = np.random.normal(20, 30, 10)\n",
        "obs"
      ]
    },
    {
      "cell_type": "markdown",
      "metadata": {
        "ein.tags": "worksheet-0",
        "id": "QJOFSVQMX4fN"
      },
      "source": [
        "The builtin function `len` in Python tells us the length of an array or a list."
      ]
    },
    {
      "cell_type": "code",
      "execution_count": 6,
      "metadata": {
        "autoscroll": false,
        "ein.hycell": false,
        "ein.tags": "worksheet-0",
        "id": "l05O8tA2X4fN",
        "outputId": "f91116df-0bd2-42e5-b191-54ff7fe01357",
        "colab": {
          "base_uri": "https://localhost:8080/"
        }
      },
      "outputs": [
        {
          "output_type": "execute_result",
          "data": {
            "text/plain": [
              "10"
            ]
          },
          "metadata": {},
          "execution_count": 6
        }
      ],
      "source": [
        "len(obs)"
      ]
    },
    {
      "cell_type": "markdown",
      "metadata": {
        "ein.tags": "worksheet-0",
        "id": "zOPK2igQX4fN"
      },
      "source": [
        "We can do arithmetic on arrays, adding them together or subtracting a constant from each element."
      ]
    },
    {
      "cell_type": "code",
      "execution_count": 7,
      "metadata": {
        "autoscroll": false,
        "ein.hycell": false,
        "ein.tags": "worksheet-0",
        "id": "BAvbD12nX4fO",
        "outputId": "7608e1f4-f1df-448e-9403-d0bbe3823f12",
        "colab": {
          "base_uri": "https://localhost:8080/"
        }
      },
      "outputs": [
        {
          "output_type": "execute_result",
          "data": {
            "text/plain": [
              "array([-38.15280239,  77.26755996, -28.67581964,  -3.49325907,\n",
              "       -16.42404722, 122.96685617,  61.73265608, 113.79856578,\n",
              "        60.22216055, 150.66698908])"
            ]
          },
          "metadata": {},
          "execution_count": 7
        }
      ],
      "source": [
        "obs + obs"
      ]
    },
    {
      "cell_type": "code",
      "execution_count": 8,
      "metadata": {
        "autoscroll": false,
        "ein.hycell": false,
        "ein.tags": "worksheet-0",
        "id": "3RQamwC0X4fO",
        "outputId": "813d696b-86a0-47ba-fd25-d92dcca6a4ff",
        "colab": {
          "base_uri": "https://localhost:8080/"
        }
      },
      "outputs": [
        {
          "output_type": "execute_result",
          "data": {
            "text/plain": [
              "array([-44.0764012 ,  13.63377998, -39.33790982, -26.74662953,\n",
              "       -33.21202361,  36.48342808,   5.86632804,  31.89928289,\n",
              "         5.11108028,  50.33349454])"
            ]
          },
          "metadata": {},
          "execution_count": 8
        }
      ],
      "source": [
        "obs - 25"
      ]
    },
    {
      "cell_type": "code",
      "source": [
        "(obs - 20)/30"
      ],
      "metadata": {
        "id": "hXxPqc2fZ56T",
        "outputId": "f5b40067-2c3b-41dd-d8ce-be6f58de32fd",
        "colab": {
          "base_uri": "https://localhost:8080/"
        }
      },
      "execution_count": 10,
      "outputs": [
        {
          "output_type": "execute_result",
          "data": {
            "text/plain": [
              "array([-1.30254671,  0.621126  , -1.14459699, -0.72488765, -0.94040079,\n",
              "        1.38278094,  0.36221093,  1.2299761 ,  0.33703601,  1.84444982])"
            ]
          },
          "metadata": {},
          "execution_count": 10
        }
      ]
    },
    {
      "cell_type": "markdown",
      "metadata": {
        "id": "4MlSBXiFX4fO"
      },
      "source": [
        "We can apply a numpy function to all the elements of an array. "
      ]
    },
    {
      "cell_type": "markdown",
      "metadata": {
        "ein.tags": "worksheet-0",
        "id": "l0rVNA99X4fO"
      },
      "source": [
        "The array has *methods*, a kind of function that acts on the array."
      ]
    },
    {
      "cell_type": "code",
      "execution_count": 12,
      "metadata": {
        "autoscroll": false,
        "ein.hycell": false,
        "ein.tags": "worksheet-0",
        "id": "Au59D0jQX4fO",
        "outputId": "52cd9688-c2aa-469d-8fa9-ddf1b37550b2",
        "colab": {
          "base_uri": "https://localhost:8080/"
        }
      },
      "outputs": [
        {
          "output_type": "execute_result",
          "data": {
            "text/plain": [
              "24.99544296571495"
            ]
          },
          "metadata": {},
          "execution_count": 12
        }
      ],
      "source": [
        "obs.mean()"
      ]
    },
    {
      "cell_type": "code",
      "execution_count": 13,
      "metadata": {
        "autoscroll": false,
        "ein.hycell": false,
        "ein.tags": "worksheet-0",
        "id": "c0t2LYMVX4fO",
        "outputId": "f5d888fb-9adb-4b9b-c65f-9dcf33f9d88f",
        "colab": {
          "base_uri": "https://localhost:8080/"
        }
      },
      "outputs": [
        {
          "output_type": "execute_result",
          "data": {
            "text/plain": [
              "249.9544296571495"
            ]
          },
          "metadata": {},
          "execution_count": 13
        }
      ],
      "source": [
        "obs.sum()"
      ]
    },
    {
      "cell_type": "code",
      "execution_count": 14,
      "metadata": {
        "autoscroll": false,
        "ein.hycell": false,
        "ein.tags": "worksheet-0",
        "id": "_4IOy-5mX4fO",
        "outputId": "aa6c11a4-842e-41e2-c331-295da4c4a08a",
        "colab": {
          "base_uri": "https://localhost:8080/"
        }
      },
      "outputs": [
        {
          "output_type": "execute_result",
          "data": {
            "text/plain": [
              "-19.076401195010625"
            ]
          },
          "metadata": {},
          "execution_count": 14
        }
      ],
      "source": [
        "obs.min()"
      ]
    },
    {
      "cell_type": "markdown",
      "metadata": {
        "ein.tags": "worksheet-0",
        "id": "HRhGBJnmX4fP"
      },
      "source": [
        "There are similar functions in the `numpy` library that take an array as argument:"
      ]
    },
    {
      "cell_type": "code",
      "execution_count": 15,
      "metadata": {
        "autoscroll": false,
        "ein.hycell": false,
        "ein.tags": "worksheet-0",
        "id": "mjzMIvISX4fP",
        "outputId": "d4d778eb-001f-4aa0-cf38-b3a497d599e0",
        "colab": {
          "base_uri": "https://localhost:8080/"
        }
      },
      "outputs": [
        {
          "output_type": "execute_result",
          "data": {
            "text/plain": [
              "24.99544296571495"
            ]
          },
          "metadata": {},
          "execution_count": 15
        }
      ],
      "source": [
        "np.mean(obs)"
      ]
    },
    {
      "cell_type": "code",
      "execution_count": 16,
      "metadata": {
        "autoscroll": false,
        "ein.hycell": false,
        "ein.tags": "worksheet-0",
        "id": "tZFWYw-GX4fP",
        "outputId": "f0a4f34e-752d-46ed-d2dc-e705a202a151",
        "colab": {
          "base_uri": "https://localhost:8080/"
        }
      },
      "outputs": [
        {
          "output_type": "execute_result",
          "data": {
            "text/plain": [
              "249.9544296571495"
            ]
          },
          "metadata": {},
          "execution_count": 16
        }
      ],
      "source": [
        "np.sum(obs)"
      ]
    },
    {
      "cell_type": "code",
      "execution_count": 17,
      "metadata": {
        "autoscroll": false,
        "ein.hycell": false,
        "ein.tags": "worksheet-0",
        "id": "ZG_RcKZ4X4fP",
        "outputId": "5822fd5d-0acb-4694-cec2-1fc22043e1a8",
        "colab": {
          "base_uri": "https://localhost:8080/"
        }
      },
      "outputs": [
        {
          "output_type": "execute_result",
          "data": {
            "text/plain": [
              "-19.076401195010625"
            ]
          },
          "metadata": {},
          "execution_count": 17
        }
      ],
      "source": [
        "np.min(obs)"
      ]
    },
    {
      "cell_type": "code",
      "source": [
        "# Generating data from binomial(10, 0.5) distribution\n",
        "np.random.binomial(10, 0.5)"
      ],
      "metadata": {
        "id": "cce3syBsaYWO",
        "outputId": "cb1809c8-6302-43e5-f5d5-e08ef5eb4589",
        "colab": {
          "base_uri": "https://localhost:8080/"
        }
      },
      "execution_count": 18,
      "outputs": [
        {
          "output_type": "execute_result",
          "data": {
            "text/plain": [
              "3"
            ]
          },
          "metadata": {},
          "execution_count": 18
        }
      ]
    },
    {
      "cell_type": "markdown",
      "metadata": {
        "ein.tags": "worksheet-0",
        "id": "5ogkemfeX4fP"
      },
      "source": [
        "## Simple plotting"
      ]
    },
    {
      "cell_type": "markdown",
      "metadata": {
        "ein.tags": "worksheet-0",
        "id": "P2ZEI9uNX4fP"
      },
      "source": [
        "The matplotlib library allows you to generate many types of plots and statistical graphs in a convenient way. The [online gallery](https://matplotlib.org/gallery.html) shows the variety of plots available, and the [documentation](https://matplotlib.org/contents.html) is also available online. We import the `pyplot` component of matplotlib and give it an alias `plt`. "
      ]
    },
    {
      "cell_type": "code",
      "execution_count": 19,
      "metadata": {
        "autoscroll": false,
        "ein.hycell": false,
        "ein.tags": "worksheet-0",
        "id": "krt22ltUX4fP"
      },
      "outputs": [],
      "source": [
        "import matplotlib.pyplot as plt\n",
        "plt.style.use(\"bmh\")  # this affects the style (colors etc.) of plots\n",
        "%config InlineBackend.figure_formats=[\"svg\"]"
      ]
    },
    {
      "cell_type": "code",
      "execution_count": 20,
      "metadata": {
        "autoscroll": false,
        "ein.hycell": false,
        "ein.tags": "worksheet-0",
        "id": "eKDnvT2eX4fP",
        "outputId": "8883347d-fb5a-4fea-fbec-d849ab725370",
        "colab": {
          "base_uri": "https://localhost:8080/",
          "height": 348
        }
      },
      "outputs": [
        {
          "output_type": "display_data",
          "data": {
            "text/plain": [
              "<Figure size 432x288 with 1 Axes>"
            ],
            "image/svg+xml": "<?xml version=\"1.0\" encoding=\"utf-8\" standalone=\"no\"?>\n<!DOCTYPE svg PUBLIC \"-//W3C//DTD SVG 1.1//EN\"\n  \"http://www.w3.org/Graphics/SVG/1.1/DTD/svg11.dtd\">\n<!-- Created with matplotlib (https://matplotlib.org/) -->\n<svg height=\"245.018125pt\" version=\"1.1\" viewBox=\"0 0 380.167187 245.018125\" width=\"380.167187pt\" xmlns=\"http://www.w3.org/2000/svg\" xmlns:xlink=\"http://www.w3.org/1999/xlink\">\n <defs>\n  <style type=\"text/css\">\n*{stroke-linecap:butt;stroke-linejoin:round;}\n  </style>\n </defs>\n <g id=\"figure_1\">\n  <g id=\"patch_1\">\n   <path d=\"M 0 245.018125 \nL 380.167187 245.018125 \nL 380.167187 0 \nL 0 0 \nz\n\" style=\"fill:none;\"/>\n  </g>\n  <g id=\"axes_1\">\n   <g id=\"patch_2\">\n    <path d=\"M 38.167188 224.64 \nL 372.967188 224.64 \nL 372.967188 7.2 \nL 38.167188 7.2 \nz\n\" style=\"fill:#eeeeee;\"/>\n   </g>\n   <g id=\"PathCollection_1\">\n    <defs>\n     <path d=\"M 0 3 \nC 0.795609 3 1.55874 2.683901 2.12132 2.12132 \nC 2.683901 1.55874 3 0.795609 3 0 \nC 3 -0.795609 2.683901 -1.55874 2.12132 -2.12132 \nC 1.55874 -2.683901 0.795609 -3 0 -3 \nC -0.795609 -3 -1.55874 -2.683901 -2.12132 -2.12132 \nC -2.683901 -1.55874 -3 -0.795609 -3 0 \nC -3 0.795609 -2.683901 1.55874 -2.12132 2.12132 \nC -1.55874 2.683901 -0.795609 3 0 3 \nz\n\" id=\"m16d1080f5a\" style=\"stroke:#348abd;stroke-width:0.5;\"/>\n    </defs>\n    <g clip-path=\"url(#p673da42662)\">\n     <use style=\"fill:#348abd;stroke:#348abd;stroke-width:0.5;\" x=\"163.545717\" xlink:href=\"#m16d1080f5a\" y=\"17.083636\"/>\n     <use style=\"fill:#348abd;stroke:#348abd;stroke-width:0.5;\" x=\"353.528232\" xlink:href=\"#m16d1080f5a\" y=\"90.077442\"/>\n     <use style=\"fill:#348abd;stroke:#348abd;stroke-width:0.5;\" x=\"301.869679\" xlink:href=\"#m16d1080f5a\" y=\"170.450455\"/>\n     <use style=\"fill:#348abd;stroke:#348abd;stroke-width:0.5;\" x=\"145.680007\" xlink:href=\"#m16d1080f5a\" y=\"77.656997\"/>\n     <use style=\"fill:#348abd;stroke:#348abd;stroke-width:0.5;\" x=\"87.658468\" xlink:href=\"#m16d1080f5a\" y=\"151.790475\"/>\n     <use style=\"fill:#348abd;stroke:#348abd;stroke-width:0.5;\" x=\"357.749006\" xlink:href=\"#m16d1080f5a\" y=\"53.513401\"/>\n     <use style=\"fill:#348abd;stroke:#348abd;stroke-width:0.5;\" x=\"53.385369\" xlink:href=\"#m16d1080f5a\" y=\"97.472612\"/>\n     <use style=\"fill:#348abd;stroke:#348abd;stroke-width:0.5;\" x=\"310.626285\" xlink:href=\"#m16d1080f5a\" y=\"148.350783\"/>\n     <use style=\"fill:#348abd;stroke:#348abd;stroke-width:0.5;\" x=\"267.254424\" xlink:href=\"#m16d1080f5a\" y=\"174.213737\"/>\n     <use style=\"fill:#348abd;stroke:#348abd;stroke-width:0.5;\" x=\"229.029915\" xlink:href=\"#m16d1080f5a\" y=\"214.756364\"/>\n    </g>\n   </g>\n   <g id=\"matplotlib.axis_1\">\n    <g id=\"xtick_1\">\n     <g id=\"line2d_1\">\n      <path clip-path=\"url(#p673da42662)\" d=\"M 69.075399 224.64 \nL 69.075399 7.2 \n\" style=\"fill:none;stroke:#b2b2b2;stroke-dasharray:1.85,0.8;stroke-dashoffset:0;stroke-width:0.5;\"/>\n     </g>\n     <g id=\"line2d_2\">\n      <defs>\n       <path d=\"M 0 0 \nL 0 -3.5 \n\" id=\"m613fd293f2\" style=\"stroke:#000000;stroke-width:0.8;\"/>\n      </defs>\n      <g>\n       <use style=\"stroke:#000000;stroke-width:0.8;\" x=\"69.075399\" xlink:href=\"#m613fd293f2\" y=\"224.64\"/>\n      </g>\n     </g>\n     <g id=\"text_1\">\n      <!-- −40 -->\n      <defs>\n       <path d=\"M 10.59375 35.5 \nL 73.1875 35.5 \nL 73.1875 27.203125 \nL 10.59375 27.203125 \nz\n\" id=\"DejaVuSans-8722\"/>\n       <path d=\"M 37.796875 64.3125 \nL 12.890625 25.390625 \nL 37.796875 25.390625 \nz\nM 35.203125 72.90625 \nL 47.609375 72.90625 \nL 47.609375 25.390625 \nL 58.015625 25.390625 \nL 58.015625 17.1875 \nL 47.609375 17.1875 \nL 47.609375 0 \nL 37.796875 0 \nL 37.796875 17.1875 \nL 4.890625 17.1875 \nL 4.890625 26.703125 \nz\n\" id=\"DejaVuSans-52\"/>\n       <path d=\"M 31.78125 66.40625 \nQ 24.171875 66.40625 20.328125 58.90625 \nQ 16.5 51.421875 16.5 36.375 \nQ 16.5 21.390625 20.328125 13.890625 \nQ 24.171875 6.390625 31.78125 6.390625 \nQ 39.453125 6.390625 43.28125 13.890625 \nQ 47.125 21.390625 47.125 36.375 \nQ 47.125 51.421875 43.28125 58.90625 \nQ 39.453125 66.40625 31.78125 66.40625 \nz\nM 31.78125 74.21875 \nQ 44.046875 74.21875 50.515625 64.515625 \nQ 56.984375 54.828125 56.984375 36.375 \nQ 56.984375 17.96875 50.515625 8.265625 \nQ 44.046875 -1.421875 31.78125 -1.421875 \nQ 19.53125 -1.421875 13.0625 8.265625 \nQ 6.59375 17.96875 6.59375 36.375 \nQ 6.59375 54.828125 13.0625 64.515625 \nQ 19.53125 74.21875 31.78125 74.21875 \nz\n\" id=\"DejaVuSans-48\"/>\n      </defs>\n      <g transform=\"translate(58.523055 235.738437)scale(0.1 -0.1)\">\n       <use xlink:href=\"#DejaVuSans-8722\"/>\n       <use x=\"83.789062\" xlink:href=\"#DejaVuSans-52\"/>\n       <use x=\"147.412109\" xlink:href=\"#DejaVuSans-48\"/>\n      </g>\n     </g>\n    </g>\n    <g id=\"xtick_2\">\n     <g id=\"line2d_3\">\n      <path clip-path=\"url(#p673da42662)\" d=\"M 127.97059 224.64 \nL 127.97059 7.2 \n\" style=\"fill:none;stroke:#b2b2b2;stroke-dasharray:1.85,0.8;stroke-dashoffset:0;stroke-width:0.5;\"/>\n     </g>\n     <g id=\"line2d_4\">\n      <g>\n       <use style=\"stroke:#000000;stroke-width:0.8;\" x=\"127.97059\" xlink:href=\"#m613fd293f2\" y=\"224.64\"/>\n      </g>\n     </g>\n     <g id=\"text_2\">\n      <!-- −20 -->\n      <defs>\n       <path d=\"M 19.1875 8.296875 \nL 53.609375 8.296875 \nL 53.609375 0 \nL 7.328125 0 \nL 7.328125 8.296875 \nQ 12.9375 14.109375 22.625 23.890625 \nQ 32.328125 33.6875 34.8125 36.53125 \nQ 39.546875 41.84375 41.421875 45.53125 \nQ 43.3125 49.21875 43.3125 52.78125 \nQ 43.3125 58.59375 39.234375 62.25 \nQ 35.15625 65.921875 28.609375 65.921875 \nQ 23.96875 65.921875 18.8125 64.3125 \nQ 13.671875 62.703125 7.8125 59.421875 \nL 7.8125 69.390625 \nQ 13.765625 71.78125 18.9375 73 \nQ 24.125 74.21875 28.421875 74.21875 \nQ 39.75 74.21875 46.484375 68.546875 \nQ 53.21875 62.890625 53.21875 53.421875 \nQ 53.21875 48.921875 51.53125 44.890625 \nQ 49.859375 40.875 45.40625 35.40625 \nQ 44.1875 33.984375 37.640625 27.21875 \nQ 31.109375 20.453125 19.1875 8.296875 \nz\n\" id=\"DejaVuSans-50\"/>\n      </defs>\n      <g transform=\"translate(117.418246 235.738437)scale(0.1 -0.1)\">\n       <use xlink:href=\"#DejaVuSans-8722\"/>\n       <use x=\"83.789062\" xlink:href=\"#DejaVuSans-50\"/>\n       <use x=\"147.412109\" xlink:href=\"#DejaVuSans-48\"/>\n      </g>\n     </g>\n    </g>\n    <g id=\"xtick_3\">\n     <g id=\"line2d_5\">\n      <path clip-path=\"url(#p673da42662)\" d=\"M 186.865781 224.64 \nL 186.865781 7.2 \n\" style=\"fill:none;stroke:#b2b2b2;stroke-dasharray:1.85,0.8;stroke-dashoffset:0;stroke-width:0.5;\"/>\n     </g>\n     <g id=\"line2d_6\">\n      <g>\n       <use style=\"stroke:#000000;stroke-width:0.8;\" x=\"186.865781\" xlink:href=\"#m613fd293f2\" y=\"224.64\"/>\n      </g>\n     </g>\n     <g id=\"text_3\">\n      <!-- 0 -->\n      <g transform=\"translate(183.684531 235.738437)scale(0.1 -0.1)\">\n       <use xlink:href=\"#DejaVuSans-48\"/>\n      </g>\n     </g>\n    </g>\n    <g id=\"xtick_4\">\n     <g id=\"line2d_7\">\n      <path clip-path=\"url(#p673da42662)\" d=\"M 245.760971 224.64 \nL 245.760971 7.2 \n\" style=\"fill:none;stroke:#b2b2b2;stroke-dasharray:1.85,0.8;stroke-dashoffset:0;stroke-width:0.5;\"/>\n     </g>\n     <g id=\"line2d_8\">\n      <g>\n       <use style=\"stroke:#000000;stroke-width:0.8;\" x=\"245.760971\" xlink:href=\"#m613fd293f2\" y=\"224.64\"/>\n      </g>\n     </g>\n     <g id=\"text_4\">\n      <!-- 20 -->\n      <g transform=\"translate(239.398471 235.738437)scale(0.1 -0.1)\">\n       <use xlink:href=\"#DejaVuSans-50\"/>\n       <use x=\"63.623047\" xlink:href=\"#DejaVuSans-48\"/>\n      </g>\n     </g>\n    </g>\n    <g id=\"xtick_5\">\n     <g id=\"line2d_9\">\n      <path clip-path=\"url(#p673da42662)\" d=\"M 304.656162 224.64 \nL 304.656162 7.2 \n\" style=\"fill:none;stroke:#b2b2b2;stroke-dasharray:1.85,0.8;stroke-dashoffset:0;stroke-width:0.5;\"/>\n     </g>\n     <g id=\"line2d_10\">\n      <g>\n       <use style=\"stroke:#000000;stroke-width:0.8;\" x=\"304.656162\" xlink:href=\"#m613fd293f2\" y=\"224.64\"/>\n      </g>\n     </g>\n     <g id=\"text_5\">\n      <!-- 40 -->\n      <g transform=\"translate(298.293662 235.738437)scale(0.1 -0.1)\">\n       <use xlink:href=\"#DejaVuSans-52\"/>\n       <use x=\"63.623047\" xlink:href=\"#DejaVuSans-48\"/>\n      </g>\n     </g>\n    </g>\n    <g id=\"xtick_6\">\n     <g id=\"line2d_11\">\n      <path clip-path=\"url(#p673da42662)\" d=\"M 363.551353 224.64 \nL 363.551353 7.2 \n\" style=\"fill:none;stroke:#b2b2b2;stroke-dasharray:1.85,0.8;stroke-dashoffset:0;stroke-width:0.5;\"/>\n     </g>\n     <g id=\"line2d_12\">\n      <g>\n       <use style=\"stroke:#000000;stroke-width:0.8;\" x=\"363.551353\" xlink:href=\"#m613fd293f2\" y=\"224.64\"/>\n      </g>\n     </g>\n     <g id=\"text_6\">\n      <!-- 60 -->\n      <defs>\n       <path d=\"M 33.015625 40.375 \nQ 26.375 40.375 22.484375 35.828125 \nQ 18.609375 31.296875 18.609375 23.390625 \nQ 18.609375 15.53125 22.484375 10.953125 \nQ 26.375 6.390625 33.015625 6.390625 \nQ 39.65625 6.390625 43.53125 10.953125 \nQ 47.40625 15.53125 47.40625 23.390625 \nQ 47.40625 31.296875 43.53125 35.828125 \nQ 39.65625 40.375 33.015625 40.375 \nz\nM 52.59375 71.296875 \nL 52.59375 62.3125 \nQ 48.875 64.0625 45.09375 64.984375 \nQ 41.3125 65.921875 37.59375 65.921875 \nQ 27.828125 65.921875 22.671875 59.328125 \nQ 17.53125 52.734375 16.796875 39.40625 \nQ 19.671875 43.65625 24.015625 45.921875 \nQ 28.375 48.1875 33.59375 48.1875 \nQ 44.578125 48.1875 50.953125 41.515625 \nQ 57.328125 34.859375 57.328125 23.390625 \nQ 57.328125 12.15625 50.6875 5.359375 \nQ 44.046875 -1.421875 33.015625 -1.421875 \nQ 20.359375 -1.421875 13.671875 8.265625 \nQ 6.984375 17.96875 6.984375 36.375 \nQ 6.984375 53.65625 15.1875 63.9375 \nQ 23.390625 74.21875 37.203125 74.21875 \nQ 40.921875 74.21875 44.703125 73.484375 \nQ 48.484375 72.75 52.59375 71.296875 \nz\n\" id=\"DejaVuSans-54\"/>\n      </defs>\n      <g transform=\"translate(357.188853 235.738437)scale(0.1 -0.1)\">\n       <use xlink:href=\"#DejaVuSans-54\"/>\n       <use x=\"63.623047\" xlink:href=\"#DejaVuSans-48\"/>\n      </g>\n     </g>\n    </g>\n   </g>\n   <g id=\"matplotlib.axis_2\">\n    <g id=\"ytick_1\">\n     <g id=\"line2d_13\">\n      <path clip-path=\"url(#p673da42662)\" d=\"M 38.167188 222.867921 \nL 372.967188 222.867921 \n\" style=\"fill:none;stroke:#b2b2b2;stroke-dasharray:1.85,0.8;stroke-dashoffset:0;stroke-width:0.5;\"/>\n     </g>\n     <g id=\"line2d_14\">\n      <defs>\n       <path d=\"M 0 0 \nL 3.5 0 \n\" id=\"m951fbc27a0\" style=\"stroke:#000000;stroke-width:0.8;\"/>\n      </defs>\n      <g>\n       <use style=\"stroke:#000000;stroke-width:0.8;\" x=\"38.167188\" xlink:href=\"#m951fbc27a0\" y=\"222.867921\"/>\n      </g>\n     </g>\n     <g id=\"text_7\">\n      <!-- −200 -->\n      <g transform=\"translate(7.2 226.66714)scale(0.1 -0.1)\">\n       <use xlink:href=\"#DejaVuSans-8722\"/>\n       <use x=\"83.789062\" xlink:href=\"#DejaVuSans-50\"/>\n       <use x=\"147.412109\" xlink:href=\"#DejaVuSans-48\"/>\n       <use x=\"211.035156\" xlink:href=\"#DejaVuSans-48\"/>\n      </g>\n     </g>\n    </g>\n    <g id=\"ytick_2\">\n     <g id=\"line2d_15\">\n      <path clip-path=\"url(#p673da42662)\" d=\"M 38.167188 174.772722 \nL 372.967188 174.772722 \n\" style=\"fill:none;stroke:#b2b2b2;stroke-dasharray:1.85,0.8;stroke-dashoffset:0;stroke-width:0.5;\"/>\n     </g>\n     <g id=\"line2d_16\">\n      <g>\n       <use style=\"stroke:#000000;stroke-width:0.8;\" x=\"38.167188\" xlink:href=\"#m951fbc27a0\" y=\"174.772722\"/>\n      </g>\n     </g>\n     <g id=\"text_8\">\n      <!-- −100 -->\n      <defs>\n       <path d=\"M 12.40625 8.296875 \nL 28.515625 8.296875 \nL 28.515625 63.921875 \nL 10.984375 60.40625 \nL 10.984375 69.390625 \nL 28.421875 72.90625 \nL 38.28125 72.90625 \nL 38.28125 8.296875 \nL 54.390625 8.296875 \nL 54.390625 0 \nL 12.40625 0 \nz\n\" id=\"DejaVuSans-49\"/>\n      </defs>\n      <g transform=\"translate(7.2 178.571941)scale(0.1 -0.1)\">\n       <use xlink:href=\"#DejaVuSans-8722\"/>\n       <use x=\"83.789062\" xlink:href=\"#DejaVuSans-49\"/>\n       <use x=\"147.412109\" xlink:href=\"#DejaVuSans-48\"/>\n       <use x=\"211.035156\" xlink:href=\"#DejaVuSans-48\"/>\n      </g>\n     </g>\n    </g>\n    <g id=\"ytick_3\">\n     <g id=\"line2d_17\">\n      <path clip-path=\"url(#p673da42662)\" d=\"M 38.167188 126.677523 \nL 372.967188 126.677523 \n\" style=\"fill:none;stroke:#b2b2b2;stroke-dasharray:1.85,0.8;stroke-dashoffset:0;stroke-width:0.5;\"/>\n     </g>\n     <g id=\"line2d_18\">\n      <g>\n       <use style=\"stroke:#000000;stroke-width:0.8;\" x=\"38.167188\" xlink:href=\"#m951fbc27a0\" y=\"126.677523\"/>\n      </g>\n     </g>\n     <g id=\"text_9\">\n      <!-- 0 -->\n      <g transform=\"translate(28.304688 130.476742)scale(0.1 -0.1)\">\n       <use xlink:href=\"#DejaVuSans-48\"/>\n      </g>\n     </g>\n    </g>\n    <g id=\"ytick_4\">\n     <g id=\"line2d_19\">\n      <path clip-path=\"url(#p673da42662)\" d=\"M 38.167188 78.582324 \nL 372.967188 78.582324 \n\" style=\"fill:none;stroke:#b2b2b2;stroke-dasharray:1.85,0.8;stroke-dashoffset:0;stroke-width:0.5;\"/>\n     </g>\n     <g id=\"line2d_20\">\n      <g>\n       <use style=\"stroke:#000000;stroke-width:0.8;\" x=\"38.167188\" xlink:href=\"#m951fbc27a0\" y=\"78.582324\"/>\n      </g>\n     </g>\n     <g id=\"text_10\">\n      <!-- 100 -->\n      <g transform=\"translate(15.579688 82.381543)scale(0.1 -0.1)\">\n       <use xlink:href=\"#DejaVuSans-49\"/>\n       <use x=\"63.623047\" xlink:href=\"#DejaVuSans-48\"/>\n       <use x=\"127.246094\" xlink:href=\"#DejaVuSans-48\"/>\n      </g>\n     </g>\n    </g>\n    <g id=\"ytick_5\">\n     <g id=\"line2d_21\">\n      <path clip-path=\"url(#p673da42662)\" d=\"M 38.167188 30.487125 \nL 372.967188 30.487125 \n\" style=\"fill:none;stroke:#b2b2b2;stroke-dasharray:1.85,0.8;stroke-dashoffset:0;stroke-width:0.5;\"/>\n     </g>\n     <g id=\"line2d_22\">\n      <g>\n       <use style=\"stroke:#000000;stroke-width:0.8;\" x=\"38.167188\" xlink:href=\"#m951fbc27a0\" y=\"30.487125\"/>\n      </g>\n     </g>\n     <g id=\"text_11\">\n      <!-- 200 -->\n      <g transform=\"translate(15.579688 34.286343)scale(0.1 -0.1)\">\n       <use xlink:href=\"#DejaVuSans-50\"/>\n       <use x=\"63.623047\" xlink:href=\"#DejaVuSans-48\"/>\n       <use x=\"127.246094\" xlink:href=\"#DejaVuSans-48\"/>\n      </g>\n     </g>\n    </g>\n   </g>\n   <g id=\"patch_3\">\n    <path d=\"M 38.167188 224.64 \nL 38.167188 7.2 \n\" style=\"fill:none;stroke:#bcbcbc;stroke-linecap:square;stroke-linejoin:miter;stroke-width:0.8;\"/>\n   </g>\n   <g id=\"patch_4\">\n    <path d=\"M 372.967188 224.64 \nL 372.967188 7.2 \n\" style=\"fill:none;stroke:#bcbcbc;stroke-linecap:square;stroke-linejoin:miter;stroke-width:0.8;\"/>\n   </g>\n   <g id=\"patch_5\">\n    <path d=\"M 38.167188 224.64 \nL 372.967188 224.64 \n\" style=\"fill:none;stroke:#bcbcbc;stroke-linecap:square;stroke-linejoin:miter;stroke-width:0.8;\"/>\n   </g>\n   <g id=\"patch_6\">\n    <path d=\"M 38.167188 7.2 \nL 372.967188 7.2 \n\" style=\"fill:none;stroke:#bcbcbc;stroke-linecap:square;stroke-linejoin:miter;stroke-width:0.8;\"/>\n   </g>\n  </g>\n </g>\n <defs>\n  <clipPath id=\"p673da42662\">\n   <rect height=\"217.44\" width=\"334.8\" x=\"38.167188\" y=\"7.2\"/>\n  </clipPath>\n </defs>\n</svg>\n"
          },
          "metadata": {
            "needs_background": "light"
          }
        }
      ],
      "source": [
        "X = np.random.normal(20, 30, 10)\n",
        "Y = np.random.normal(50, 100, 10)\n",
        "plt.scatter(X, Y);"
      ]
    },
    {
      "cell_type": "code",
      "execution_count": 23,
      "metadata": {
        "autoscroll": false,
        "ein.hycell": false,
        "ein.tags": "worksheet-0",
        "id": "OZ3FYof1X4fP",
        "outputId": "c19b86e8-b0bf-49bb-ae95-0e974ebcc740",
        "colab": {
          "base_uri": "https://localhost:8080/",
          "height": 348
        }
      },
      "outputs": [
        {
          "output_type": "display_data",
          "data": {
            "text/plain": [
              "<Figure size 432x288 with 1 Axes>"
            ],
            "image/svg+xml": "<?xml version=\"1.0\" encoding=\"utf-8\" standalone=\"no\"?>\n<!DOCTYPE svg PUBLIC \"-//W3C//DTD SVG 1.1//EN\"\n  \"http://www.w3.org/Graphics/SVG/1.1/DTD/svg11.dtd\">\n<!-- Created with matplotlib (https://matplotlib.org/) -->\n<svg height=\"245.018125pt\" version=\"1.1\" viewBox=\"0 0 383.345312 245.018125\" width=\"383.345312pt\" xmlns=\"http://www.w3.org/2000/svg\" xmlns:xlink=\"http://www.w3.org/1999/xlink\">\n <defs>\n  <style type=\"text/css\">\n*{stroke-linecap:butt;stroke-linejoin:round;}\n  </style>\n </defs>\n <g id=\"figure_1\">\n  <g id=\"patch_1\">\n   <path d=\"M 0 245.018125 \nL 383.345312 245.018125 \nL 383.345312 0 \nL 0 0 \nz\n\" style=\"fill:none;\"/>\n  </g>\n  <g id=\"axes_1\">\n   <g id=\"patch_2\">\n    <path d=\"M 41.345313 224.64 \nL 376.145312 224.64 \nL 376.145312 7.2 \nL 41.345313 7.2 \nz\n\" style=\"fill:#eeeeee;\"/>\n   </g>\n   <g id=\"matplotlib.axis_1\">\n    <g id=\"xtick_1\">\n     <g id=\"line2d_1\">\n      <path clip-path=\"url(#pa936aa0901)\" d=\"M 56.563494 224.64 \nL 56.563494 7.2 \n\" style=\"fill:none;stroke:#b2b2b2;stroke-dasharray:1.85,0.8;stroke-dashoffset:0;stroke-width:0.5;\"/>\n     </g>\n     <g id=\"line2d_2\">\n      <defs>\n       <path d=\"M 0 0 \nL 0 -3.5 \n\" id=\"mf6fea9349e\" style=\"stroke:#000000;stroke-width:0.8;\"/>\n      </defs>\n      <g>\n       <use style=\"stroke:#000000;stroke-width:0.8;\" x=\"56.563494\" xlink:href=\"#mf6fea9349e\" y=\"224.64\"/>\n      </g>\n     </g>\n     <g id=\"text_1\">\n      <!-- −2 -->\n      <defs>\n       <path d=\"M 10.59375 35.5 \nL 73.1875 35.5 \nL 73.1875 27.203125 \nL 10.59375 27.203125 \nz\n\" id=\"DejaVuSans-8722\"/>\n       <path d=\"M 19.1875 8.296875 \nL 53.609375 8.296875 \nL 53.609375 0 \nL 7.328125 0 \nL 7.328125 8.296875 \nQ 12.9375 14.109375 22.625 23.890625 \nQ 32.328125 33.6875 34.8125 36.53125 \nQ 39.546875 41.84375 41.421875 45.53125 \nQ 43.3125 49.21875 43.3125 52.78125 \nQ 43.3125 58.59375 39.234375 62.25 \nQ 35.15625 65.921875 28.609375 65.921875 \nQ 23.96875 65.921875 18.8125 64.3125 \nQ 13.671875 62.703125 7.8125 59.421875 \nL 7.8125 69.390625 \nQ 13.765625 71.78125 18.9375 73 \nQ 24.125 74.21875 28.421875 74.21875 \nQ 39.75 74.21875 46.484375 68.546875 \nQ 53.21875 62.890625 53.21875 53.421875 \nQ 53.21875 48.921875 51.53125 44.890625 \nQ 49.859375 40.875 45.40625 35.40625 \nQ 44.1875 33.984375 37.640625 27.21875 \nQ 31.109375 20.453125 19.1875 8.296875 \nz\n\" id=\"DejaVuSans-50\"/>\n      </defs>\n      <g transform=\"translate(49.192401 235.738437)scale(0.1 -0.1)\">\n       <use xlink:href=\"#DejaVuSans-8722\"/>\n       <use x=\"83.789062\" xlink:href=\"#DejaVuSans-50\"/>\n      </g>\n     </g>\n    </g>\n    <g id=\"xtick_2\">\n     <g id=\"line2d_3\">\n      <path clip-path=\"url(#pa936aa0901)\" d=\"M 107.290767 224.64 \nL 107.290767 7.2 \n\" style=\"fill:none;stroke:#b2b2b2;stroke-dasharray:1.85,0.8;stroke-dashoffset:0;stroke-width:0.5;\"/>\n     </g>\n     <g id=\"line2d_4\">\n      <g>\n       <use style=\"stroke:#000000;stroke-width:0.8;\" x=\"107.290767\" xlink:href=\"#mf6fea9349e\" y=\"224.64\"/>\n      </g>\n     </g>\n     <g id=\"text_2\">\n      <!-- 0 -->\n      <defs>\n       <path d=\"M 31.78125 66.40625 \nQ 24.171875 66.40625 20.328125 58.90625 \nQ 16.5 51.421875 16.5 36.375 \nQ 16.5 21.390625 20.328125 13.890625 \nQ 24.171875 6.390625 31.78125 6.390625 \nQ 39.453125 6.390625 43.28125 13.890625 \nQ 47.125 21.390625 47.125 36.375 \nQ 47.125 51.421875 43.28125 58.90625 \nQ 39.453125 66.40625 31.78125 66.40625 \nz\nM 31.78125 74.21875 \nQ 44.046875 74.21875 50.515625 64.515625 \nQ 56.984375 54.828125 56.984375 36.375 \nQ 56.984375 17.96875 50.515625 8.265625 \nQ 44.046875 -1.421875 31.78125 -1.421875 \nQ 19.53125 -1.421875 13.0625 8.265625 \nQ 6.59375 17.96875 6.59375 36.375 \nQ 6.59375 54.828125 13.0625 64.515625 \nQ 19.53125 74.21875 31.78125 74.21875 \nz\n\" id=\"DejaVuSans-48\"/>\n      </defs>\n      <g transform=\"translate(104.109517 235.738437)scale(0.1 -0.1)\">\n       <use xlink:href=\"#DejaVuSans-48\"/>\n      </g>\n     </g>\n    </g>\n    <g id=\"xtick_3\">\n     <g id=\"line2d_5\">\n      <path clip-path=\"url(#pa936aa0901)\" d=\"M 158.01804 224.64 \nL 158.01804 7.2 \n\" style=\"fill:none;stroke:#b2b2b2;stroke-dasharray:1.85,0.8;stroke-dashoffset:0;stroke-width:0.5;\"/>\n     </g>\n     <g id=\"line2d_6\">\n      <g>\n       <use style=\"stroke:#000000;stroke-width:0.8;\" x=\"158.01804\" xlink:href=\"#mf6fea9349e\" y=\"224.64\"/>\n      </g>\n     </g>\n     <g id=\"text_3\">\n      <!-- 2 -->\n      <g transform=\"translate(154.83679 235.738437)scale(0.1 -0.1)\">\n       <use xlink:href=\"#DejaVuSans-50\"/>\n      </g>\n     </g>\n    </g>\n    <g id=\"xtick_4\">\n     <g id=\"line2d_7\">\n      <path clip-path=\"url(#pa936aa0901)\" d=\"M 208.745312 224.64 \nL 208.745312 7.2 \n\" style=\"fill:none;stroke:#b2b2b2;stroke-dasharray:1.85,0.8;stroke-dashoffset:0;stroke-width:0.5;\"/>\n     </g>\n     <g id=\"line2d_8\">\n      <g>\n       <use style=\"stroke:#000000;stroke-width:0.8;\" x=\"208.745312\" xlink:href=\"#mf6fea9349e\" y=\"224.64\"/>\n      </g>\n     </g>\n     <g id=\"text_4\">\n      <!-- 4 -->\n      <defs>\n       <path d=\"M 37.796875 64.3125 \nL 12.890625 25.390625 \nL 37.796875 25.390625 \nz\nM 35.203125 72.90625 \nL 47.609375 72.90625 \nL 47.609375 25.390625 \nL 58.015625 25.390625 \nL 58.015625 17.1875 \nL 47.609375 17.1875 \nL 47.609375 0 \nL 37.796875 0 \nL 37.796875 17.1875 \nL 4.890625 17.1875 \nL 4.890625 26.703125 \nz\n\" id=\"DejaVuSans-52\"/>\n      </defs>\n      <g transform=\"translate(205.564062 235.738437)scale(0.1 -0.1)\">\n       <use xlink:href=\"#DejaVuSans-52\"/>\n      </g>\n     </g>\n    </g>\n    <g id=\"xtick_5\">\n     <g id=\"line2d_9\">\n      <path clip-path=\"url(#pa936aa0901)\" d=\"M 259.472585 224.64 \nL 259.472585 7.2 \n\" style=\"fill:none;stroke:#b2b2b2;stroke-dasharray:1.85,0.8;stroke-dashoffset:0;stroke-width:0.5;\"/>\n     </g>\n     <g id=\"line2d_10\">\n      <g>\n       <use style=\"stroke:#000000;stroke-width:0.8;\" x=\"259.472585\" xlink:href=\"#mf6fea9349e\" y=\"224.64\"/>\n      </g>\n     </g>\n     <g id=\"text_5\">\n      <!-- 6 -->\n      <defs>\n       <path d=\"M 33.015625 40.375 \nQ 26.375 40.375 22.484375 35.828125 \nQ 18.609375 31.296875 18.609375 23.390625 \nQ 18.609375 15.53125 22.484375 10.953125 \nQ 26.375 6.390625 33.015625 6.390625 \nQ 39.65625 6.390625 43.53125 10.953125 \nQ 47.40625 15.53125 47.40625 23.390625 \nQ 47.40625 31.296875 43.53125 35.828125 \nQ 39.65625 40.375 33.015625 40.375 \nz\nM 52.59375 71.296875 \nL 52.59375 62.3125 \nQ 48.875 64.0625 45.09375 64.984375 \nQ 41.3125 65.921875 37.59375 65.921875 \nQ 27.828125 65.921875 22.671875 59.328125 \nQ 17.53125 52.734375 16.796875 39.40625 \nQ 19.671875 43.65625 24.015625 45.921875 \nQ 28.375 48.1875 33.59375 48.1875 \nQ 44.578125 48.1875 50.953125 41.515625 \nQ 57.328125 34.859375 57.328125 23.390625 \nQ 57.328125 12.15625 50.6875 5.359375 \nQ 44.046875 -1.421875 33.015625 -1.421875 \nQ 20.359375 -1.421875 13.671875 8.265625 \nQ 6.984375 17.96875 6.984375 36.375 \nQ 6.984375 53.65625 15.1875 63.9375 \nQ 23.390625 74.21875 37.203125 74.21875 \nQ 40.921875 74.21875 44.703125 73.484375 \nQ 48.484375 72.75 52.59375 71.296875 \nz\n\" id=\"DejaVuSans-54\"/>\n      </defs>\n      <g transform=\"translate(256.291335 235.738437)scale(0.1 -0.1)\">\n       <use xlink:href=\"#DejaVuSans-54\"/>\n      </g>\n     </g>\n    </g>\n    <g id=\"xtick_6\">\n     <g id=\"line2d_11\">\n      <path clip-path=\"url(#pa936aa0901)\" d=\"M 310.199858 224.64 \nL 310.199858 7.2 \n\" style=\"fill:none;stroke:#b2b2b2;stroke-dasharray:1.85,0.8;stroke-dashoffset:0;stroke-width:0.5;\"/>\n     </g>\n     <g id=\"line2d_12\">\n      <g>\n       <use style=\"stroke:#000000;stroke-width:0.8;\" x=\"310.199858\" xlink:href=\"#mf6fea9349e\" y=\"224.64\"/>\n      </g>\n     </g>\n     <g id=\"text_6\">\n      <!-- 8 -->\n      <defs>\n       <path d=\"M 31.78125 34.625 \nQ 24.75 34.625 20.71875 30.859375 \nQ 16.703125 27.09375 16.703125 20.515625 \nQ 16.703125 13.921875 20.71875 10.15625 \nQ 24.75 6.390625 31.78125 6.390625 \nQ 38.8125 6.390625 42.859375 10.171875 \nQ 46.921875 13.96875 46.921875 20.515625 \nQ 46.921875 27.09375 42.890625 30.859375 \nQ 38.875 34.625 31.78125 34.625 \nz\nM 21.921875 38.8125 \nQ 15.578125 40.375 12.03125 44.71875 \nQ 8.5 49.078125 8.5 55.328125 \nQ 8.5 64.0625 14.71875 69.140625 \nQ 20.953125 74.21875 31.78125 74.21875 \nQ 42.671875 74.21875 48.875 69.140625 \nQ 55.078125 64.0625 55.078125 55.328125 \nQ 55.078125 49.078125 51.53125 44.71875 \nQ 48 40.375 41.703125 38.8125 \nQ 48.828125 37.15625 52.796875 32.3125 \nQ 56.78125 27.484375 56.78125 20.515625 \nQ 56.78125 9.90625 50.3125 4.234375 \nQ 43.84375 -1.421875 31.78125 -1.421875 \nQ 19.734375 -1.421875 13.25 4.234375 \nQ 6.78125 9.90625 6.78125 20.515625 \nQ 6.78125 27.484375 10.78125 32.3125 \nQ 14.796875 37.15625 21.921875 38.8125 \nz\nM 18.3125 54.390625 \nQ 18.3125 48.734375 21.84375 45.5625 \nQ 25.390625 42.390625 31.78125 42.390625 \nQ 38.140625 42.390625 41.71875 45.5625 \nQ 45.3125 48.734375 45.3125 54.390625 \nQ 45.3125 60.0625 41.71875 63.234375 \nQ 38.140625 66.40625 31.78125 66.40625 \nQ 25.390625 66.40625 21.84375 63.234375 \nQ 18.3125 60.0625 18.3125 54.390625 \nz\n\" id=\"DejaVuSans-56\"/>\n      </defs>\n      <g transform=\"translate(307.018608 235.738437)scale(0.1 -0.1)\">\n       <use xlink:href=\"#DejaVuSans-56\"/>\n      </g>\n     </g>\n    </g>\n    <g id=\"xtick_7\">\n     <g id=\"line2d_13\">\n      <path clip-path=\"url(#pa936aa0901)\" d=\"M 360.927131 224.64 \nL 360.927131 7.2 \n\" style=\"fill:none;stroke:#b2b2b2;stroke-dasharray:1.85,0.8;stroke-dashoffset:0;stroke-width:0.5;\"/>\n     </g>\n     <g id=\"line2d_14\">\n      <g>\n       <use style=\"stroke:#000000;stroke-width:0.8;\" x=\"360.927131\" xlink:href=\"#mf6fea9349e\" y=\"224.64\"/>\n      </g>\n     </g>\n     <g id=\"text_7\">\n      <!-- 10 -->\n      <defs>\n       <path d=\"M 12.40625 8.296875 \nL 28.515625 8.296875 \nL 28.515625 63.921875 \nL 10.984375 60.40625 \nL 10.984375 69.390625 \nL 28.421875 72.90625 \nL 38.28125 72.90625 \nL 38.28125 8.296875 \nL 54.390625 8.296875 \nL 54.390625 0 \nL 12.40625 0 \nz\n\" id=\"DejaVuSans-49\"/>\n      </defs>\n      <g transform=\"translate(354.564631 235.738437)scale(0.1 -0.1)\">\n       <use xlink:href=\"#DejaVuSans-49\"/>\n       <use x=\"63.623047\" xlink:href=\"#DejaVuSans-48\"/>\n      </g>\n     </g>\n    </g>\n   </g>\n   <g id=\"matplotlib.axis_2\">\n    <g id=\"ytick_1\">\n     <g id=\"line2d_15\">\n      <path clip-path=\"url(#pa936aa0901)\" d=\"M 41.345313 214.859743 \nL 376.145312 214.859743 \n\" style=\"fill:none;stroke:#b2b2b2;stroke-dasharray:1.85,0.8;stroke-dashoffset:0;stroke-width:0.5;\"/>\n     </g>\n     <g id=\"line2d_16\">\n      <defs>\n       <path d=\"M 0 0 \nL 3.5 0 \n\" id=\"mdaa66cf0af\" style=\"stroke:#000000;stroke-width:0.8;\"/>\n      </defs>\n      <g>\n       <use style=\"stroke:#000000;stroke-width:0.8;\" x=\"41.345313\" xlink:href=\"#mdaa66cf0af\" y=\"214.859743\"/>\n      </g>\n     </g>\n     <g id=\"text_8\">\n      <!-- −1.00 -->\n      <defs>\n       <path d=\"M 10.6875 12.40625 \nL 21 12.40625 \nL 21 0 \nL 10.6875 0 \nz\n\" id=\"DejaVuSans-46\"/>\n      </defs>\n      <g transform=\"translate(7.2 218.658962)scale(0.1 -0.1)\">\n       <use xlink:href=\"#DejaVuSans-8722\"/>\n       <use x=\"83.789062\" xlink:href=\"#DejaVuSans-49\"/>\n       <use x=\"147.412109\" xlink:href=\"#DejaVuSans-46\"/>\n       <use x=\"179.199219\" xlink:href=\"#DejaVuSans-48\"/>\n       <use x=\"242.822266\" xlink:href=\"#DejaVuSans-48\"/>\n      </g>\n     </g>\n    </g>\n    <g id=\"ytick_2\">\n     <g id=\"line2d_17\">\n      <path clip-path=\"url(#pa936aa0901)\" d=\"M 41.345313 190.129807 \nL 376.145312 190.129807 \n\" style=\"fill:none;stroke:#b2b2b2;stroke-dasharray:1.85,0.8;stroke-dashoffset:0;stroke-width:0.5;\"/>\n     </g>\n     <g id=\"line2d_18\">\n      <g>\n       <use style=\"stroke:#000000;stroke-width:0.8;\" x=\"41.345313\" xlink:href=\"#mdaa66cf0af\" y=\"190.129807\"/>\n      </g>\n     </g>\n     <g id=\"text_9\">\n      <!-- −0.75 -->\n      <defs>\n       <path d=\"M 8.203125 72.90625 \nL 55.078125 72.90625 \nL 55.078125 68.703125 \nL 28.609375 0 \nL 18.3125 0 \nL 43.21875 64.59375 \nL 8.203125 64.59375 \nz\n\" id=\"DejaVuSans-55\"/>\n       <path d=\"M 10.796875 72.90625 \nL 49.515625 72.90625 \nL 49.515625 64.59375 \nL 19.828125 64.59375 \nL 19.828125 46.734375 \nQ 21.96875 47.46875 24.109375 47.828125 \nQ 26.265625 48.1875 28.421875 48.1875 \nQ 40.625 48.1875 47.75 41.5 \nQ 54.890625 34.8125 54.890625 23.390625 \nQ 54.890625 11.625 47.5625 5.09375 \nQ 40.234375 -1.421875 26.90625 -1.421875 \nQ 22.3125 -1.421875 17.546875 -0.640625 \nQ 12.796875 0.140625 7.71875 1.703125 \nL 7.71875 11.625 \nQ 12.109375 9.234375 16.796875 8.0625 \nQ 21.484375 6.890625 26.703125 6.890625 \nQ 35.15625 6.890625 40.078125 11.328125 \nQ 45.015625 15.765625 45.015625 23.390625 \nQ 45.015625 31 40.078125 35.4375 \nQ 35.15625 39.890625 26.703125 39.890625 \nQ 22.75 39.890625 18.8125 39.015625 \nQ 14.890625 38.140625 10.796875 36.28125 \nz\n\" id=\"DejaVuSans-53\"/>\n      </defs>\n      <g transform=\"translate(7.2 193.929026)scale(0.1 -0.1)\">\n       <use xlink:href=\"#DejaVuSans-8722\"/>\n       <use x=\"83.789062\" xlink:href=\"#DejaVuSans-48\"/>\n       <use x=\"147.412109\" xlink:href=\"#DejaVuSans-46\"/>\n       <use x=\"179.199219\" xlink:href=\"#DejaVuSans-55\"/>\n       <use x=\"242.822266\" xlink:href=\"#DejaVuSans-53\"/>\n      </g>\n     </g>\n    </g>\n    <g id=\"ytick_3\">\n     <g id=\"line2d_19\">\n      <path clip-path=\"url(#pa936aa0901)\" d=\"M 41.345313 165.399871 \nL 376.145312 165.399871 \n\" style=\"fill:none;stroke:#b2b2b2;stroke-dasharray:1.85,0.8;stroke-dashoffset:0;stroke-width:0.5;\"/>\n     </g>\n     <g id=\"line2d_20\">\n      <g>\n       <use style=\"stroke:#000000;stroke-width:0.8;\" x=\"41.345313\" xlink:href=\"#mdaa66cf0af\" y=\"165.399871\"/>\n      </g>\n     </g>\n     <g id=\"text_10\">\n      <!-- −0.50 -->\n      <g transform=\"translate(7.2 169.199089)scale(0.1 -0.1)\">\n       <use xlink:href=\"#DejaVuSans-8722\"/>\n       <use x=\"83.789062\" xlink:href=\"#DejaVuSans-48\"/>\n       <use x=\"147.412109\" xlink:href=\"#DejaVuSans-46\"/>\n       <use x=\"179.199219\" xlink:href=\"#DejaVuSans-53\"/>\n       <use x=\"242.822266\" xlink:href=\"#DejaVuSans-48\"/>\n      </g>\n     </g>\n    </g>\n    <g id=\"ytick_4\">\n     <g id=\"line2d_21\">\n      <path clip-path=\"url(#pa936aa0901)\" d=\"M 41.345313 140.669935 \nL 376.145312 140.669935 \n\" style=\"fill:none;stroke:#b2b2b2;stroke-dasharray:1.85,0.8;stroke-dashoffset:0;stroke-width:0.5;\"/>\n     </g>\n     <g id=\"line2d_22\">\n      <g>\n       <use style=\"stroke:#000000;stroke-width:0.8;\" x=\"41.345313\" xlink:href=\"#mdaa66cf0af\" y=\"140.669935\"/>\n      </g>\n     </g>\n     <g id=\"text_11\">\n      <!-- −0.25 -->\n      <g transform=\"translate(7.2 144.469153)scale(0.1 -0.1)\">\n       <use xlink:href=\"#DejaVuSans-8722\"/>\n       <use x=\"83.789062\" xlink:href=\"#DejaVuSans-48\"/>\n       <use x=\"147.412109\" xlink:href=\"#DejaVuSans-46\"/>\n       <use x=\"179.199219\" xlink:href=\"#DejaVuSans-50\"/>\n       <use x=\"242.822266\" xlink:href=\"#DejaVuSans-53\"/>\n      </g>\n     </g>\n    </g>\n    <g id=\"ytick_5\">\n     <g id=\"line2d_23\">\n      <path clip-path=\"url(#pa936aa0901)\" d=\"M 41.345313 115.939999 \nL 376.145312 115.939999 \n\" style=\"fill:none;stroke:#b2b2b2;stroke-dasharray:1.85,0.8;stroke-dashoffset:0;stroke-width:0.5;\"/>\n     </g>\n     <g id=\"line2d_24\">\n      <g>\n       <use style=\"stroke:#000000;stroke-width:0.8;\" x=\"41.345313\" xlink:href=\"#mdaa66cf0af\" y=\"115.939999\"/>\n      </g>\n     </g>\n     <g id=\"text_12\">\n      <!-- 0.00 -->\n      <g transform=\"translate(15.579688 119.739217)scale(0.1 -0.1)\">\n       <use xlink:href=\"#DejaVuSans-48\"/>\n       <use x=\"63.623047\" xlink:href=\"#DejaVuSans-46\"/>\n       <use x=\"95.410156\" xlink:href=\"#DejaVuSans-48\"/>\n       <use x=\"159.033203\" xlink:href=\"#DejaVuSans-48\"/>\n      </g>\n     </g>\n    </g>\n    <g id=\"ytick_6\">\n     <g id=\"line2d_25\">\n      <path clip-path=\"url(#pa936aa0901)\" d=\"M 41.345313 91.210062 \nL 376.145312 91.210062 \n\" style=\"fill:none;stroke:#b2b2b2;stroke-dasharray:1.85,0.8;stroke-dashoffset:0;stroke-width:0.5;\"/>\n     </g>\n     <g id=\"line2d_26\">\n      <g>\n       <use style=\"stroke:#000000;stroke-width:0.8;\" x=\"41.345313\" xlink:href=\"#mdaa66cf0af\" y=\"91.210062\"/>\n      </g>\n     </g>\n     <g id=\"text_13\">\n      <!-- 0.25 -->\n      <g transform=\"translate(15.579688 95.009281)scale(0.1 -0.1)\">\n       <use xlink:href=\"#DejaVuSans-48\"/>\n       <use x=\"63.623047\" xlink:href=\"#DejaVuSans-46\"/>\n       <use x=\"95.410156\" xlink:href=\"#DejaVuSans-50\"/>\n       <use x=\"159.033203\" xlink:href=\"#DejaVuSans-53\"/>\n      </g>\n     </g>\n    </g>\n    <g id=\"ytick_7\">\n     <g id=\"line2d_27\">\n      <path clip-path=\"url(#pa936aa0901)\" d=\"M 41.345313 66.480126 \nL 376.145312 66.480126 \n\" style=\"fill:none;stroke:#b2b2b2;stroke-dasharray:1.85,0.8;stroke-dashoffset:0;stroke-width:0.5;\"/>\n     </g>\n     <g id=\"line2d_28\">\n      <g>\n       <use style=\"stroke:#000000;stroke-width:0.8;\" x=\"41.345313\" xlink:href=\"#mdaa66cf0af\" y=\"66.480126\"/>\n      </g>\n     </g>\n     <g id=\"text_14\">\n      <!-- 0.50 -->\n      <g transform=\"translate(15.579688 70.279345)scale(0.1 -0.1)\">\n       <use xlink:href=\"#DejaVuSans-48\"/>\n       <use x=\"63.623047\" xlink:href=\"#DejaVuSans-46\"/>\n       <use x=\"95.410156\" xlink:href=\"#DejaVuSans-53\"/>\n       <use x=\"159.033203\" xlink:href=\"#DejaVuSans-48\"/>\n      </g>\n     </g>\n    </g>\n    <g id=\"ytick_8\">\n     <g id=\"line2d_29\">\n      <path clip-path=\"url(#pa936aa0901)\" d=\"M 41.345313 41.75019 \nL 376.145312 41.75019 \n\" style=\"fill:none;stroke:#b2b2b2;stroke-dasharray:1.85,0.8;stroke-dashoffset:0;stroke-width:0.5;\"/>\n     </g>\n     <g id=\"line2d_30\">\n      <g>\n       <use style=\"stroke:#000000;stroke-width:0.8;\" x=\"41.345313\" xlink:href=\"#mdaa66cf0af\" y=\"41.75019\"/>\n      </g>\n     </g>\n     <g id=\"text_15\">\n      <!-- 0.75 -->\n      <g transform=\"translate(15.579688 45.549409)scale(0.1 -0.1)\">\n       <use xlink:href=\"#DejaVuSans-48\"/>\n       <use x=\"63.623047\" xlink:href=\"#DejaVuSans-46\"/>\n       <use x=\"95.410156\" xlink:href=\"#DejaVuSans-55\"/>\n       <use x=\"159.033203\" xlink:href=\"#DejaVuSans-53\"/>\n      </g>\n     </g>\n    </g>\n    <g id=\"ytick_9\">\n     <g id=\"line2d_31\">\n      <path clip-path=\"url(#pa936aa0901)\" d=\"M 41.345313 17.020254 \nL 376.145312 17.020254 \n\" style=\"fill:none;stroke:#b2b2b2;stroke-dasharray:1.85,0.8;stroke-dashoffset:0;stroke-width:0.5;\"/>\n     </g>\n     <g id=\"line2d_32\">\n      <g>\n       <use style=\"stroke:#000000;stroke-width:0.8;\" x=\"41.345313\" xlink:href=\"#mdaa66cf0af\" y=\"17.020254\"/>\n      </g>\n     </g>\n     <g id=\"text_16\">\n      <!-- 1.00 -->\n      <g transform=\"translate(15.579688 20.819473)scale(0.1 -0.1)\">\n       <use xlink:href=\"#DejaVuSans-49\"/>\n       <use x=\"63.623047\" xlink:href=\"#DejaVuSans-46\"/>\n       <use x=\"95.410156\" xlink:href=\"#DejaVuSans-48\"/>\n       <use x=\"159.033203\" xlink:href=\"#DejaVuSans-48\"/>\n      </g>\n     </g>\n    </g>\n   </g>\n   <g id=\"line2d_33\">\n    <path clip-path=\"url(#pa936aa0901)\" d=\"M 56.563494 205.887468 \nL 59.637874 210.205009 \nL 62.712255 213.139269 \nL 65.786635 214.647188 \nL 68.861015 214.706638 \nL 71.935395 213.316747 \nL 75.009775 210.497911 \nL 78.084155 206.291494 \nL 81.158536 200.759224 \nL 84.232916 193.982282 \nL 87.307296 186.060117 \nL 90.381676 177.108981 \nL 93.456056 167.260228 \nL 96.530436 156.658381 \nL 99.604817 145.459016 \nL 102.679197 133.826477 \nL 105.753577 121.931465 \nL 108.827957 109.948532 \nL 111.902337 98.05352 \nL 114.976717 86.420981 \nL 118.051098 75.221616 \nL 121.125478 64.619769 \nL 124.199858 54.771016 \nL 127.274238 45.81988 \nL 130.348618 37.897715 \nL 133.422998 31.120773 \nL 136.497379 25.588503 \nL 139.571759 21.382086 \nL 142.646139 18.56325 \nL 145.720519 17.173359 \nL 148.794899 17.232809 \nL 151.869279 18.740728 \nL 154.94366 21.674988 \nL 158.01804 25.992529 \nL 161.09242 31.629996 \nL 164.1668 38.504662 \nL 167.24118 46.515644 \nL 170.31556 55.545387 \nL 173.389941 65.461384 \nL 176.464321 76.118125 \nL 179.538701 87.359228 \nL 182.613081 99.019737 \nL 185.687461 110.92854 \nL 188.761841 122.910883 \nL 191.836222 134.790933 \nL 194.910602 146.394356 \nL 197.984982 157.550881 \nL 201.059362 168.09679 \nL 204.133742 177.87733 \nL 207.208122 186.748977 \nL 210.282503 194.581545 \nL 213.356883 201.260095 \nL 216.431263 206.686625 \nL 219.505643 210.781502 \nL 222.580023 213.484637 \nL 225.654403 214.756364 \nL 228.728784 214.578019 \nL 231.803164 212.952221 \nL 234.877544 209.902827 \nL 237.951924 205.474585 \nL 241.026304 199.732477 \nL 244.100684 192.760765 \nL 247.175065 184.661754 \nL 250.249445 175.554293 \nL 253.323825 165.572028 \nL 256.398205 154.861442 \nL 259.472585 143.579708 \nL 262.546965 131.892378 \nL 265.621346 119.970956 \nL 268.695726 107.990383 \nL 271.770106 96.126465 \nL 274.844486 84.553299 \nL 277.918866 73.440713 \nL 280.993246 62.95178 \nL 284.067627 53.240416 \nL 287.142007 44.449131 \nL 290.216387 36.706932 \nL 293.290767 30.12743 \nL 296.365147 24.807176 \nL 299.439527 20.824241 \nL 302.513908 18.237073 \nL 305.588288 17.083636 \nL 308.662668 17.380857 \nL 311.737048 19.124375 \nL 314.811428 22.288603 \nL 317.885808 26.827109 \nL 320.960189 32.673293 \nL 324.034569 39.741366 \nL 327.108949 47.927608 \nL 330.183329 57.111891 \nL 333.257709 67.159441 \nL 336.332089 77.922816 \nL 339.40647 89.244071 \nL 342.48085 100.957072 \nL 345.55523 112.889939 \nL 348.62961 124.867563 \nL 351.70399 136.714181 \nL 354.77837 148.25595 \nL 357.852751 159.323503 \nL 360.927131 169.754428 \n\" style=\"fill:none;stroke:#348abd;stroke-linecap:square;stroke-width:2;\"/>\n   </g>\n   <g id=\"patch_3\">\n    <path d=\"M 41.345313 224.64 \nL 41.345313 7.2 \n\" style=\"fill:none;stroke:#bcbcbc;stroke-linecap:square;stroke-linejoin:miter;stroke-width:0.8;\"/>\n   </g>\n   <g id=\"patch_4\">\n    <path d=\"M 376.145312 224.64 \nL 376.145312 7.2 \n\" style=\"fill:none;stroke:#bcbcbc;stroke-linecap:square;stroke-linejoin:miter;stroke-width:0.8;\"/>\n   </g>\n   <g id=\"patch_5\">\n    <path d=\"M 41.345313 224.64 \nL 376.145312 224.64 \n\" style=\"fill:none;stroke:#bcbcbc;stroke-linecap:square;stroke-linejoin:miter;stroke-width:0.8;\"/>\n   </g>\n   <g id=\"patch_6\">\n    <path d=\"M 41.345313 7.2 \nL 376.145312 7.2 \n\" style=\"fill:none;stroke:#bcbcbc;stroke-linecap:square;stroke-linejoin:miter;stroke-width:0.8;\"/>\n   </g>\n  </g>\n </g>\n <defs>\n  <clipPath id=\"pa936aa0901\">\n   <rect height=\"217.44\" width=\"334.8\" x=\"41.345313\" y=\"7.2\"/>\n  </clipPath>\n </defs>\n</svg>\n"
          },
          "metadata": {
            "needs_background": "light"
          }
        }
      ],
      "source": [
        "x = np.linspace(-2, 10, 100)\n",
        "plt.plot(x, np.sin(x));"
      ]
    },
    {
      "cell_type": "markdown",
      "metadata": {
        "ein.tags": "worksheet-0",
        "id": "KLyxCmn6X4fP"
      },
      "source": [
        "We can add two vectors together, assuming that all their dimensions are identical. Our array $x$ has one dimension of size 100. We can add another random vector of size 100 to it, containing numbers drawn from a uniform probability distribution between -0.1 and 0.1 (these represent some random “noise” which is added to our sine curve)."
      ]
    },
    {
      "cell_type": "code",
      "execution_count": 24,
      "metadata": {
        "autoscroll": false,
        "ein.hycell": false,
        "ein.tags": "worksheet-0",
        "id": "R0BwjbkCX4fQ",
        "outputId": "8654faf2-c315-49d0-ef28-b21917f4b08e",
        "colab": {
          "base_uri": "https://localhost:8080/",
          "height": 348
        }
      },
      "outputs": [
        {
          "output_type": "display_data",
          "data": {
            "text/plain": [
              "<Figure size 432x288 with 1 Axes>"
            ],
            "image/svg+xml": "<?xml version=\"1.0\" encoding=\"utf-8\" standalone=\"no\"?>\n<!DOCTYPE svg PUBLIC \"-//W3C//DTD SVG 1.1//EN\"\n  \"http://www.w3.org/Graphics/SVG/1.1/DTD/svg11.dtd\">\n<!-- Created with matplotlib (https://matplotlib.org/) -->\n<svg height=\"245.018125pt\" version=\"1.1\" viewBox=\"0 0 376.982813 245.018125\" width=\"376.982813pt\" xmlns=\"http://www.w3.org/2000/svg\" xmlns:xlink=\"http://www.w3.org/1999/xlink\">\n <defs>\n  <style type=\"text/css\">\n*{stroke-linecap:butt;stroke-linejoin:round;}\n  </style>\n </defs>\n <g id=\"figure_1\">\n  <g id=\"patch_1\">\n   <path d=\"M 0 245.018125 \nL 376.982813 245.018125 \nL 376.982813 0 \nL 0 0 \nz\n\" style=\"fill:none;\"/>\n  </g>\n  <g id=\"axes_1\">\n   <g id=\"patch_2\">\n    <path d=\"M 34.982813 224.64 \nL 369.782813 224.64 \nL 369.782813 7.2 \nL 34.982813 7.2 \nz\n\" style=\"fill:#eeeeee;\"/>\n   </g>\n   <g id=\"matplotlib.axis_1\">\n    <g id=\"xtick_1\">\n     <g id=\"line2d_1\">\n      <path clip-path=\"url(#p66831b60d0)\" d=\"M 50.200994 224.64 \nL 50.200994 7.2 \n\" style=\"fill:none;stroke:#b2b2b2;stroke-dasharray:1.85,0.8;stroke-dashoffset:0;stroke-width:0.5;\"/>\n     </g>\n     <g id=\"line2d_2\">\n      <defs>\n       <path d=\"M 0 0 \nL 0 -3.5 \n\" id=\"m53afbfaad1\" style=\"stroke:#000000;stroke-width:0.8;\"/>\n      </defs>\n      <g>\n       <use style=\"stroke:#000000;stroke-width:0.8;\" x=\"50.200994\" xlink:href=\"#m53afbfaad1\" y=\"224.64\"/>\n      </g>\n     </g>\n     <g id=\"text_1\">\n      <!-- 0 -->\n      <defs>\n       <path d=\"M 31.78125 66.40625 \nQ 24.171875 66.40625 20.328125 58.90625 \nQ 16.5 51.421875 16.5 36.375 \nQ 16.5 21.390625 20.328125 13.890625 \nQ 24.171875 6.390625 31.78125 6.390625 \nQ 39.453125 6.390625 43.28125 13.890625 \nQ 47.125 21.390625 47.125 36.375 \nQ 47.125 51.421875 43.28125 58.90625 \nQ 39.453125 66.40625 31.78125 66.40625 \nz\nM 31.78125 74.21875 \nQ 44.046875 74.21875 50.515625 64.515625 \nQ 56.984375 54.828125 56.984375 36.375 \nQ 56.984375 17.96875 50.515625 8.265625 \nQ 44.046875 -1.421875 31.78125 -1.421875 \nQ 19.53125 -1.421875 13.0625 8.265625 \nQ 6.59375 17.96875 6.59375 36.375 \nQ 6.59375 54.828125 13.0625 64.515625 \nQ 19.53125 74.21875 31.78125 74.21875 \nz\n\" id=\"DejaVuSans-48\"/>\n      </defs>\n      <g transform=\"translate(47.019744 235.738437)scale(0.1 -0.1)\">\n       <use xlink:href=\"#DejaVuSans-48\"/>\n      </g>\n     </g>\n    </g>\n    <g id=\"xtick_2\">\n     <g id=\"line2d_3\">\n      <path clip-path=\"url(#p66831b60d0)\" d=\"M 111.073722 224.64 \nL 111.073722 7.2 \n\" style=\"fill:none;stroke:#b2b2b2;stroke-dasharray:1.85,0.8;stroke-dashoffset:0;stroke-width:0.5;\"/>\n     </g>\n     <g id=\"line2d_4\">\n      <g>\n       <use style=\"stroke:#000000;stroke-width:0.8;\" x=\"111.073722\" xlink:href=\"#m53afbfaad1\" y=\"224.64\"/>\n      </g>\n     </g>\n     <g id=\"text_2\">\n      <!-- 2 -->\n      <defs>\n       <path d=\"M 19.1875 8.296875 \nL 53.609375 8.296875 \nL 53.609375 0 \nL 7.328125 0 \nL 7.328125 8.296875 \nQ 12.9375 14.109375 22.625 23.890625 \nQ 32.328125 33.6875 34.8125 36.53125 \nQ 39.546875 41.84375 41.421875 45.53125 \nQ 43.3125 49.21875 43.3125 52.78125 \nQ 43.3125 58.59375 39.234375 62.25 \nQ 35.15625 65.921875 28.609375 65.921875 \nQ 23.96875 65.921875 18.8125 64.3125 \nQ 13.671875 62.703125 7.8125 59.421875 \nL 7.8125 69.390625 \nQ 13.765625 71.78125 18.9375 73 \nQ 24.125 74.21875 28.421875 74.21875 \nQ 39.75 74.21875 46.484375 68.546875 \nQ 53.21875 62.890625 53.21875 53.421875 \nQ 53.21875 48.921875 51.53125 44.890625 \nQ 49.859375 40.875 45.40625 35.40625 \nQ 44.1875 33.984375 37.640625 27.21875 \nQ 31.109375 20.453125 19.1875 8.296875 \nz\n\" id=\"DejaVuSans-50\"/>\n      </defs>\n      <g transform=\"translate(107.892472 235.738437)scale(0.1 -0.1)\">\n       <use xlink:href=\"#DejaVuSans-50\"/>\n      </g>\n     </g>\n    </g>\n    <g id=\"xtick_3\">\n     <g id=\"line2d_5\">\n      <path clip-path=\"url(#p66831b60d0)\" d=\"M 171.946449 224.64 \nL 171.946449 7.2 \n\" style=\"fill:none;stroke:#b2b2b2;stroke-dasharray:1.85,0.8;stroke-dashoffset:0;stroke-width:0.5;\"/>\n     </g>\n     <g id=\"line2d_6\">\n      <g>\n       <use style=\"stroke:#000000;stroke-width:0.8;\" x=\"171.946449\" xlink:href=\"#m53afbfaad1\" y=\"224.64\"/>\n      </g>\n     </g>\n     <g id=\"text_3\">\n      <!-- 4 -->\n      <defs>\n       <path d=\"M 37.796875 64.3125 \nL 12.890625 25.390625 \nL 37.796875 25.390625 \nz\nM 35.203125 72.90625 \nL 47.609375 72.90625 \nL 47.609375 25.390625 \nL 58.015625 25.390625 \nL 58.015625 17.1875 \nL 47.609375 17.1875 \nL 47.609375 0 \nL 37.796875 0 \nL 37.796875 17.1875 \nL 4.890625 17.1875 \nL 4.890625 26.703125 \nz\n\" id=\"DejaVuSans-52\"/>\n      </defs>\n      <g transform=\"translate(168.765199 235.738437)scale(0.1 -0.1)\">\n       <use xlink:href=\"#DejaVuSans-52\"/>\n      </g>\n     </g>\n    </g>\n    <g id=\"xtick_4\">\n     <g id=\"line2d_7\">\n      <path clip-path=\"url(#p66831b60d0)\" d=\"M 232.819176 224.64 \nL 232.819176 7.2 \n\" style=\"fill:none;stroke:#b2b2b2;stroke-dasharray:1.85,0.8;stroke-dashoffset:0;stroke-width:0.5;\"/>\n     </g>\n     <g id=\"line2d_8\">\n      <g>\n       <use style=\"stroke:#000000;stroke-width:0.8;\" x=\"232.819176\" xlink:href=\"#m53afbfaad1\" y=\"224.64\"/>\n      </g>\n     </g>\n     <g id=\"text_4\">\n      <!-- 6 -->\n      <defs>\n       <path d=\"M 33.015625 40.375 \nQ 26.375 40.375 22.484375 35.828125 \nQ 18.609375 31.296875 18.609375 23.390625 \nQ 18.609375 15.53125 22.484375 10.953125 \nQ 26.375 6.390625 33.015625 6.390625 \nQ 39.65625 6.390625 43.53125 10.953125 \nQ 47.40625 15.53125 47.40625 23.390625 \nQ 47.40625 31.296875 43.53125 35.828125 \nQ 39.65625 40.375 33.015625 40.375 \nz\nM 52.59375 71.296875 \nL 52.59375 62.3125 \nQ 48.875 64.0625 45.09375 64.984375 \nQ 41.3125 65.921875 37.59375 65.921875 \nQ 27.828125 65.921875 22.671875 59.328125 \nQ 17.53125 52.734375 16.796875 39.40625 \nQ 19.671875 43.65625 24.015625 45.921875 \nQ 28.375 48.1875 33.59375 48.1875 \nQ 44.578125 48.1875 50.953125 41.515625 \nQ 57.328125 34.859375 57.328125 23.390625 \nQ 57.328125 12.15625 50.6875 5.359375 \nQ 44.046875 -1.421875 33.015625 -1.421875 \nQ 20.359375 -1.421875 13.671875 8.265625 \nQ 6.984375 17.96875 6.984375 36.375 \nQ 6.984375 53.65625 15.1875 63.9375 \nQ 23.390625 74.21875 37.203125 74.21875 \nQ 40.921875 74.21875 44.703125 73.484375 \nQ 48.484375 72.75 52.59375 71.296875 \nz\n\" id=\"DejaVuSans-54\"/>\n      </defs>\n      <g transform=\"translate(229.637926 235.738437)scale(0.1 -0.1)\">\n       <use xlink:href=\"#DejaVuSans-54\"/>\n      </g>\n     </g>\n    </g>\n    <g id=\"xtick_5\">\n     <g id=\"line2d_9\">\n      <path clip-path=\"url(#p66831b60d0)\" d=\"M 293.691903 224.64 \nL 293.691903 7.2 \n\" style=\"fill:none;stroke:#b2b2b2;stroke-dasharray:1.85,0.8;stroke-dashoffset:0;stroke-width:0.5;\"/>\n     </g>\n     <g id=\"line2d_10\">\n      <g>\n       <use style=\"stroke:#000000;stroke-width:0.8;\" x=\"293.691903\" xlink:href=\"#m53afbfaad1\" y=\"224.64\"/>\n      </g>\n     </g>\n     <g id=\"text_5\">\n      <!-- 8 -->\n      <defs>\n       <path d=\"M 31.78125 34.625 \nQ 24.75 34.625 20.71875 30.859375 \nQ 16.703125 27.09375 16.703125 20.515625 \nQ 16.703125 13.921875 20.71875 10.15625 \nQ 24.75 6.390625 31.78125 6.390625 \nQ 38.8125 6.390625 42.859375 10.171875 \nQ 46.921875 13.96875 46.921875 20.515625 \nQ 46.921875 27.09375 42.890625 30.859375 \nQ 38.875 34.625 31.78125 34.625 \nz\nM 21.921875 38.8125 \nQ 15.578125 40.375 12.03125 44.71875 \nQ 8.5 49.078125 8.5 55.328125 \nQ 8.5 64.0625 14.71875 69.140625 \nQ 20.953125 74.21875 31.78125 74.21875 \nQ 42.671875 74.21875 48.875 69.140625 \nQ 55.078125 64.0625 55.078125 55.328125 \nQ 55.078125 49.078125 51.53125 44.71875 \nQ 48 40.375 41.703125 38.8125 \nQ 48.828125 37.15625 52.796875 32.3125 \nQ 56.78125 27.484375 56.78125 20.515625 \nQ 56.78125 9.90625 50.3125 4.234375 \nQ 43.84375 -1.421875 31.78125 -1.421875 \nQ 19.734375 -1.421875 13.25 4.234375 \nQ 6.78125 9.90625 6.78125 20.515625 \nQ 6.78125 27.484375 10.78125 32.3125 \nQ 14.796875 37.15625 21.921875 38.8125 \nz\nM 18.3125 54.390625 \nQ 18.3125 48.734375 21.84375 45.5625 \nQ 25.390625 42.390625 31.78125 42.390625 \nQ 38.140625 42.390625 41.71875 45.5625 \nQ 45.3125 48.734375 45.3125 54.390625 \nQ 45.3125 60.0625 41.71875 63.234375 \nQ 38.140625 66.40625 31.78125 66.40625 \nQ 25.390625 66.40625 21.84375 63.234375 \nQ 18.3125 60.0625 18.3125 54.390625 \nz\n\" id=\"DejaVuSans-56\"/>\n      </defs>\n      <g transform=\"translate(290.510653 235.738437)scale(0.1 -0.1)\">\n       <use xlink:href=\"#DejaVuSans-56\"/>\n      </g>\n     </g>\n    </g>\n    <g id=\"xtick_6\">\n     <g id=\"line2d_11\">\n      <path clip-path=\"url(#p66831b60d0)\" d=\"M 354.564631 224.64 \nL 354.564631 7.2 \n\" style=\"fill:none;stroke:#b2b2b2;stroke-dasharray:1.85,0.8;stroke-dashoffset:0;stroke-width:0.5;\"/>\n     </g>\n     <g id=\"line2d_12\">\n      <g>\n       <use style=\"stroke:#000000;stroke-width:0.8;\" x=\"354.564631\" xlink:href=\"#m53afbfaad1\" y=\"224.64\"/>\n      </g>\n     </g>\n     <g id=\"text_6\">\n      <!-- 10 -->\n      <defs>\n       <path d=\"M 12.40625 8.296875 \nL 28.515625 8.296875 \nL 28.515625 63.921875 \nL 10.984375 60.40625 \nL 10.984375 69.390625 \nL 28.421875 72.90625 \nL 38.28125 72.90625 \nL 38.28125 8.296875 \nL 54.390625 8.296875 \nL 54.390625 0 \nL 12.40625 0 \nz\n\" id=\"DejaVuSans-49\"/>\n      </defs>\n      <g transform=\"translate(348.202131 235.738437)scale(0.1 -0.1)\">\n       <use xlink:href=\"#DejaVuSans-49\"/>\n       <use x=\"63.623047\" xlink:href=\"#DejaVuSans-48\"/>\n      </g>\n     </g>\n    </g>\n   </g>\n   <g id=\"matplotlib.axis_2\">\n    <g id=\"ytick_1\">\n     <g id=\"line2d_13\">\n      <path clip-path=\"url(#p66831b60d0)\" d=\"M 34.982813 199.465402 \nL 369.782813 199.465402 \n\" style=\"fill:none;stroke:#b2b2b2;stroke-dasharray:1.85,0.8;stroke-dashoffset:0;stroke-width:0.5;\"/>\n     </g>\n     <g id=\"line2d_14\">\n      <defs>\n       <path d=\"M 0 0 \nL 3.5 0 \n\" id=\"m818dac6ab3\" style=\"stroke:#000000;stroke-width:0.8;\"/>\n      </defs>\n      <g>\n       <use style=\"stroke:#000000;stroke-width:0.8;\" x=\"34.982813\" xlink:href=\"#m818dac6ab3\" y=\"199.465402\"/>\n      </g>\n     </g>\n     <g id=\"text_7\">\n      <!-- −1.0 -->\n      <defs>\n       <path d=\"M 10.59375 35.5 \nL 73.1875 35.5 \nL 73.1875 27.203125 \nL 10.59375 27.203125 \nz\n\" id=\"DejaVuSans-8722\"/>\n       <path d=\"M 10.6875 12.40625 \nL 21 12.40625 \nL 21 0 \nL 10.6875 0 \nz\n\" id=\"DejaVuSans-46\"/>\n      </defs>\n      <g transform=\"translate(7.2 203.26462)scale(0.1 -0.1)\">\n       <use xlink:href=\"#DejaVuSans-8722\"/>\n       <use x=\"83.789062\" xlink:href=\"#DejaVuSans-49\"/>\n       <use x=\"147.412109\" xlink:href=\"#DejaVuSans-46\"/>\n       <use x=\"179.199219\" xlink:href=\"#DejaVuSans-48\"/>\n      </g>\n     </g>\n    </g>\n    <g id=\"ytick_2\">\n     <g id=\"line2d_15\">\n      <path clip-path=\"url(#p66831b60d0)\" d=\"M 34.982813 156.207854 \nL 369.782813 156.207854 \n\" style=\"fill:none;stroke:#b2b2b2;stroke-dasharray:1.85,0.8;stroke-dashoffset:0;stroke-width:0.5;\"/>\n     </g>\n     <g id=\"line2d_16\">\n      <g>\n       <use style=\"stroke:#000000;stroke-width:0.8;\" x=\"34.982813\" xlink:href=\"#m818dac6ab3\" y=\"156.207854\"/>\n      </g>\n     </g>\n     <g id=\"text_8\">\n      <!-- −0.5 -->\n      <defs>\n       <path d=\"M 10.796875 72.90625 \nL 49.515625 72.90625 \nL 49.515625 64.59375 \nL 19.828125 64.59375 \nL 19.828125 46.734375 \nQ 21.96875 47.46875 24.109375 47.828125 \nQ 26.265625 48.1875 28.421875 48.1875 \nQ 40.625 48.1875 47.75 41.5 \nQ 54.890625 34.8125 54.890625 23.390625 \nQ 54.890625 11.625 47.5625 5.09375 \nQ 40.234375 -1.421875 26.90625 -1.421875 \nQ 22.3125 -1.421875 17.546875 -0.640625 \nQ 12.796875 0.140625 7.71875 1.703125 \nL 7.71875 11.625 \nQ 12.109375 9.234375 16.796875 8.0625 \nQ 21.484375 6.890625 26.703125 6.890625 \nQ 35.15625 6.890625 40.078125 11.328125 \nQ 45.015625 15.765625 45.015625 23.390625 \nQ 45.015625 31 40.078125 35.4375 \nQ 35.15625 39.890625 26.703125 39.890625 \nQ 22.75 39.890625 18.8125 39.015625 \nQ 14.890625 38.140625 10.796875 36.28125 \nz\n\" id=\"DejaVuSans-53\"/>\n      </defs>\n      <g transform=\"translate(7.2 160.007073)scale(0.1 -0.1)\">\n       <use xlink:href=\"#DejaVuSans-8722\"/>\n       <use x=\"83.789062\" xlink:href=\"#DejaVuSans-48\"/>\n       <use x=\"147.412109\" xlink:href=\"#DejaVuSans-46\"/>\n       <use x=\"179.199219\" xlink:href=\"#DejaVuSans-53\"/>\n      </g>\n     </g>\n    </g>\n    <g id=\"ytick_3\">\n     <g id=\"line2d_17\">\n      <path clip-path=\"url(#p66831b60d0)\" d=\"M 34.982813 112.950306 \nL 369.782813 112.950306 \n\" style=\"fill:none;stroke:#b2b2b2;stroke-dasharray:1.85,0.8;stroke-dashoffset:0;stroke-width:0.5;\"/>\n     </g>\n     <g id=\"line2d_18\">\n      <g>\n       <use style=\"stroke:#000000;stroke-width:0.8;\" x=\"34.982813\" xlink:href=\"#m818dac6ab3\" y=\"112.950306\"/>\n      </g>\n     </g>\n     <g id=\"text_9\">\n      <!-- 0.0 -->\n      <g transform=\"translate(15.579688 116.749525)scale(0.1 -0.1)\">\n       <use xlink:href=\"#DejaVuSans-48\"/>\n       <use x=\"63.623047\" xlink:href=\"#DejaVuSans-46\"/>\n       <use x=\"95.410156\" xlink:href=\"#DejaVuSans-48\"/>\n      </g>\n     </g>\n    </g>\n    <g id=\"ytick_4\">\n     <g id=\"line2d_19\">\n      <path clip-path=\"url(#p66831b60d0)\" d=\"M 34.982813 69.692758 \nL 369.782813 69.692758 \n\" style=\"fill:none;stroke:#b2b2b2;stroke-dasharray:1.85,0.8;stroke-dashoffset:0;stroke-width:0.5;\"/>\n     </g>\n     <g id=\"line2d_20\">\n      <g>\n       <use style=\"stroke:#000000;stroke-width:0.8;\" x=\"34.982813\" xlink:href=\"#m818dac6ab3\" y=\"69.692758\"/>\n      </g>\n     </g>\n     <g id=\"text_10\">\n      <!-- 0.5 -->\n      <g transform=\"translate(15.579688 73.491977)scale(0.1 -0.1)\">\n       <use xlink:href=\"#DejaVuSans-48\"/>\n       <use x=\"63.623047\" xlink:href=\"#DejaVuSans-46\"/>\n       <use x=\"95.410156\" xlink:href=\"#DejaVuSans-53\"/>\n      </g>\n     </g>\n    </g>\n    <g id=\"ytick_5\">\n     <g id=\"line2d_21\">\n      <path clip-path=\"url(#p66831b60d0)\" d=\"M 34.982813 26.43521 \nL 369.782813 26.43521 \n\" style=\"fill:none;stroke:#b2b2b2;stroke-dasharray:1.85,0.8;stroke-dashoffset:0;stroke-width:0.5;\"/>\n     </g>\n     <g id=\"line2d_22\">\n      <g>\n       <use style=\"stroke:#000000;stroke-width:0.8;\" x=\"34.982813\" xlink:href=\"#m818dac6ab3\" y=\"26.43521\"/>\n      </g>\n     </g>\n     <g id=\"text_11\">\n      <!-- 1.0 -->\n      <g transform=\"translate(15.579688 30.234429)scale(0.1 -0.1)\">\n       <use xlink:href=\"#DejaVuSans-49\"/>\n       <use x=\"63.623047\" xlink:href=\"#DejaVuSans-46\"/>\n       <use x=\"95.410156\" xlink:href=\"#DejaVuSans-48\"/>\n      </g>\n     </g>\n    </g>\n   </g>\n   <g id=\"line2d_23\">\n    <path clip-path=\"url(#p66831b60d0)\" d=\"M 50.200994 124.279549 \nL 53.275374 104.753739 \nL 56.349755 108.069556 \nL 59.424135 110.345402 \nL 62.498515 85.818973 \nL 65.572895 86.015028 \nL 68.647275 63.660525 \nL 71.721655 57.98374 \nL 74.796036 62.023205 \nL 77.870416 50.182631 \nL 80.944796 41.218174 \nL 84.019176 52.057291 \nL 87.093556 37.922592 \nL 90.167936 20.904802 \nL 93.242317 35.406783 \nL 96.316697 33.983217 \nL 99.391077 35.710683 \nL 102.465457 39.231599 \nL 105.539837 55.378014 \nL 108.614217 36.798064 \nL 111.688598 40.332386 \nL 114.762978 61.781333 \nL 117.837358 56.002772 \nL 120.911738 68.351315 \nL 123.986118 54.361133 \nL 127.060498 85.089722 \nL 130.134879 84.473991 \nL 133.209259 73.667266 \nL 136.283639 93.792434 \nL 139.358019 117.437954 \nL 142.432399 117.765463 \nL 145.506779 115.784321 \nL 148.58116 136.250629 \nL 151.65554 134.045392 \nL 154.72992 137.144553 \nL 157.8043 155.098382 \nL 160.87868 166.950421 \nL 163.95306 148.188377 \nL 167.027441 171.788284 \nL 170.101821 190.934343 \nL 173.176201 195.491019 \nL 176.250581 187.05899 \nL 179.324961 202.781313 \nL 182.399341 197.658499 \nL 185.473722 197.808739 \nL 188.548102 206.396988 \nL 191.622482 187.829157 \nL 194.696862 196.604407 \nL 197.771242 214.756364 \nL 200.845622 195.886181 \nL 203.920003 199.248191 \nL 206.994383 198.033346 \nL 210.068763 196.257294 \nL 213.143143 193.915938 \nL 216.217523 172.746984 \nL 219.291903 171.419263 \nL 222.366284 165.52837 \nL 225.440664 173.452795 \nL 228.515044 140.135453 \nL 231.589424 132.725035 \nL 234.663804 143.458058 \nL 237.738184 140.947803 \nL 240.812565 134.047734 \nL 243.886945 108.961528 \nL 246.961325 112.811692 \nL 250.035705 95.394794 \nL 253.110085 85.16283 \nL 256.184465 90.264489 \nL 259.258846 83.007467 \nL 262.333226 79.227031 \nL 265.407606 67.649947 \nL 268.481986 52.969044 \nL 271.556366 58.785878 \nL 274.630746 43.801296 \nL 277.705127 29.63224 \nL 280.779507 31.198442 \nL 283.853887 42.166435 \nL 286.928267 24.04238 \nL 290.002647 17.083636 \nL 293.077027 41.093389 \nL 296.151408 39.553197 \nL 299.225788 27.123847 \nL 302.300168 42.350081 \nL 305.374548 33.831673 \nL 308.448928 67.678224 \nL 311.523308 59.588619 \nL 314.597689 63.155981 \nL 317.672069 82.172724 \nL 320.746449 71.929222 \nL 323.820829 73.978356 \nL 326.895209 104.349526 \nL 329.969589 109.431278 \nL 333.04397 96.55104 \nL 336.11835 106.704186 \nL 339.19273 128.78776 \nL 342.26711 138.218157 \nL 345.34149 144.762834 \nL 348.41587 137.656909 \nL 351.490251 168.643215 \nL 354.564631 179.537425 \n\" style=\"fill:none;stroke:#348abd;stroke-linecap:square;stroke-width:2;\"/>\n   </g>\n   <g id=\"patch_3\">\n    <path d=\"M 34.982813 224.64 \nL 34.982813 7.2 \n\" style=\"fill:none;stroke:#bcbcbc;stroke-linecap:square;stroke-linejoin:miter;stroke-width:0.8;\"/>\n   </g>\n   <g id=\"patch_4\">\n    <path d=\"M 369.782813 224.64 \nL 369.782813 7.2 \n\" style=\"fill:none;stroke:#bcbcbc;stroke-linecap:square;stroke-linejoin:miter;stroke-width:0.8;\"/>\n   </g>\n   <g id=\"patch_5\">\n    <path d=\"M 34.982813 224.64 \nL 369.782813 224.64 \n\" style=\"fill:none;stroke:#bcbcbc;stroke-linecap:square;stroke-linejoin:miter;stroke-width:0.8;\"/>\n   </g>\n   <g id=\"patch_6\">\n    <path d=\"M 34.982813 7.2 \nL 369.782813 7.2 \n\" style=\"fill:none;stroke:#bcbcbc;stroke-linecap:square;stroke-linejoin:miter;stroke-width:0.8;\"/>\n   </g>\n  </g>\n </g>\n <defs>\n  <clipPath id=\"p66831b60d0\">\n   <rect height=\"217.44\" width=\"334.8\" x=\"34.982813\" y=\"7.2\"/>\n  </clipPath>\n </defs>\n</svg>\n"
          },
          "metadata": {
            "needs_background": "light"
          }
        }
      ],
      "source": [
        "x = np.linspace(0, 10, 100)\n",
        "obs = np.sin(x) + np.random.normal(-0.1, 0.1, 100)\n",
        "plt.plot(x, obs);"
      ]
    },
    {
      "cell_type": "markdown",
      "metadata": {
        "ein.tags": "worksheet-0",
        "id": "Em8jKzOpX4fQ"
      },
      "source": [
        "The **central limit theorem** states that the sum of a number of independent random variables tends toward a normal distribution even if the original variables themselves are not normally distributed. We illustrate this result by examining the distribution of the sums of 1000 realizations of a uniformly distributed random variable, plotting the distribution as a histogram. "
      ]
    },
    {
      "cell_type": "code",
      "execution_count": 27,
      "metadata": {
        "autoscroll": false,
        "ein.hycell": false,
        "ein.tags": "worksheet-0",
        "id": "XwT8MA2QX4fQ",
        "outputId": "de41b9f6-22bf-4936-8982-855720677a1e",
        "colab": {
          "base_uri": "https://localhost:8080/",
          "height": 348
        }
      },
      "outputs": [
        {
          "output_type": "display_data",
          "data": {
            "text/plain": [
              "<Figure size 432x288 with 1 Axes>"
            ],
            "image/svg+xml": "<?xml version=\"1.0\" encoding=\"utf-8\" standalone=\"no\"?>\n<!DOCTYPE svg PUBLIC \"-//W3C//DTD SVG 1.1//EN\"\n  \"http://www.w3.org/Graphics/SVG/1.1/DTD/svg11.dtd\">\n<!-- Created with matplotlib (https://matplotlib.org/) -->\n<svg height=\"245.018125pt\" version=\"1.1\" viewBox=\"0 0 381.328125 245.018125\" width=\"381.328125pt\" xmlns=\"http://www.w3.org/2000/svg\" xmlns:xlink=\"http://www.w3.org/1999/xlink\">\n <defs>\n  <style type=\"text/css\">\n*{stroke-linecap:butt;stroke-linejoin:round;}\n  </style>\n </defs>\n <g id=\"figure_1\">\n  <g id=\"patch_1\">\n   <path d=\"M 0 245.018125 \nL 381.328125 245.018125 \nL 381.328125 0 \nL 0 0 \nz\n\" style=\"fill:none;\"/>\n  </g>\n  <g id=\"axes_1\">\n   <g id=\"patch_2\">\n    <path d=\"M 39.328125 224.64 \nL 374.128125 224.64 \nL 374.128125 7.2 \nL 39.328125 7.2 \nz\n\" style=\"fill:#eeeeee;\"/>\n   </g>\n   <g id=\"patch_3\">\n    <path clip-path=\"url(#pe045a6d01c)\" d=\"M 54.546307 224.64 \nL 62.155398 224.64 \nL 62.155398 224.401697 \nL 54.546307 224.401697 \nz\n\" style=\"fill:#348abd;opacity:0.5;\"/>\n   </g>\n   <g id=\"patch_4\">\n    <path clip-path=\"url(#pe045a6d01c)\" d=\"M 62.155398 224.64 \nL 69.764489 224.64 \nL 69.764489 224.64 \nL 62.155398 224.64 \nz\n\" style=\"fill:#348abd;opacity:0.5;\"/>\n   </g>\n   <g id=\"patch_5\">\n    <path clip-path=\"url(#pe045a6d01c)\" d=\"M 69.764489 224.64 \nL 77.37358 224.64 \nL 77.37358 223.92509 \nL 69.764489 223.92509 \nz\n\" style=\"fill:#348abd;opacity:0.5;\"/>\n   </g>\n   <g id=\"patch_6\">\n    <path clip-path=\"url(#pe045a6d01c)\" d=\"M 77.37358 224.64 \nL 84.98267 224.64 \nL 84.98267 223.686786 \nL 77.37358 223.686786 \nz\n\" style=\"fill:#348abd;opacity:0.5;\"/>\n   </g>\n   <g id=\"patch_7\">\n    <path clip-path=\"url(#pe045a6d01c)\" d=\"M 84.98267 224.64 \nL 92.591761 224.64 \nL 92.591761 223.210179 \nL 84.98267 223.210179 \nz\n\" style=\"fill:#348abd;opacity:0.5;\"/>\n   </g>\n   <g id=\"patch_8\">\n    <path clip-path=\"url(#pe045a6d01c)\" d=\"M 92.591761 224.64 \nL 100.200852 224.64 \nL 100.200852 219.635627 \nL 92.591761 219.635627 \nz\n\" style=\"fill:#348abd;opacity:0.5;\"/>\n   </g>\n   <g id=\"patch_9\">\n    <path clip-path=\"url(#pe045a6d01c)\" d=\"M 100.200852 224.64 \nL 107.809943 224.64 \nL 107.809943 217.490896 \nL 100.200852 217.490896 \nz\n\" style=\"fill:#348abd;opacity:0.5;\"/>\n   </g>\n   <g id=\"patch_10\">\n    <path clip-path=\"url(#pe045a6d01c)\" d=\"M 107.809943 224.64 \nL 115.419034 224.64 \nL 115.419034 215.346165 \nL 107.809943 215.346165 \nz\n\" style=\"fill:#348abd;opacity:0.5;\"/>\n   </g>\n   <g id=\"patch_11\">\n    <path clip-path=\"url(#pe045a6d01c)\" d=\"M 115.419034 224.64 \nL 123.028125 224.64 \nL 123.028125 208.673668 \nL 115.419034 208.673668 \nz\n\" style=\"fill:#348abd;opacity:0.5;\"/>\n   </g>\n   <g id=\"patch_12\">\n    <path clip-path=\"url(#pe045a6d01c)\" d=\"M 123.028125 224.64 \nL 130.637216 224.64 \nL 130.637216 199.141529 \nL 123.028125 199.141529 \nz\n\" style=\"fill:#348abd;opacity:0.5;\"/>\n   </g>\n   <g id=\"patch_13\">\n    <path clip-path=\"url(#pe045a6d01c)\" d=\"M 130.637216 224.64 \nL 138.246307 224.64 \nL 138.246307 176.502699 \nL 130.637216 176.502699 \nz\n\" style=\"fill:#348abd;opacity:0.5;\"/>\n   </g>\n   <g id=\"patch_14\">\n    <path clip-path=\"url(#pe045a6d01c)\" d=\"M 138.246307 224.64 \nL 145.855398 224.64 \nL 145.855398 174.834575 \nL 138.246307 174.834575 \nz\n\" style=\"fill:#348abd;opacity:0.5;\"/>\n   </g>\n   <g id=\"patch_15\">\n    <path clip-path=\"url(#pe045a6d01c)\" d=\"M 145.855398 224.64 \nL 153.464489 224.64 \nL 153.464489 155.770298 \nL 145.855398 155.770298 \nz\n\" style=\"fill:#348abd;opacity:0.5;\"/>\n   </g>\n   <g id=\"patch_16\">\n    <path clip-path=\"url(#pe045a6d01c)\" d=\"M 153.464489 224.64 \nL 161.07358 224.64 \nL 161.07358 121.931205 \nL 153.464489 121.931205 \nz\n\" style=\"fill:#348abd;opacity:0.5;\"/>\n   </g>\n   <g id=\"patch_17\">\n    <path clip-path=\"url(#pe045a6d01c)\" d=\"M 161.07358 224.64 \nL 168.68267 224.64 \nL 168.68267 109.062818 \nL 161.07358 109.062818 \nz\n\" style=\"fill:#348abd;opacity:0.5;\"/>\n   </g>\n   <g id=\"patch_18\">\n    <path clip-path=\"url(#pe045a6d01c)\" d=\"M 168.68267 224.64 \nL 176.291761 224.64 \nL 176.291761 91.428361 \nL 168.68267 91.428361 \nz\n\" style=\"fill:#348abd;opacity:0.5;\"/>\n   </g>\n   <g id=\"patch_19\">\n    <path clip-path=\"url(#pe045a6d01c)\" d=\"M 176.291761 224.64 \nL 183.900852 224.64 \nL 183.900852 43.29106 \nL 176.291761 43.29106 \nz\n\" style=\"fill:#348abd;opacity:0.5;\"/>\n   </g>\n   <g id=\"patch_20\">\n    <path clip-path=\"url(#pe045a6d01c)\" d=\"M 183.900852 224.64 \nL 191.509943 224.64 \nL 191.509943 50.201861 \nL 183.900852 50.201861 \nz\n\" style=\"fill:#348abd;opacity:0.5;\"/>\n   </g>\n   <g id=\"patch_21\">\n    <path clip-path=\"url(#pe045a6d01c)\" d=\"M 191.509943 224.64 \nL 199.119034 224.64 \nL 199.119034 17.554286 \nL 191.509943 17.554286 \nz\n\" style=\"fill:#348abd;opacity:0.5;\"/>\n   </g>\n   <g id=\"patch_22\">\n    <path clip-path=\"url(#pe045a6d01c)\" d=\"M 199.119034 224.64 \nL 206.728125 224.64 \nL 206.728125 43.29106 \nL 199.119034 43.29106 \nz\n\" style=\"fill:#348abd;opacity:0.5;\"/>\n   </g>\n   <g id=\"patch_23\">\n    <path clip-path=\"url(#pe045a6d01c)\" d=\"M 206.728125 224.64 \nL 214.337216 224.64 \nL 214.337216 62.117034 \nL 206.728125 62.117034 \nz\n\" style=\"fill:#348abd;opacity:0.5;\"/>\n   </g>\n   <g id=\"patch_24\">\n    <path clip-path=\"url(#pe045a6d01c)\" d=\"M 214.337216 224.64 \nL 221.946307 224.64 \nL 221.946307 41.622936 \nL 214.337216 41.622936 \nz\n\" style=\"fill:#348abd;opacity:0.5;\"/>\n   </g>\n   <g id=\"patch_25\">\n    <path clip-path=\"url(#pe045a6d01c)\" d=\"M 221.946307 224.64 \nL 229.555398 224.64 \nL 229.555398 80.704705 \nL 221.946307 80.704705 \nz\n\" style=\"fill:#348abd;opacity:0.5;\"/>\n   </g>\n   <g id=\"patch_26\">\n    <path clip-path=\"url(#pe045a6d01c)\" d=\"M 229.555398 224.64 \nL 237.164489 224.64 \nL 237.164489 105.249962 \nL 229.555398 105.249962 \nz\n\" style=\"fill:#348abd;opacity:0.5;\"/>\n   </g>\n   <g id=\"patch_27\">\n    <path clip-path=\"url(#pe045a6d01c)\" d=\"M 237.164489 224.64 \nL 244.77358 224.64 \nL 244.77358 91.904968 \nL 237.164489 91.904968 \nz\n\" style=\"fill:#348abd;opacity:0.5;\"/>\n   </g>\n   <g id=\"patch_28\">\n    <path clip-path=\"url(#pe045a6d01c)\" d=\"M 244.77358 224.64 \nL 252.38267 224.64 \nL 252.38267 139.327358 \nL 244.77358 139.327358 \nz\n\" style=\"fill:#348abd;opacity:0.5;\"/>\n   </g>\n   <g id=\"patch_29\">\n    <path clip-path=\"url(#pe045a6d01c)\" d=\"M 252.38267 224.64 \nL 259.991761 224.64 \nL 259.991761 152.672352 \nL 252.38267 152.672352 \nz\n\" style=\"fill:#348abd;opacity:0.5;\"/>\n   </g>\n   <g id=\"patch_30\">\n    <path clip-path=\"url(#pe045a6d01c)\" d=\"M 259.991761 224.64 \nL 267.600852 224.64 \nL 267.600852 178.170824 \nL 259.991761 178.170824 \nz\n\" style=\"fill:#348abd;opacity:0.5;\"/>\n   </g>\n   <g id=\"patch_31\">\n    <path clip-path=\"url(#pe045a6d01c)\" d=\"M 267.600852 224.64 \nL 275.209943 224.64 \nL 275.209943 190.085997 \nL 267.600852 190.085997 \nz\n\" style=\"fill:#348abd;opacity:0.5;\"/>\n   </g>\n   <g id=\"patch_32\">\n    <path clip-path=\"url(#pe045a6d01c)\" d=\"M 275.209943 224.64 \nL 282.819034 224.64 \nL 282.819034 193.898853 \nL 275.209943 193.898853 \nz\n\" style=\"fill:#348abd;opacity:0.5;\"/>\n   </g>\n   <g id=\"patch_33\">\n    <path clip-path=\"url(#pe045a6d01c)\" d=\"M 282.819034 224.64 \nL 290.428125 224.64 \nL 290.428125 208.197061 \nL 282.819034 208.197061 \nz\n\" style=\"fill:#348abd;opacity:0.5;\"/>\n   </g>\n   <g id=\"patch_34\">\n    <path clip-path=\"url(#pe045a6d01c)\" d=\"M 290.428125 224.64 \nL 298.037216 224.64 \nL 298.037216 213.916344 \nL 290.428125 213.916344 \nz\n\" style=\"fill:#348abd;opacity:0.5;\"/>\n   </g>\n   <g id=\"patch_35\">\n    <path clip-path=\"url(#pe045a6d01c)\" d=\"M 298.037216 224.64 \nL 305.646307 224.64 \nL 305.646307 217.014289 \nL 298.037216 217.014289 \nz\n\" style=\"fill:#348abd;opacity:0.5;\"/>\n   </g>\n   <g id=\"patch_36\">\n    <path clip-path=\"url(#pe045a6d01c)\" d=\"M 305.646307 224.64 \nL 313.255398 224.64 \nL 313.255398 219.873931 \nL 305.646307 219.873931 \nz\n\" style=\"fill:#348abd;opacity:0.5;\"/>\n   </g>\n   <g id=\"patch_37\">\n    <path clip-path=\"url(#pe045a6d01c)\" d=\"M 313.255398 224.64 \nL 320.864489 224.64 \nL 320.864489 222.971876 \nL 313.255398 222.971876 \nz\n\" style=\"fill:#348abd;opacity:0.5;\"/>\n   </g>\n   <g id=\"patch_38\">\n    <path clip-path=\"url(#pe045a6d01c)\" d=\"M 320.864489 224.64 \nL 328.47358 224.64 \nL 328.47358 223.686786 \nL 320.864489 223.686786 \nz\n\" style=\"fill:#348abd;opacity:0.5;\"/>\n   </g>\n   <g id=\"patch_39\">\n    <path clip-path=\"url(#pe045a6d01c)\" d=\"M 328.47358 224.64 \nL 336.08267 224.64 \nL 336.08267 223.686786 \nL 328.47358 223.686786 \nz\n\" style=\"fill:#348abd;opacity:0.5;\"/>\n   </g>\n   <g id=\"patch_40\">\n    <path clip-path=\"url(#pe045a6d01c)\" d=\"M 336.08267 224.64 \nL 343.691761 224.64 \nL 343.691761 224.64 \nL 336.08267 224.64 \nz\n\" style=\"fill:#348abd;opacity:0.5;\"/>\n   </g>\n   <g id=\"patch_41\">\n    <path clip-path=\"url(#pe045a6d01c)\" d=\"M 343.691761 224.64 \nL 351.300852 224.64 \nL 351.300852 224.64 \nL 343.691761 224.64 \nz\n\" style=\"fill:#348abd;opacity:0.5;\"/>\n   </g>\n   <g id=\"patch_42\">\n    <path clip-path=\"url(#pe045a6d01c)\" d=\"M 351.300852 224.64 \nL 358.909943 224.64 \nL 358.909943 224.163393 \nL 351.300852 224.163393 \nz\n\" style=\"fill:#348abd;opacity:0.5;\"/>\n   </g>\n   <g id=\"matplotlib.axis_1\">\n    <g id=\"xtick_1\">\n     <g id=\"line2d_1\">\n      <path clip-path=\"url(#pe045a6d01c)\" d=\"M 60.208886 224.64 \nL 60.208886 7.2 \n\" style=\"fill:none;stroke:#b2b2b2;stroke-dasharray:1.85,0.8;stroke-dashoffset:0;stroke-width:0.5;\"/>\n     </g>\n     <g id=\"line2d_2\">\n      <defs>\n       <path d=\"M 0 0 \nL 0 -3.5 \n\" id=\"m54505fbca7\" style=\"stroke:#000000;stroke-width:0.8;\"/>\n      </defs>\n      <g>\n       <use style=\"stroke:#000000;stroke-width:0.8;\" x=\"60.208886\" xlink:href=\"#m54505fbca7\" y=\"224.64\"/>\n      </g>\n     </g>\n     <g id=\"text_1\">\n      <!-- 1100 -->\n      <defs>\n       <path d=\"M 12.40625 8.296875 \nL 28.515625 8.296875 \nL 28.515625 63.921875 \nL 10.984375 60.40625 \nL 10.984375 69.390625 \nL 28.421875 72.90625 \nL 38.28125 72.90625 \nL 38.28125 8.296875 \nL 54.390625 8.296875 \nL 54.390625 0 \nL 12.40625 0 \nz\n\" id=\"DejaVuSans-49\"/>\n       <path d=\"M 31.78125 66.40625 \nQ 24.171875 66.40625 20.328125 58.90625 \nQ 16.5 51.421875 16.5 36.375 \nQ 16.5 21.390625 20.328125 13.890625 \nQ 24.171875 6.390625 31.78125 6.390625 \nQ 39.453125 6.390625 43.28125 13.890625 \nQ 47.125 21.390625 47.125 36.375 \nQ 47.125 51.421875 43.28125 58.90625 \nQ 39.453125 66.40625 31.78125 66.40625 \nz\nM 31.78125 74.21875 \nQ 44.046875 74.21875 50.515625 64.515625 \nQ 56.984375 54.828125 56.984375 36.375 \nQ 56.984375 17.96875 50.515625 8.265625 \nQ 44.046875 -1.421875 31.78125 -1.421875 \nQ 19.53125 -1.421875 13.0625 8.265625 \nQ 6.59375 17.96875 6.59375 36.375 \nQ 6.59375 54.828125 13.0625 64.515625 \nQ 19.53125 74.21875 31.78125 74.21875 \nz\n\" id=\"DejaVuSans-48\"/>\n      </defs>\n      <g transform=\"translate(47.483886 235.738437)scale(0.1 -0.1)\">\n       <use xlink:href=\"#DejaVuSans-49\"/>\n       <use x=\"63.623047\" xlink:href=\"#DejaVuSans-49\"/>\n       <use x=\"127.246094\" xlink:href=\"#DejaVuSans-48\"/>\n       <use x=\"190.869141\" xlink:href=\"#DejaVuSans-48\"/>\n      </g>\n     </g>\n    </g>\n    <g id=\"xtick_2\">\n     <g id=\"line2d_3\">\n      <path clip-path=\"url(#pe045a6d01c)\" d=\"M 130.991127 224.64 \nL 130.991127 7.2 \n\" style=\"fill:none;stroke:#b2b2b2;stroke-dasharray:1.85,0.8;stroke-dashoffset:0;stroke-width:0.5;\"/>\n     </g>\n     <g id=\"line2d_4\">\n      <g>\n       <use style=\"stroke:#000000;stroke-width:0.8;\" x=\"130.991127\" xlink:href=\"#m54505fbca7\" y=\"224.64\"/>\n      </g>\n     </g>\n     <g id=\"text_2\">\n      <!-- 1150 -->\n      <defs>\n       <path d=\"M 10.796875 72.90625 \nL 49.515625 72.90625 \nL 49.515625 64.59375 \nL 19.828125 64.59375 \nL 19.828125 46.734375 \nQ 21.96875 47.46875 24.109375 47.828125 \nQ 26.265625 48.1875 28.421875 48.1875 \nQ 40.625 48.1875 47.75 41.5 \nQ 54.890625 34.8125 54.890625 23.390625 \nQ 54.890625 11.625 47.5625 5.09375 \nQ 40.234375 -1.421875 26.90625 -1.421875 \nQ 22.3125 -1.421875 17.546875 -0.640625 \nQ 12.796875 0.140625 7.71875 1.703125 \nL 7.71875 11.625 \nQ 12.109375 9.234375 16.796875 8.0625 \nQ 21.484375 6.890625 26.703125 6.890625 \nQ 35.15625 6.890625 40.078125 11.328125 \nQ 45.015625 15.765625 45.015625 23.390625 \nQ 45.015625 31 40.078125 35.4375 \nQ 35.15625 39.890625 26.703125 39.890625 \nQ 22.75 39.890625 18.8125 39.015625 \nQ 14.890625 38.140625 10.796875 36.28125 \nz\n\" id=\"DejaVuSans-53\"/>\n      </defs>\n      <g transform=\"translate(118.266127 235.738437)scale(0.1 -0.1)\">\n       <use xlink:href=\"#DejaVuSans-49\"/>\n       <use x=\"63.623047\" xlink:href=\"#DejaVuSans-49\"/>\n       <use x=\"127.246094\" xlink:href=\"#DejaVuSans-53\"/>\n       <use x=\"190.869141\" xlink:href=\"#DejaVuSans-48\"/>\n      </g>\n     </g>\n    </g>\n    <g id=\"xtick_3\">\n     <g id=\"line2d_5\">\n      <path clip-path=\"url(#pe045a6d01c)\" d=\"M 201.773368 224.64 \nL 201.773368 7.2 \n\" style=\"fill:none;stroke:#b2b2b2;stroke-dasharray:1.85,0.8;stroke-dashoffset:0;stroke-width:0.5;\"/>\n     </g>\n     <g id=\"line2d_6\">\n      <g>\n       <use style=\"stroke:#000000;stroke-width:0.8;\" x=\"201.773368\" xlink:href=\"#m54505fbca7\" y=\"224.64\"/>\n      </g>\n     </g>\n     <g id=\"text_3\">\n      <!-- 1200 -->\n      <defs>\n       <path d=\"M 19.1875 8.296875 \nL 53.609375 8.296875 \nL 53.609375 0 \nL 7.328125 0 \nL 7.328125 8.296875 \nQ 12.9375 14.109375 22.625 23.890625 \nQ 32.328125 33.6875 34.8125 36.53125 \nQ 39.546875 41.84375 41.421875 45.53125 \nQ 43.3125 49.21875 43.3125 52.78125 \nQ 43.3125 58.59375 39.234375 62.25 \nQ 35.15625 65.921875 28.609375 65.921875 \nQ 23.96875 65.921875 18.8125 64.3125 \nQ 13.671875 62.703125 7.8125 59.421875 \nL 7.8125 69.390625 \nQ 13.765625 71.78125 18.9375 73 \nQ 24.125 74.21875 28.421875 74.21875 \nQ 39.75 74.21875 46.484375 68.546875 \nQ 53.21875 62.890625 53.21875 53.421875 \nQ 53.21875 48.921875 51.53125 44.890625 \nQ 49.859375 40.875 45.40625 35.40625 \nQ 44.1875 33.984375 37.640625 27.21875 \nQ 31.109375 20.453125 19.1875 8.296875 \nz\n\" id=\"DejaVuSans-50\"/>\n      </defs>\n      <g transform=\"translate(189.048368 235.738437)scale(0.1 -0.1)\">\n       <use xlink:href=\"#DejaVuSans-49\"/>\n       <use x=\"63.623047\" xlink:href=\"#DejaVuSans-50\"/>\n       <use x=\"127.246094\" xlink:href=\"#DejaVuSans-48\"/>\n       <use x=\"190.869141\" xlink:href=\"#DejaVuSans-48\"/>\n      </g>\n     </g>\n    </g>\n    <g id=\"xtick_4\">\n     <g id=\"line2d_7\">\n      <path clip-path=\"url(#pe045a6d01c)\" d=\"M 272.555609 224.64 \nL 272.555609 7.2 \n\" style=\"fill:none;stroke:#b2b2b2;stroke-dasharray:1.85,0.8;stroke-dashoffset:0;stroke-width:0.5;\"/>\n     </g>\n     <g id=\"line2d_8\">\n      <g>\n       <use style=\"stroke:#000000;stroke-width:0.8;\" x=\"272.555609\" xlink:href=\"#m54505fbca7\" y=\"224.64\"/>\n      </g>\n     </g>\n     <g id=\"text_4\">\n      <!-- 1250 -->\n      <g transform=\"translate(259.830609 235.738437)scale(0.1 -0.1)\">\n       <use xlink:href=\"#DejaVuSans-49\"/>\n       <use x=\"63.623047\" xlink:href=\"#DejaVuSans-50\"/>\n       <use x=\"127.246094\" xlink:href=\"#DejaVuSans-53\"/>\n       <use x=\"190.869141\" xlink:href=\"#DejaVuSans-48\"/>\n      </g>\n     </g>\n    </g>\n    <g id=\"xtick_5\">\n     <g id=\"line2d_9\">\n      <path clip-path=\"url(#pe045a6d01c)\" d=\"M 343.33785 224.64 \nL 343.33785 7.2 \n\" style=\"fill:none;stroke:#b2b2b2;stroke-dasharray:1.85,0.8;stroke-dashoffset:0;stroke-width:0.5;\"/>\n     </g>\n     <g id=\"line2d_10\">\n      <g>\n       <use style=\"stroke:#000000;stroke-width:0.8;\" x=\"343.33785\" xlink:href=\"#m54505fbca7\" y=\"224.64\"/>\n      </g>\n     </g>\n     <g id=\"text_5\">\n      <!-- 1300 -->\n      <defs>\n       <path d=\"M 40.578125 39.3125 \nQ 47.65625 37.796875 51.625 33 \nQ 55.609375 28.21875 55.609375 21.1875 \nQ 55.609375 10.40625 48.1875 4.484375 \nQ 40.765625 -1.421875 27.09375 -1.421875 \nQ 22.515625 -1.421875 17.65625 -0.515625 \nQ 12.796875 0.390625 7.625 2.203125 \nL 7.625 11.71875 \nQ 11.71875 9.328125 16.59375 8.109375 \nQ 21.484375 6.890625 26.8125 6.890625 \nQ 36.078125 6.890625 40.9375 10.546875 \nQ 45.796875 14.203125 45.796875 21.1875 \nQ 45.796875 27.640625 41.28125 31.265625 \nQ 36.765625 34.90625 28.71875 34.90625 \nL 20.21875 34.90625 \nL 20.21875 43.015625 \nL 29.109375 43.015625 \nQ 36.375 43.015625 40.234375 45.921875 \nQ 44.09375 48.828125 44.09375 54.296875 \nQ 44.09375 59.90625 40.109375 62.90625 \nQ 36.140625 65.921875 28.71875 65.921875 \nQ 24.65625 65.921875 20.015625 65.03125 \nQ 15.375 64.15625 9.8125 62.3125 \nL 9.8125 71.09375 \nQ 15.4375 72.65625 20.34375 73.4375 \nQ 25.25 74.21875 29.59375 74.21875 \nQ 40.828125 74.21875 47.359375 69.109375 \nQ 53.90625 64.015625 53.90625 55.328125 \nQ 53.90625 49.265625 50.4375 45.09375 \nQ 46.96875 40.921875 40.578125 39.3125 \nz\n\" id=\"DejaVuSans-51\"/>\n      </defs>\n      <g transform=\"translate(330.61285 235.738437)scale(0.1 -0.1)\">\n       <use xlink:href=\"#DejaVuSans-49\"/>\n       <use x=\"63.623047\" xlink:href=\"#DejaVuSans-51\"/>\n       <use x=\"127.246094\" xlink:href=\"#DejaVuSans-48\"/>\n       <use x=\"190.869141\" xlink:href=\"#DejaVuSans-48\"/>\n      </g>\n     </g>\n    </g>\n   </g>\n   <g id=\"matplotlib.axis_2\">\n    <g id=\"ytick_1\">\n     <g id=\"line2d_11\">\n      <path clip-path=\"url(#pe045a6d01c)\" d=\"M 39.328125 224.64 \nL 374.128125 224.64 \n\" style=\"fill:none;stroke:#b2b2b2;stroke-dasharray:1.85,0.8;stroke-dashoffset:0;stroke-width:0.5;\"/>\n     </g>\n     <g id=\"line2d_12\">\n      <defs>\n       <path d=\"M 0 0 \nL 3.5 0 \n\" id=\"m971228326e\" style=\"stroke:#000000;stroke-width:0.8;\"/>\n      </defs>\n      <g>\n       <use style=\"stroke:#000000;stroke-width:0.8;\" x=\"39.328125\" xlink:href=\"#m971228326e\" y=\"224.64\"/>\n      </g>\n     </g>\n     <g id=\"text_6\">\n      <!-- 0.000 -->\n      <defs>\n       <path d=\"M 10.6875 12.40625 \nL 21 12.40625 \nL 21 0 \nL 10.6875 0 \nz\n\" id=\"DejaVuSans-46\"/>\n      </defs>\n      <g transform=\"translate(7.2 228.439219)scale(0.1 -0.1)\">\n       <use xlink:href=\"#DejaVuSans-48\"/>\n       <use x=\"63.623047\" xlink:href=\"#DejaVuSans-46\"/>\n       <use x=\"95.410156\" xlink:href=\"#DejaVuSans-48\"/>\n       <use x=\"159.033203\" xlink:href=\"#DejaVuSans-48\"/>\n       <use x=\"222.65625\" xlink:href=\"#DejaVuSans-48\"/>\n      </g>\n     </g>\n    </g>\n    <g id=\"ytick_2\">\n     <g id=\"line2d_13\">\n      <path clip-path=\"url(#pe045a6d01c)\" d=\"M 39.328125 199.022377 \nL 374.128125 199.022377 \n\" style=\"fill:none;stroke:#b2b2b2;stroke-dasharray:1.85,0.8;stroke-dashoffset:0;stroke-width:0.5;\"/>\n     </g>\n     <g id=\"line2d_14\">\n      <g>\n       <use style=\"stroke:#000000;stroke-width:0.8;\" x=\"39.328125\" xlink:href=\"#m971228326e\" y=\"199.022377\"/>\n      </g>\n     </g>\n     <g id=\"text_7\">\n      <!-- 0.002 -->\n      <g transform=\"translate(7.2 202.821596)scale(0.1 -0.1)\">\n       <use xlink:href=\"#DejaVuSans-48\"/>\n       <use x=\"63.623047\" xlink:href=\"#DejaVuSans-46\"/>\n       <use x=\"95.410156\" xlink:href=\"#DejaVuSans-48\"/>\n       <use x=\"159.033203\" xlink:href=\"#DejaVuSans-48\"/>\n       <use x=\"222.65625\" xlink:href=\"#DejaVuSans-50\"/>\n      </g>\n     </g>\n    </g>\n    <g id=\"ytick_3\">\n     <g id=\"line2d_15\">\n      <path clip-path=\"url(#pe045a6d01c)\" d=\"M 39.328125 173.404754 \nL 374.128125 173.404754 \n\" style=\"fill:none;stroke:#b2b2b2;stroke-dasharray:1.85,0.8;stroke-dashoffset:0;stroke-width:0.5;\"/>\n     </g>\n     <g id=\"line2d_16\">\n      <g>\n       <use style=\"stroke:#000000;stroke-width:0.8;\" x=\"39.328125\" xlink:href=\"#m971228326e\" y=\"173.404754\"/>\n      </g>\n     </g>\n     <g id=\"text_8\">\n      <!-- 0.004 -->\n      <defs>\n       <path d=\"M 37.796875 64.3125 \nL 12.890625 25.390625 \nL 37.796875 25.390625 \nz\nM 35.203125 72.90625 \nL 47.609375 72.90625 \nL 47.609375 25.390625 \nL 58.015625 25.390625 \nL 58.015625 17.1875 \nL 47.609375 17.1875 \nL 47.609375 0 \nL 37.796875 0 \nL 37.796875 17.1875 \nL 4.890625 17.1875 \nL 4.890625 26.703125 \nz\n\" id=\"DejaVuSans-52\"/>\n      </defs>\n      <g transform=\"translate(7.2 177.203973)scale(0.1 -0.1)\">\n       <use xlink:href=\"#DejaVuSans-48\"/>\n       <use x=\"63.623047\" xlink:href=\"#DejaVuSans-46\"/>\n       <use x=\"95.410156\" xlink:href=\"#DejaVuSans-48\"/>\n       <use x=\"159.033203\" xlink:href=\"#DejaVuSans-48\"/>\n       <use x=\"222.65625\" xlink:href=\"#DejaVuSans-52\"/>\n      </g>\n     </g>\n    </g>\n    <g id=\"ytick_4\">\n     <g id=\"line2d_17\">\n      <path clip-path=\"url(#pe045a6d01c)\" d=\"M 39.328125 147.787131 \nL 374.128125 147.787131 \n\" style=\"fill:none;stroke:#b2b2b2;stroke-dasharray:1.85,0.8;stroke-dashoffset:0;stroke-width:0.5;\"/>\n     </g>\n     <g id=\"line2d_18\">\n      <g>\n       <use style=\"stroke:#000000;stroke-width:0.8;\" x=\"39.328125\" xlink:href=\"#m971228326e\" y=\"147.787131\"/>\n      </g>\n     </g>\n     <g id=\"text_9\">\n      <!-- 0.006 -->\n      <defs>\n       <path d=\"M 33.015625 40.375 \nQ 26.375 40.375 22.484375 35.828125 \nQ 18.609375 31.296875 18.609375 23.390625 \nQ 18.609375 15.53125 22.484375 10.953125 \nQ 26.375 6.390625 33.015625 6.390625 \nQ 39.65625 6.390625 43.53125 10.953125 \nQ 47.40625 15.53125 47.40625 23.390625 \nQ 47.40625 31.296875 43.53125 35.828125 \nQ 39.65625 40.375 33.015625 40.375 \nz\nM 52.59375 71.296875 \nL 52.59375 62.3125 \nQ 48.875 64.0625 45.09375 64.984375 \nQ 41.3125 65.921875 37.59375 65.921875 \nQ 27.828125 65.921875 22.671875 59.328125 \nQ 17.53125 52.734375 16.796875 39.40625 \nQ 19.671875 43.65625 24.015625 45.921875 \nQ 28.375 48.1875 33.59375 48.1875 \nQ 44.578125 48.1875 50.953125 41.515625 \nQ 57.328125 34.859375 57.328125 23.390625 \nQ 57.328125 12.15625 50.6875 5.359375 \nQ 44.046875 -1.421875 33.015625 -1.421875 \nQ 20.359375 -1.421875 13.671875 8.265625 \nQ 6.984375 17.96875 6.984375 36.375 \nQ 6.984375 53.65625 15.1875 63.9375 \nQ 23.390625 74.21875 37.203125 74.21875 \nQ 40.921875 74.21875 44.703125 73.484375 \nQ 48.484375 72.75 52.59375 71.296875 \nz\n\" id=\"DejaVuSans-54\"/>\n      </defs>\n      <g transform=\"translate(7.2 151.58635)scale(0.1 -0.1)\">\n       <use xlink:href=\"#DejaVuSans-48\"/>\n       <use x=\"63.623047\" xlink:href=\"#DejaVuSans-46\"/>\n       <use x=\"95.410156\" xlink:href=\"#DejaVuSans-48\"/>\n       <use x=\"159.033203\" xlink:href=\"#DejaVuSans-48\"/>\n       <use x=\"222.65625\" xlink:href=\"#DejaVuSans-54\"/>\n      </g>\n     </g>\n    </g>\n    <g id=\"ytick_5\">\n     <g id=\"line2d_19\">\n      <path clip-path=\"url(#pe045a6d01c)\" d=\"M 39.328125 122.169508 \nL 374.128125 122.169508 \n\" style=\"fill:none;stroke:#b2b2b2;stroke-dasharray:1.85,0.8;stroke-dashoffset:0;stroke-width:0.5;\"/>\n     </g>\n     <g id=\"line2d_20\">\n      <g>\n       <use style=\"stroke:#000000;stroke-width:0.8;\" x=\"39.328125\" xlink:href=\"#m971228326e\" y=\"122.169508\"/>\n      </g>\n     </g>\n     <g id=\"text_10\">\n      <!-- 0.008 -->\n      <defs>\n       <path d=\"M 31.78125 34.625 \nQ 24.75 34.625 20.71875 30.859375 \nQ 16.703125 27.09375 16.703125 20.515625 \nQ 16.703125 13.921875 20.71875 10.15625 \nQ 24.75 6.390625 31.78125 6.390625 \nQ 38.8125 6.390625 42.859375 10.171875 \nQ 46.921875 13.96875 46.921875 20.515625 \nQ 46.921875 27.09375 42.890625 30.859375 \nQ 38.875 34.625 31.78125 34.625 \nz\nM 21.921875 38.8125 \nQ 15.578125 40.375 12.03125 44.71875 \nQ 8.5 49.078125 8.5 55.328125 \nQ 8.5 64.0625 14.71875 69.140625 \nQ 20.953125 74.21875 31.78125 74.21875 \nQ 42.671875 74.21875 48.875 69.140625 \nQ 55.078125 64.0625 55.078125 55.328125 \nQ 55.078125 49.078125 51.53125 44.71875 \nQ 48 40.375 41.703125 38.8125 \nQ 48.828125 37.15625 52.796875 32.3125 \nQ 56.78125 27.484375 56.78125 20.515625 \nQ 56.78125 9.90625 50.3125 4.234375 \nQ 43.84375 -1.421875 31.78125 -1.421875 \nQ 19.734375 -1.421875 13.25 4.234375 \nQ 6.78125 9.90625 6.78125 20.515625 \nQ 6.78125 27.484375 10.78125 32.3125 \nQ 14.796875 37.15625 21.921875 38.8125 \nz\nM 18.3125 54.390625 \nQ 18.3125 48.734375 21.84375 45.5625 \nQ 25.390625 42.390625 31.78125 42.390625 \nQ 38.140625 42.390625 41.71875 45.5625 \nQ 45.3125 48.734375 45.3125 54.390625 \nQ 45.3125 60.0625 41.71875 63.234375 \nQ 38.140625 66.40625 31.78125 66.40625 \nQ 25.390625 66.40625 21.84375 63.234375 \nQ 18.3125 60.0625 18.3125 54.390625 \nz\n\" id=\"DejaVuSans-56\"/>\n      </defs>\n      <g transform=\"translate(7.2 125.968727)scale(0.1 -0.1)\">\n       <use xlink:href=\"#DejaVuSans-48\"/>\n       <use x=\"63.623047\" xlink:href=\"#DejaVuSans-46\"/>\n       <use x=\"95.410156\" xlink:href=\"#DejaVuSans-48\"/>\n       <use x=\"159.033203\" xlink:href=\"#DejaVuSans-48\"/>\n       <use x=\"222.65625\" xlink:href=\"#DejaVuSans-56\"/>\n      </g>\n     </g>\n    </g>\n    <g id=\"ytick_6\">\n     <g id=\"line2d_21\">\n      <path clip-path=\"url(#pe045a6d01c)\" d=\"M 39.328125 96.551886 \nL 374.128125 96.551886 \n\" style=\"fill:none;stroke:#b2b2b2;stroke-dasharray:1.85,0.8;stroke-dashoffset:0;stroke-width:0.5;\"/>\n     </g>\n     <g id=\"line2d_22\">\n      <g>\n       <use style=\"stroke:#000000;stroke-width:0.8;\" x=\"39.328125\" xlink:href=\"#m971228326e\" y=\"96.551886\"/>\n      </g>\n     </g>\n     <g id=\"text_11\">\n      <!-- 0.010 -->\n      <g transform=\"translate(7.2 100.351104)scale(0.1 -0.1)\">\n       <use xlink:href=\"#DejaVuSans-48\"/>\n       <use x=\"63.623047\" xlink:href=\"#DejaVuSans-46\"/>\n       <use x=\"95.410156\" xlink:href=\"#DejaVuSans-48\"/>\n       <use x=\"159.033203\" xlink:href=\"#DejaVuSans-49\"/>\n       <use x=\"222.65625\" xlink:href=\"#DejaVuSans-48\"/>\n      </g>\n     </g>\n    </g>\n    <g id=\"ytick_7\">\n     <g id=\"line2d_23\">\n      <path clip-path=\"url(#pe045a6d01c)\" d=\"M 39.328125 70.934263 \nL 374.128125 70.934263 \n\" style=\"fill:none;stroke:#b2b2b2;stroke-dasharray:1.85,0.8;stroke-dashoffset:0;stroke-width:0.5;\"/>\n     </g>\n     <g id=\"line2d_24\">\n      <g>\n       <use style=\"stroke:#000000;stroke-width:0.8;\" x=\"39.328125\" xlink:href=\"#m971228326e\" y=\"70.934263\"/>\n      </g>\n     </g>\n     <g id=\"text_12\">\n      <!-- 0.012 -->\n      <g transform=\"translate(7.2 74.733481)scale(0.1 -0.1)\">\n       <use xlink:href=\"#DejaVuSans-48\"/>\n       <use x=\"63.623047\" xlink:href=\"#DejaVuSans-46\"/>\n       <use x=\"95.410156\" xlink:href=\"#DejaVuSans-48\"/>\n       <use x=\"159.033203\" xlink:href=\"#DejaVuSans-49\"/>\n       <use x=\"222.65625\" xlink:href=\"#DejaVuSans-50\"/>\n      </g>\n     </g>\n    </g>\n    <g id=\"ytick_8\">\n     <g id=\"line2d_25\">\n      <path clip-path=\"url(#pe045a6d01c)\" d=\"M 39.328125 45.31664 \nL 374.128125 45.31664 \n\" style=\"fill:none;stroke:#b2b2b2;stroke-dasharray:1.85,0.8;stroke-dashoffset:0;stroke-width:0.5;\"/>\n     </g>\n     <g id=\"line2d_26\">\n      <g>\n       <use style=\"stroke:#000000;stroke-width:0.8;\" x=\"39.328125\" xlink:href=\"#m971228326e\" y=\"45.31664\"/>\n      </g>\n     </g>\n     <g id=\"text_13\">\n      <!-- 0.014 -->\n      <g transform=\"translate(7.2 49.115859)scale(0.1 -0.1)\">\n       <use xlink:href=\"#DejaVuSans-48\"/>\n       <use x=\"63.623047\" xlink:href=\"#DejaVuSans-46\"/>\n       <use x=\"95.410156\" xlink:href=\"#DejaVuSans-48\"/>\n       <use x=\"159.033203\" xlink:href=\"#DejaVuSans-49\"/>\n       <use x=\"222.65625\" xlink:href=\"#DejaVuSans-52\"/>\n      </g>\n     </g>\n    </g>\n    <g id=\"ytick_9\">\n     <g id=\"line2d_27\">\n      <path clip-path=\"url(#pe045a6d01c)\" d=\"M 39.328125 19.699017 \nL 374.128125 19.699017 \n\" style=\"fill:none;stroke:#b2b2b2;stroke-dasharray:1.85,0.8;stroke-dashoffset:0;stroke-width:0.5;\"/>\n     </g>\n     <g id=\"line2d_28\">\n      <g>\n       <use style=\"stroke:#000000;stroke-width:0.8;\" x=\"39.328125\" xlink:href=\"#m971228326e\" y=\"19.699017\"/>\n      </g>\n     </g>\n     <g id=\"text_14\">\n      <!-- 0.016 -->\n      <g transform=\"translate(7.2 23.498236)scale(0.1 -0.1)\">\n       <use xlink:href=\"#DejaVuSans-48\"/>\n       <use x=\"63.623047\" xlink:href=\"#DejaVuSans-46\"/>\n       <use x=\"95.410156\" xlink:href=\"#DejaVuSans-48\"/>\n       <use x=\"159.033203\" xlink:href=\"#DejaVuSans-49\"/>\n       <use x=\"222.65625\" xlink:href=\"#DejaVuSans-54\"/>\n      </g>\n     </g>\n    </g>\n   </g>\n   <g id=\"patch_43\">\n    <path d=\"M 39.328125 224.64 \nL 39.328125 7.2 \n\" style=\"fill:none;stroke:#bcbcbc;stroke-linecap:square;stroke-linejoin:miter;stroke-width:0.8;\"/>\n   </g>\n   <g id=\"patch_44\">\n    <path d=\"M 374.128125 224.64 \nL 374.128125 7.2 \n\" style=\"fill:none;stroke:#bcbcbc;stroke-linecap:square;stroke-linejoin:miter;stroke-width:0.8;\"/>\n   </g>\n   <g id=\"patch_45\">\n    <path d=\"M 39.328125 224.64 \nL 374.128125 224.64 \n\" style=\"fill:none;stroke:#bcbcbc;stroke-linecap:square;stroke-linejoin:miter;stroke-width:0.8;\"/>\n   </g>\n   <g id=\"patch_46\">\n    <path d=\"M 39.328125 7.2 \nL 374.128125 7.2 \n\" style=\"fill:none;stroke:#bcbcbc;stroke-linecap:square;stroke-linejoin:miter;stroke-width:0.8;\"/>\n   </g>\n  </g>\n </g>\n <defs>\n  <clipPath id=\"pe045a6d01c\">\n   <rect height=\"217.44\" width=\"334.8\" x=\"39.328125\" y=\"7.2\"/>\n  </clipPath>\n </defs>\n</svg>\n"
          },
          "metadata": {
            "needs_background": "light"
          }
        }
      ],
      "source": [
        "N = 10_000\n",
        "sim = np.zeros(N)\n",
        "for i in range(N):\n",
        "    sim[i] = np.random.binomial(30, 0.4, 100).sum()\n",
        "plt.hist(sim, bins=40, alpha=0.5, density=True);"
      ]
    },
    {
      "cell_type": "markdown",
      "metadata": {
        "id": "XVmLY7C6Yiay"
      },
      "source": [
        "# Coins and dice"
      ]
    },
    {
      "cell_type": "markdown",
      "metadata": {
        "id": "OJiBziccYia1"
      },
      "source": [
        "We start by importing a number of Python libraries and setting up some configuration settings. "
      ]
    },
    {
      "cell_type": "code",
      "execution_count": 28,
      "metadata": {
        "id": "3ho3g6OcYia1"
      },
      "outputs": [],
      "source": [
        "%matplotlib inline\n",
        "\n",
        "import numpy as np\n",
        "import scipy.stats\n",
        "import matplotlib.pyplot as plt\n",
        "# plt.style.use(\"bmh\")\n",
        "# %config InlineBackend.figure_formats=[\"svg\"]\n",
        "# numpy.set_printoptions(threshold=20)"
      ]
    },
    {
      "cell_type": "markdown",
      "metadata": {
        "id": "MOh3uG_tYia2"
      },
      "source": [
        "When undertaking statistical analyses, it can be important for your results to be *reproducible*, meaning that you obtain the same results each time you run the analysis. The pseudorandom number generator used by NumPy generates long sequences of outputs that are fully determined by the *seed* of the generator (if you use the same seed, you will obtain the same results each time you run the notebook). In default setting, the seed is taken from some unpredictable feature of the computer environment (such as the `/dev/random` device on a Linux/Unix computer), so sucessive runs will generate different results. If you want a reproducible notebook, you can set the random seed explicitly. "
      ]
    },
    {
      "cell_type": "code",
      "execution_count": 29,
      "metadata": {
        "id": "LPIjzPmMYia2"
      },
      "outputs": [],
      "source": [
        "np.random.seed(42)"
      ]
    },
    {
      "cell_type": "markdown",
      "metadata": {
        "id": "p986tXEaYia2"
      },
      "source": [
        "Let’s **simulate a coin toss** by a random choice between the numbers 0 and 1 (say 0 represents tails and 1 represents heads). Note that the second argument to `randint` is an *exclusive* upper bound."
      ]
    },
    {
      "cell_type": "code",
      "execution_count": 30,
      "metadata": {
        "id": "WcaiyviYYia3",
        "outputId": "b3cf2aa3-840e-4af5-d4b5-d853f2a813be",
        "colab": {
          "base_uri": "https://localhost:8080/"
        }
      },
      "outputs": [
        {
          "output_type": "execute_result",
          "data": {
            "text/plain": [
              "0"
            ]
          },
          "metadata": {},
          "execution_count": 30
        }
      ],
      "source": [
        "np.random.randint(0, 2)"
      ]
    },
    {
      "cell_type": "markdown",
      "metadata": {
        "id": "f-ljed8QYia3"
      },
      "source": [
        "Let’s toss two coins, which gives as an array with the result of the first and second toss."
      ]
    },
    {
      "cell_type": "code",
      "execution_count": 31,
      "metadata": {
        "id": "gktgNdLVYia4",
        "outputId": "19b28f38-f539-47d8-ca14-0cd3d9fd2277",
        "colab": {
          "base_uri": "https://localhost:8080/"
        }
      },
      "outputs": [
        {
          "output_type": "execute_result",
          "data": {
            "text/plain": [
              "array([1, 0])"
            ]
          },
          "metadata": {},
          "execution_count": 31
        }
      ],
      "source": [
        "np.random.randint(0, 2, 2)"
      ]
    },
    {
      "cell_type": "markdown",
      "metadata": {
        "id": "MOU8OnRQYia4"
      },
      "source": [
        "The number of heads when tossing a coin twice is simply the sum of that array."
      ]
    },
    {
      "cell_type": "code",
      "execution_count": 32,
      "metadata": {
        "id": "t8f22ePNYia4",
        "outputId": "2dc92ce0-45c0-4b59-9289-5cc994e0c923",
        "colab": {
          "base_uri": "https://localhost:8080/"
        }
      },
      "outputs": [
        {
          "output_type": "execute_result",
          "data": {
            "text/plain": [
              "0"
            ]
          },
          "metadata": {},
          "execution_count": 32
        }
      ],
      "source": [
        "np.random.randint(0, 2, 2).sum()"
      ]
    },
    {
      "cell_type": "markdown",
      "metadata": {
        "id": "p-uTX5XdYia4"
      },
      "source": [
        "**Task**: simulate the *number of heads when tossing a coin twice*. Do this 1000 times, calculate the expected value of the number of heads, and plot the distribution of results (the Probability Mass Function)."
      ]
    },
    {
      "cell_type": "code",
      "execution_count": 34,
      "metadata": {
        "id": "2g2vKUfTYia4",
        "outputId": "870b2771-7757-434a-950a-572ed54bf2e1",
        "colab": {
          "base_uri": "https://localhost:8080/"
        }
      },
      "outputs": [
        {
          "output_type": "execute_result",
          "data": {
            "text/plain": [
              "array([1, 0, 0, 1, 2, 1, 1, 1, 1, 0, 1, 2, 1, 0, 1, 2, 1, 0, 0, 1, 2, 0,\n",
              "       1, 1, 1, 1, 1, 0, 1, 1, 2, 1, 0, 1, 1, 1, 0, 1, 1, 1, 1, 1, 1, 2,\n",
              "       1, 1, 2, 0, 0, 2, 1, 0, 2, 1, 0, 1, 1, 2, 1, 1, 1, 0, 1, 1, 0, 1,\n",
              "       2, 2, 2, 0, 1, 1, 0, 0, 1, 2, 1, 0, 0, 2, 1, 1, 1, 1, 1, 1, 1, 2,\n",
              "       0, 1, 0, 2, 1, 1, 0, 1, 2, 0, 1, 0])"
            ]
          },
          "metadata": {},
          "execution_count": 34
        }
      ],
      "source": [
        "N = 100\n",
        "heads = np.zeros(N, dtype=int)\n",
        "for i in range(N):\n",
        "    heads[i] = np.random.randint(0, 2, 2).sum()\n",
        "heads"
      ]
    },
    {
      "cell_type": "markdown",
      "metadata": {
        "id": "Q7T24EovYia4"
      },
      "source": [
        "The **expected value** (or mathematical expectation) of the number of heads is simply the mean of our observations (it’s what happens “on average”). "
      ]
    },
    {
      "cell_type": "code",
      "execution_count": 39,
      "metadata": {
        "id": "pSVTyDEfYia5",
        "outputId": "8703d4ab-ca12-45a1-e004-63cd06c67a17",
        "colab": {
          "base_uri": "https://localhost:8080/"
        }
      },
      "outputs": [
        {
          "output_type": "execute_result",
          "data": {
            "text/plain": [
              "0.92"
            ]
          },
          "metadata": {},
          "execution_count": 39
        }
      ],
      "source": [
        "heads.mean()"
      ]
    },
    {
      "cell_type": "markdown",
      "metadata": {
        "id": "IQ7V6rr8Yia5"
      },
      "source": [
        "Now let’s look at the **distribution** of the number of heads obtained. Let’s count how many times we have scored 0, 1 or 2 in our 100 simulations, using the `unique` function from `numpy`, then plot that probability mass function. "
      ]
    },
    {
      "cell_type": "code",
      "execution_count": 40,
      "metadata": {
        "id": "_g_pEDPNYia5",
        "outputId": "f8cc8713-a0ca-4ea9-bb20-5b28012ff3d4",
        "colab": {
          "base_uri": "https://localhost:8080/",
          "height": 348
        }
      },
      "outputs": [
        {
          "output_type": "display_data",
          "data": {
            "text/plain": [
              "<Figure size 432x288 with 1 Axes>"
            ],
            "image/svg+xml": "<?xml version=\"1.0\" encoding=\"utf-8\" standalone=\"no\"?>\n<!DOCTYPE svg PUBLIC \"-//W3C//DTD SVG 1.1//EN\"\n  \"http://www.w3.org/Graphics/SVG/1.1/DTD/svg11.dtd\">\n<!-- Created with matplotlib (https://matplotlib.org/) -->\n<svg height=\"245.018125pt\" version=\"1.1\" viewBox=\"0 0 365.425 245.018125\" width=\"365.425pt\" xmlns=\"http://www.w3.org/2000/svg\" xmlns:xlink=\"http://www.w3.org/1999/xlink\">\n <defs>\n  <style type=\"text/css\">\n*{stroke-linecap:butt;stroke-linejoin:round;}\n  </style>\n </defs>\n <g id=\"figure_1\">\n  <g id=\"patch_1\">\n   <path d=\"M -0 245.018125 \nL 365.425 245.018125 \nL 365.425 0 \nL -0 0 \nz\n\" style=\"fill:none;\"/>\n  </g>\n  <g id=\"axes_1\">\n   <g id=\"patch_2\">\n    <path d=\"M 23.425 224.64 \nL 358.225 224.64 \nL 358.225 7.2 \nL 23.425 7.2 \nz\n\" style=\"fill:#eeeeee;\"/>\n   </g>\n   <g id=\"matplotlib.axis_1\">\n    <g id=\"xtick_1\">\n     <g id=\"line2d_1\">\n      <path clip-path=\"url(#pe45ef27858)\" d=\"M 38.643182 224.64 \nL 38.643182 7.2 \n\" style=\"fill:none;stroke:#b2b2b2;stroke-dasharray:1.85,0.8;stroke-dashoffset:0;stroke-width:0.5;\"/>\n     </g>\n     <g id=\"line2d_2\">\n      <defs>\n       <path d=\"M 0 0 \nL 0 -3.5 \n\" id=\"m781684dccd\" style=\"stroke:#000000;stroke-width:0.8;\"/>\n      </defs>\n      <g>\n       <use style=\"stroke:#000000;stroke-width:0.8;\" x=\"38.643182\" xlink:href=\"#m781684dccd\" y=\"224.64\"/>\n      </g>\n     </g>\n     <g id=\"text_1\">\n      <!-- 0.00 -->\n      <defs>\n       <path d=\"M 31.78125 66.40625 \nQ 24.171875 66.40625 20.328125 58.90625 \nQ 16.5 51.421875 16.5 36.375 \nQ 16.5 21.390625 20.328125 13.890625 \nQ 24.171875 6.390625 31.78125 6.390625 \nQ 39.453125 6.390625 43.28125 13.890625 \nQ 47.125 21.390625 47.125 36.375 \nQ 47.125 51.421875 43.28125 58.90625 \nQ 39.453125 66.40625 31.78125 66.40625 \nz\nM 31.78125 74.21875 \nQ 44.046875 74.21875 50.515625 64.515625 \nQ 56.984375 54.828125 56.984375 36.375 \nQ 56.984375 17.96875 50.515625 8.265625 \nQ 44.046875 -1.421875 31.78125 -1.421875 \nQ 19.53125 -1.421875 13.0625 8.265625 \nQ 6.59375 17.96875 6.59375 36.375 \nQ 6.59375 54.828125 13.0625 64.515625 \nQ 19.53125 74.21875 31.78125 74.21875 \nz\n\" id=\"DejaVuSans-48\"/>\n       <path d=\"M 10.6875 12.40625 \nL 21 12.40625 \nL 21 0 \nL 10.6875 0 \nz\n\" id=\"DejaVuSans-46\"/>\n      </defs>\n      <g transform=\"translate(27.510369 235.738437)scale(0.1 -0.1)\">\n       <use xlink:href=\"#DejaVuSans-48\"/>\n       <use x=\"63.623047\" xlink:href=\"#DejaVuSans-46\"/>\n       <use x=\"95.410156\" xlink:href=\"#DejaVuSans-48\"/>\n       <use x=\"159.033203\" xlink:href=\"#DejaVuSans-48\"/>\n      </g>\n     </g>\n    </g>\n    <g id=\"xtick_2\">\n     <g id=\"line2d_3\">\n      <path clip-path=\"url(#pe45ef27858)\" d=\"M 76.688636 224.64 \nL 76.688636 7.2 \n\" style=\"fill:none;stroke:#b2b2b2;stroke-dasharray:1.85,0.8;stroke-dashoffset:0;stroke-width:0.5;\"/>\n     </g>\n     <g id=\"line2d_4\">\n      <g>\n       <use style=\"stroke:#000000;stroke-width:0.8;\" x=\"76.688636\" xlink:href=\"#m781684dccd\" y=\"224.64\"/>\n      </g>\n     </g>\n     <g id=\"text_2\">\n      <!-- 0.25 -->\n      <defs>\n       <path d=\"M 19.1875 8.296875 \nL 53.609375 8.296875 \nL 53.609375 0 \nL 7.328125 0 \nL 7.328125 8.296875 \nQ 12.9375 14.109375 22.625 23.890625 \nQ 32.328125 33.6875 34.8125 36.53125 \nQ 39.546875 41.84375 41.421875 45.53125 \nQ 43.3125 49.21875 43.3125 52.78125 \nQ 43.3125 58.59375 39.234375 62.25 \nQ 35.15625 65.921875 28.609375 65.921875 \nQ 23.96875 65.921875 18.8125 64.3125 \nQ 13.671875 62.703125 7.8125 59.421875 \nL 7.8125 69.390625 \nQ 13.765625 71.78125 18.9375 73 \nQ 24.125 74.21875 28.421875 74.21875 \nQ 39.75 74.21875 46.484375 68.546875 \nQ 53.21875 62.890625 53.21875 53.421875 \nQ 53.21875 48.921875 51.53125 44.890625 \nQ 49.859375 40.875 45.40625 35.40625 \nQ 44.1875 33.984375 37.640625 27.21875 \nQ 31.109375 20.453125 19.1875 8.296875 \nz\n\" id=\"DejaVuSans-50\"/>\n       <path d=\"M 10.796875 72.90625 \nL 49.515625 72.90625 \nL 49.515625 64.59375 \nL 19.828125 64.59375 \nL 19.828125 46.734375 \nQ 21.96875 47.46875 24.109375 47.828125 \nQ 26.265625 48.1875 28.421875 48.1875 \nQ 40.625 48.1875 47.75 41.5 \nQ 54.890625 34.8125 54.890625 23.390625 \nQ 54.890625 11.625 47.5625 5.09375 \nQ 40.234375 -1.421875 26.90625 -1.421875 \nQ 22.3125 -1.421875 17.546875 -0.640625 \nQ 12.796875 0.140625 7.71875 1.703125 \nL 7.71875 11.625 \nQ 12.109375 9.234375 16.796875 8.0625 \nQ 21.484375 6.890625 26.703125 6.890625 \nQ 35.15625 6.890625 40.078125 11.328125 \nQ 45.015625 15.765625 45.015625 23.390625 \nQ 45.015625 31 40.078125 35.4375 \nQ 35.15625 39.890625 26.703125 39.890625 \nQ 22.75 39.890625 18.8125 39.015625 \nQ 14.890625 38.140625 10.796875 36.28125 \nz\n\" id=\"DejaVuSans-53\"/>\n      </defs>\n      <g transform=\"translate(65.555824 235.738437)scale(0.1 -0.1)\">\n       <use xlink:href=\"#DejaVuSans-48\"/>\n       <use x=\"63.623047\" xlink:href=\"#DejaVuSans-46\"/>\n       <use x=\"95.410156\" xlink:href=\"#DejaVuSans-50\"/>\n       <use x=\"159.033203\" xlink:href=\"#DejaVuSans-53\"/>\n      </g>\n     </g>\n    </g>\n    <g id=\"xtick_3\">\n     <g id=\"line2d_5\">\n      <path clip-path=\"url(#pe45ef27858)\" d=\"M 114.734091 224.64 \nL 114.734091 7.2 \n\" style=\"fill:none;stroke:#b2b2b2;stroke-dasharray:1.85,0.8;stroke-dashoffset:0;stroke-width:0.5;\"/>\n     </g>\n     <g id=\"line2d_6\">\n      <g>\n       <use style=\"stroke:#000000;stroke-width:0.8;\" x=\"114.734091\" xlink:href=\"#m781684dccd\" y=\"224.64\"/>\n      </g>\n     </g>\n     <g id=\"text_3\">\n      <!-- 0.50 -->\n      <g transform=\"translate(103.601278 235.738437)scale(0.1 -0.1)\">\n       <use xlink:href=\"#DejaVuSans-48\"/>\n       <use x=\"63.623047\" xlink:href=\"#DejaVuSans-46\"/>\n       <use x=\"95.410156\" xlink:href=\"#DejaVuSans-53\"/>\n       <use x=\"159.033203\" xlink:href=\"#DejaVuSans-48\"/>\n      </g>\n     </g>\n    </g>\n    <g id=\"xtick_4\">\n     <g id=\"line2d_7\">\n      <path clip-path=\"url(#pe45ef27858)\" d=\"M 152.779545 224.64 \nL 152.779545 7.2 \n\" style=\"fill:none;stroke:#b2b2b2;stroke-dasharray:1.85,0.8;stroke-dashoffset:0;stroke-width:0.5;\"/>\n     </g>\n     <g id=\"line2d_8\">\n      <g>\n       <use style=\"stroke:#000000;stroke-width:0.8;\" x=\"152.779545\" xlink:href=\"#m781684dccd\" y=\"224.64\"/>\n      </g>\n     </g>\n     <g id=\"text_4\">\n      <!-- 0.75 -->\n      <defs>\n       <path d=\"M 8.203125 72.90625 \nL 55.078125 72.90625 \nL 55.078125 68.703125 \nL 28.609375 0 \nL 18.3125 0 \nL 43.21875 64.59375 \nL 8.203125 64.59375 \nz\n\" id=\"DejaVuSans-55\"/>\n      </defs>\n      <g transform=\"translate(141.646733 235.738437)scale(0.1 -0.1)\">\n       <use xlink:href=\"#DejaVuSans-48\"/>\n       <use x=\"63.623047\" xlink:href=\"#DejaVuSans-46\"/>\n       <use x=\"95.410156\" xlink:href=\"#DejaVuSans-55\"/>\n       <use x=\"159.033203\" xlink:href=\"#DejaVuSans-53\"/>\n      </g>\n     </g>\n    </g>\n    <g id=\"xtick_5\">\n     <g id=\"line2d_9\">\n      <path clip-path=\"url(#pe45ef27858)\" d=\"M 190.825 224.64 \nL 190.825 7.2 \n\" style=\"fill:none;stroke:#b2b2b2;stroke-dasharray:1.85,0.8;stroke-dashoffset:0;stroke-width:0.5;\"/>\n     </g>\n     <g id=\"line2d_10\">\n      <g>\n       <use style=\"stroke:#000000;stroke-width:0.8;\" x=\"190.825\" xlink:href=\"#m781684dccd\" y=\"224.64\"/>\n      </g>\n     </g>\n     <g id=\"text_5\">\n      <!-- 1.00 -->\n      <defs>\n       <path d=\"M 12.40625 8.296875 \nL 28.515625 8.296875 \nL 28.515625 63.921875 \nL 10.984375 60.40625 \nL 10.984375 69.390625 \nL 28.421875 72.90625 \nL 38.28125 72.90625 \nL 38.28125 8.296875 \nL 54.390625 8.296875 \nL 54.390625 0 \nL 12.40625 0 \nz\n\" id=\"DejaVuSans-49\"/>\n      </defs>\n      <g transform=\"translate(179.692187 235.738437)scale(0.1 -0.1)\">\n       <use xlink:href=\"#DejaVuSans-49\"/>\n       <use x=\"63.623047\" xlink:href=\"#DejaVuSans-46\"/>\n       <use x=\"95.410156\" xlink:href=\"#DejaVuSans-48\"/>\n       <use x=\"159.033203\" xlink:href=\"#DejaVuSans-48\"/>\n      </g>\n     </g>\n    </g>\n    <g id=\"xtick_6\">\n     <g id=\"line2d_11\">\n      <path clip-path=\"url(#pe45ef27858)\" d=\"M 228.870455 224.64 \nL 228.870455 7.2 \n\" style=\"fill:none;stroke:#b2b2b2;stroke-dasharray:1.85,0.8;stroke-dashoffset:0;stroke-width:0.5;\"/>\n     </g>\n     <g id=\"line2d_12\">\n      <g>\n       <use style=\"stroke:#000000;stroke-width:0.8;\" x=\"228.870455\" xlink:href=\"#m781684dccd\" y=\"224.64\"/>\n      </g>\n     </g>\n     <g id=\"text_6\">\n      <!-- 1.25 -->\n      <g transform=\"translate(217.737642 235.738437)scale(0.1 -0.1)\">\n       <use xlink:href=\"#DejaVuSans-49\"/>\n       <use x=\"63.623047\" xlink:href=\"#DejaVuSans-46\"/>\n       <use x=\"95.410156\" xlink:href=\"#DejaVuSans-50\"/>\n       <use x=\"159.033203\" xlink:href=\"#DejaVuSans-53\"/>\n      </g>\n     </g>\n    </g>\n    <g id=\"xtick_7\">\n     <g id=\"line2d_13\">\n      <path clip-path=\"url(#pe45ef27858)\" d=\"M 266.915909 224.64 \nL 266.915909 7.2 \n\" style=\"fill:none;stroke:#b2b2b2;stroke-dasharray:1.85,0.8;stroke-dashoffset:0;stroke-width:0.5;\"/>\n     </g>\n     <g id=\"line2d_14\">\n      <g>\n       <use style=\"stroke:#000000;stroke-width:0.8;\" x=\"266.915909\" xlink:href=\"#m781684dccd\" y=\"224.64\"/>\n      </g>\n     </g>\n     <g id=\"text_7\">\n      <!-- 1.50 -->\n      <g transform=\"translate(255.783097 235.738437)scale(0.1 -0.1)\">\n       <use xlink:href=\"#DejaVuSans-49\"/>\n       <use x=\"63.623047\" xlink:href=\"#DejaVuSans-46\"/>\n       <use x=\"95.410156\" xlink:href=\"#DejaVuSans-53\"/>\n       <use x=\"159.033203\" xlink:href=\"#DejaVuSans-48\"/>\n      </g>\n     </g>\n    </g>\n    <g id=\"xtick_8\">\n     <g id=\"line2d_15\">\n      <path clip-path=\"url(#pe45ef27858)\" d=\"M 304.961364 224.64 \nL 304.961364 7.2 \n\" style=\"fill:none;stroke:#b2b2b2;stroke-dasharray:1.85,0.8;stroke-dashoffset:0;stroke-width:0.5;\"/>\n     </g>\n     <g id=\"line2d_16\">\n      <g>\n       <use style=\"stroke:#000000;stroke-width:0.8;\" x=\"304.961364\" xlink:href=\"#m781684dccd\" y=\"224.64\"/>\n      </g>\n     </g>\n     <g id=\"text_8\">\n      <!-- 1.75 -->\n      <g transform=\"translate(293.828551 235.738437)scale(0.1 -0.1)\">\n       <use xlink:href=\"#DejaVuSans-49\"/>\n       <use x=\"63.623047\" xlink:href=\"#DejaVuSans-46\"/>\n       <use x=\"95.410156\" xlink:href=\"#DejaVuSans-55\"/>\n       <use x=\"159.033203\" xlink:href=\"#DejaVuSans-53\"/>\n      </g>\n     </g>\n    </g>\n    <g id=\"xtick_9\">\n     <g id=\"line2d_17\">\n      <path clip-path=\"url(#pe45ef27858)\" d=\"M 343.006818 224.64 \nL 343.006818 7.2 \n\" style=\"fill:none;stroke:#b2b2b2;stroke-dasharray:1.85,0.8;stroke-dashoffset:0;stroke-width:0.5;\"/>\n     </g>\n     <g id=\"line2d_18\">\n      <g>\n       <use style=\"stroke:#000000;stroke-width:0.8;\" x=\"343.006818\" xlink:href=\"#m781684dccd\" y=\"224.64\"/>\n      </g>\n     </g>\n     <g id=\"text_9\">\n      <!-- 2.00 -->\n      <g transform=\"translate(331.874006 235.738437)scale(0.1 -0.1)\">\n       <use xlink:href=\"#DejaVuSans-50\"/>\n       <use x=\"63.623047\" xlink:href=\"#DejaVuSans-46\"/>\n       <use x=\"95.410156\" xlink:href=\"#DejaVuSans-48\"/>\n       <use x=\"159.033203\" xlink:href=\"#DejaVuSans-48\"/>\n      </g>\n     </g>\n    </g>\n   </g>\n   <g id=\"matplotlib.axis_2\">\n    <g id=\"ytick_1\">\n     <g id=\"line2d_19\">\n      <path clip-path=\"url(#pe45ef27858)\" d=\"M 23.425 214.756364 \nL 358.225 214.756364 \n\" style=\"fill:none;stroke:#b2b2b2;stroke-dasharray:1.85,0.8;stroke-dashoffset:0;stroke-width:0.5;\"/>\n     </g>\n     <g id=\"line2d_20\">\n      <defs>\n       <path d=\"M 0 0 \nL 3.5 0 \n\" id=\"m951918f932\" style=\"stroke:#000000;stroke-width:0.8;\"/>\n      </defs>\n      <g>\n       <use style=\"stroke:#000000;stroke-width:0.8;\" x=\"23.425\" xlink:href=\"#m951918f932\" y=\"214.756364\"/>\n      </g>\n     </g>\n     <g id=\"text_10\">\n      <!-- 0 -->\n      <g transform=\"translate(13.5625 218.555582)scale(0.1 -0.1)\">\n       <use xlink:href=\"#DejaVuSans-48\"/>\n      </g>\n     </g>\n    </g>\n    <g id=\"ytick_2\">\n     <g id=\"line2d_21\">\n      <path clip-path=\"url(#pe45ef27858)\" d=\"M 23.425 179.457662 \nL 358.225 179.457662 \n\" style=\"fill:none;stroke:#b2b2b2;stroke-dasharray:1.85,0.8;stroke-dashoffset:0;stroke-width:0.5;\"/>\n     </g>\n     <g id=\"line2d_22\">\n      <g>\n       <use style=\"stroke:#000000;stroke-width:0.8;\" x=\"23.425\" xlink:href=\"#m951918f932\" y=\"179.457662\"/>\n      </g>\n     </g>\n     <g id=\"text_11\">\n      <!-- 10 -->\n      <g transform=\"translate(7.2 183.256881)scale(0.1 -0.1)\">\n       <use xlink:href=\"#DejaVuSans-49\"/>\n       <use x=\"63.623047\" xlink:href=\"#DejaVuSans-48\"/>\n      </g>\n     </g>\n    </g>\n    <g id=\"ytick_3\">\n     <g id=\"line2d_23\">\n      <path clip-path=\"url(#pe45ef27858)\" d=\"M 23.425 144.158961 \nL 358.225 144.158961 \n\" style=\"fill:none;stroke:#b2b2b2;stroke-dasharray:1.85,0.8;stroke-dashoffset:0;stroke-width:0.5;\"/>\n     </g>\n     <g id=\"line2d_24\">\n      <g>\n       <use style=\"stroke:#000000;stroke-width:0.8;\" x=\"23.425\" xlink:href=\"#m951918f932\" y=\"144.158961\"/>\n      </g>\n     </g>\n     <g id=\"text_12\">\n      <!-- 20 -->\n      <g transform=\"translate(7.2 147.95818)scale(0.1 -0.1)\">\n       <use xlink:href=\"#DejaVuSans-50\"/>\n       <use x=\"63.623047\" xlink:href=\"#DejaVuSans-48\"/>\n      </g>\n     </g>\n    </g>\n    <g id=\"ytick_4\">\n     <g id=\"line2d_25\">\n      <path clip-path=\"url(#pe45ef27858)\" d=\"M 23.425 108.86026 \nL 358.225 108.86026 \n\" style=\"fill:none;stroke:#b2b2b2;stroke-dasharray:1.85,0.8;stroke-dashoffset:0;stroke-width:0.5;\"/>\n     </g>\n     <g id=\"line2d_26\">\n      <g>\n       <use style=\"stroke:#000000;stroke-width:0.8;\" x=\"23.425\" xlink:href=\"#m951918f932\" y=\"108.86026\"/>\n      </g>\n     </g>\n     <g id=\"text_13\">\n      <!-- 30 -->\n      <defs>\n       <path d=\"M 40.578125 39.3125 \nQ 47.65625 37.796875 51.625 33 \nQ 55.609375 28.21875 55.609375 21.1875 \nQ 55.609375 10.40625 48.1875 4.484375 \nQ 40.765625 -1.421875 27.09375 -1.421875 \nQ 22.515625 -1.421875 17.65625 -0.515625 \nQ 12.796875 0.390625 7.625 2.203125 \nL 7.625 11.71875 \nQ 11.71875 9.328125 16.59375 8.109375 \nQ 21.484375 6.890625 26.8125 6.890625 \nQ 36.078125 6.890625 40.9375 10.546875 \nQ 45.796875 14.203125 45.796875 21.1875 \nQ 45.796875 27.640625 41.28125 31.265625 \nQ 36.765625 34.90625 28.71875 34.90625 \nL 20.21875 34.90625 \nL 20.21875 43.015625 \nL 29.109375 43.015625 \nQ 36.375 43.015625 40.234375 45.921875 \nQ 44.09375 48.828125 44.09375 54.296875 \nQ 44.09375 59.90625 40.109375 62.90625 \nQ 36.140625 65.921875 28.71875 65.921875 \nQ 24.65625 65.921875 20.015625 65.03125 \nQ 15.375 64.15625 9.8125 62.3125 \nL 9.8125 71.09375 \nQ 15.4375 72.65625 20.34375 73.4375 \nQ 25.25 74.21875 29.59375 74.21875 \nQ 40.828125 74.21875 47.359375 69.109375 \nQ 53.90625 64.015625 53.90625 55.328125 \nQ 53.90625 49.265625 50.4375 45.09375 \nQ 46.96875 40.921875 40.578125 39.3125 \nz\n\" id=\"DejaVuSans-51\"/>\n      </defs>\n      <g transform=\"translate(7.2 112.659478)scale(0.1 -0.1)\">\n       <use xlink:href=\"#DejaVuSans-51\"/>\n       <use x=\"63.623047\" xlink:href=\"#DejaVuSans-48\"/>\n      </g>\n     </g>\n    </g>\n    <g id=\"ytick_5\">\n     <g id=\"line2d_27\">\n      <path clip-path=\"url(#pe45ef27858)\" d=\"M 23.425 73.561558 \nL 358.225 73.561558 \n\" style=\"fill:none;stroke:#b2b2b2;stroke-dasharray:1.85,0.8;stroke-dashoffset:0;stroke-width:0.5;\"/>\n     </g>\n     <g id=\"line2d_28\">\n      <g>\n       <use style=\"stroke:#000000;stroke-width:0.8;\" x=\"23.425\" xlink:href=\"#m951918f932\" y=\"73.561558\"/>\n      </g>\n     </g>\n     <g id=\"text_14\">\n      <!-- 40 -->\n      <defs>\n       <path d=\"M 37.796875 64.3125 \nL 12.890625 25.390625 \nL 37.796875 25.390625 \nz\nM 35.203125 72.90625 \nL 47.609375 72.90625 \nL 47.609375 25.390625 \nL 58.015625 25.390625 \nL 58.015625 17.1875 \nL 47.609375 17.1875 \nL 47.609375 0 \nL 37.796875 0 \nL 37.796875 17.1875 \nL 4.890625 17.1875 \nL 4.890625 26.703125 \nz\n\" id=\"DejaVuSans-52\"/>\n      </defs>\n      <g transform=\"translate(7.2 77.360777)scale(0.1 -0.1)\">\n       <use xlink:href=\"#DejaVuSans-52\"/>\n       <use x=\"63.623047\" xlink:href=\"#DejaVuSans-48\"/>\n      </g>\n     </g>\n    </g>\n    <g id=\"ytick_6\">\n     <g id=\"line2d_29\">\n      <path clip-path=\"url(#pe45ef27858)\" d=\"M 23.425 38.262857 \nL 358.225 38.262857 \n\" style=\"fill:none;stroke:#b2b2b2;stroke-dasharray:1.85,0.8;stroke-dashoffset:0;stroke-width:0.5;\"/>\n     </g>\n     <g id=\"line2d_30\">\n      <g>\n       <use style=\"stroke:#000000;stroke-width:0.8;\" x=\"23.425\" xlink:href=\"#m951918f932\" y=\"38.262857\"/>\n      </g>\n     </g>\n     <g id=\"text_15\">\n      <!-- 50 -->\n      <g transform=\"translate(7.2 42.062076)scale(0.1 -0.1)\">\n       <use xlink:href=\"#DejaVuSans-53\"/>\n       <use x=\"63.623047\" xlink:href=\"#DejaVuSans-48\"/>\n      </g>\n     </g>\n    </g>\n   </g>\n   <g id=\"LineCollection_1\">\n    <path clip-path=\"url(#pe45ef27858)\" d=\"M 38.643182 214.756364 \nL 38.643182 122.97974 \n\" style=\"fill:none;stroke:#348abd;stroke-width:2;\"/>\n    <path clip-path=\"url(#pe45ef27858)\" d=\"M 190.825 214.756364 \nL 190.825 17.083636 \n\" style=\"fill:none;stroke:#348abd;stroke-width:2;\"/>\n    <path clip-path=\"url(#pe45ef27858)\" d=\"M 343.006818 214.756364 \nL 343.006818 151.218701 \n\" style=\"fill:none;stroke:#348abd;stroke-width:2;\"/>\n   </g>\n   <g id=\"line2d_31\">\n    <defs>\n     <path d=\"M 0 3 \nC 0.795609 3 1.55874 2.683901 2.12132 2.12132 \nC 2.683901 1.55874 3 0.795609 3 0 \nC 3 -0.795609 2.683901 -1.55874 2.12132 -2.12132 \nC 1.55874 -2.683901 0.795609 -3 0 -3 \nC -0.795609 -3 -1.55874 -2.683901 -2.12132 -2.12132 \nC -2.683901 -1.55874 -3 -0.795609 -3 0 \nC -3 0.795609 -2.683901 1.55874 -2.12132 2.12132 \nC -1.55874 2.683901 -0.795609 3 0 3 \nz\n\" id=\"m024b669521\" style=\"stroke:#348abd;\"/>\n    </defs>\n    <g clip-path=\"url(#pe45ef27858)\">\n     <use style=\"fill:#348abd;stroke:#348abd;\" x=\"38.643182\" xlink:href=\"#m024b669521\" y=\"122.97974\"/>\n     <use style=\"fill:#348abd;stroke:#348abd;\" x=\"190.825\" xlink:href=\"#m024b669521\" y=\"17.083636\"/>\n     <use style=\"fill:#348abd;stroke:#348abd;\" x=\"343.006818\" xlink:href=\"#m024b669521\" y=\"151.218701\"/>\n    </g>\n   </g>\n   <g id=\"line2d_32\">\n    <path clip-path=\"url(#pe45ef27858)\" d=\"M 38.643182 214.756364 \nL 343.006818 214.756364 \n\" style=\"fill:none;stroke:#467821;stroke-linecap:square;stroke-width:2;\"/>\n   </g>\n   <g id=\"patch_3\">\n    <path d=\"M 23.425 224.64 \nL 23.425 7.2 \n\" style=\"fill:none;stroke:#bcbcbc;stroke-linecap:square;stroke-linejoin:miter;stroke-width:0.8;\"/>\n   </g>\n   <g id=\"patch_4\">\n    <path d=\"M 358.225 224.64 \nL 358.225 7.2 \n\" style=\"fill:none;stroke:#bcbcbc;stroke-linecap:square;stroke-linejoin:miter;stroke-width:0.8;\"/>\n   </g>\n   <g id=\"patch_5\">\n    <path d=\"M 23.425 224.64 \nL 358.225 224.64 \n\" style=\"fill:none;stroke:#bcbcbc;stroke-linecap:square;stroke-linejoin:miter;stroke-width:0.8;\"/>\n   </g>\n   <g id=\"patch_6\">\n    <path d=\"M 23.425 7.2 \nL 358.225 7.2 \n\" style=\"fill:none;stroke:#bcbcbc;stroke-linecap:square;stroke-linejoin:miter;stroke-width:0.8;\"/>\n   </g>\n  </g>\n </g>\n <defs>\n  <clipPath id=\"pe45ef27858\">\n   <rect height=\"217.44\" width=\"334.8\" x=\"23.425\" y=\"7.2\"/>\n  </clipPath>\n </defs>\n</svg>\n"
          },
          "metadata": {
            "needs_background": "light"
          }
        }
      ],
      "source": [
        "values, counts = np.unique(heads, return_counts=True)\n",
        "plt.stem(values, counts, use_line_collection=True)\n",
        "plt.show()"
      ]
    },
    {
      "cell_type": "markdown",
      "metadata": {
        "id": "NGq6UUBTYia5"
      },
      "source": [
        "The SymPy library, which adds symbolic mathematics capabilities to Python, has functionality that allows us to calculate the expected number of heads and the probability distribution **analytically**."
      ]
    },
    {
      "cell_type": "code",
      "execution_count": 41,
      "metadata": {
        "id": "joIX9aMSYia5",
        "outputId": "7632643c-dbff-4ad9-be98-a841397b5e4f",
        "colab": {
          "base_uri": "https://localhost:8080/",
          "height": 37
        }
      },
      "outputs": [
        {
          "output_type": "execute_result",
          "data": {
            "text/plain": [
              "1.00000000000000"
            ],
            "text/latex": "$\\displaystyle 1.0$"
          },
          "metadata": {},
          "execution_count": 41
        }
      ],
      "source": [
        "import sympy.stats\n",
        "from sympy.interactive import printing\n",
        "# printing.init_printing(use_latex=\"mathjax\")\n",
        "\n",
        "toss1 = sympy.stats.Bernoulli(\"toss1\", p=0.5)\n",
        "toss2 = sympy.stats.Bernoulli(\"toss2\", p=0.5)\n",
        "sympy.stats.E(toss1 + toss2)"
      ]
    },
    {
      "cell_type": "markdown",
      "metadata": {
        "id": "NGNGKbeFYia5"
      },
      "source": [
        "So the **expected value** of the number of heads is 1 (the numerical approximation we estimated using our simulation above was very close to that). Now let’s examine the **probability distribution**. "
      ]
    },
    {
      "cell_type": "code",
      "execution_count": 42,
      "metadata": {
        "scrolled": true,
        "id": "Jdh__z8TYia5",
        "outputId": "7a8ad246-5d3b-4acd-e2cd-7a67133c8c0b",
        "colab": {
          "base_uri": "https://localhost:8080/"
        }
      },
      "outputs": [
        {
          "output_type": "execute_result",
          "data": {
            "text/plain": [
              "{0: 0.250000000000000, 1: 0.500000000000000, 2: 0.250000000000000}"
            ]
          },
          "metadata": {},
          "execution_count": 42
        }
      ],
      "source": [
        "sympy.stats.density(toss1 + toss2)"
      ]
    },
    {
      "cell_type": "markdown",
      "metadata": {
        "id": "BGwUe0GYYia5"
      },
      "source": [
        "## Expected value of a dice roll"
      ]
    },
    {
      "cell_type": "markdown",
      "metadata": {
        "id": "m1_cAQW9Yia5"
      },
      "source": [
        "The expected value of a dice roll is \n",
        "\n",
        "$$\\sum_{i=1}^6 i \\times \\frac{1}{6} = 3.5$$\n",
        "\n",
        "That means that if we toss a dice a large number of times, the mean value should converge to 3.5. Let’s check that empirically by running a simulation in Python."
      ]
    },
    {
      "cell_type": "code",
      "execution_count": 43,
      "metadata": {
        "id": "U8_5JQ5QYia5",
        "outputId": "17478f9a-ddf7-4483-9ebf-ea2bd7cd2dce",
        "colab": {
          "base_uri": "https://localhost:8080/",
          "height": 371
        }
      },
      "outputs": [
        {
          "output_type": "display_data",
          "data": {
            "text/plain": [
              "<Figure size 432x288 with 1 Axes>"
            ],
            "image/svg+xml": "<?xml version=\"1.0\" encoding=\"utf-8\" standalone=\"no\"?>\n<!DOCTYPE svg PUBLIC \"-//W3C//DTD SVG 1.1//EN\"\n  \"http://www.w3.org/Graphics/SVG/1.1/DTD/svg11.dtd\">\n<!-- Created with matplotlib (https://matplotlib.org/) -->\n<svg height=\"261.959875pt\" version=\"1.1\" viewBox=\"0 0 368.603125 261.959875\" width=\"368.603125pt\" xmlns=\"http://www.w3.org/2000/svg\" xmlns:xlink=\"http://www.w3.org/1999/xlink\">\n <defs>\n  <style type=\"text/css\">\n*{stroke-linecap:butt;stroke-linejoin:round;}\n  </style>\n </defs>\n <g id=\"figure_1\">\n  <g id=\"patch_1\">\n   <path d=\"M -0 261.959875 \nL 368.603125 261.959875 \nL 368.603125 0 \nL -0 0 \nz\n\" style=\"fill:none;\"/>\n  </g>\n  <g id=\"axes_1\">\n   <g id=\"patch_2\">\n    <path d=\"M 26.603125 241.58175 \nL 361.403125 241.58175 \nL 361.403125 24.14175 \nL 26.603125 24.14175 \nz\n\" style=\"fill:#eeeeee;\"/>\n   </g>\n   <g id=\"matplotlib.axis_1\">\n    <g id=\"xtick_1\">\n     <g id=\"line2d_1\">\n      <path clip-path=\"url(#p314d248b92)\" d=\"M 41.821307 241.58175 \nL 41.821307 24.14175 \n\" style=\"fill:none;stroke:#b2b2b2;stroke-dasharray:1.85,0.8;stroke-dashoffset:0;stroke-width:0.5;\"/>\n     </g>\n     <g id=\"line2d_2\">\n      <defs>\n       <path d=\"M 0 0 \nL 0 -3.5 \n\" id=\"m1aebdcbec1\" style=\"stroke:#000000;stroke-width:0.8;\"/>\n      </defs>\n      <g>\n       <use style=\"stroke:#000000;stroke-width:0.8;\" x=\"41.821307\" xlink:href=\"#m1aebdcbec1\" y=\"241.58175\"/>\n      </g>\n     </g>\n     <g id=\"text_1\">\n      <!-- 0 -->\n      <defs>\n       <path d=\"M 31.78125 66.40625 \nQ 24.171875 66.40625 20.328125 58.90625 \nQ 16.5 51.421875 16.5 36.375 \nQ 16.5 21.390625 20.328125 13.890625 \nQ 24.171875 6.390625 31.78125 6.390625 \nQ 39.453125 6.390625 43.28125 13.890625 \nQ 47.125 21.390625 47.125 36.375 \nQ 47.125 51.421875 43.28125 58.90625 \nQ 39.453125 66.40625 31.78125 66.40625 \nz\nM 31.78125 74.21875 \nQ 44.046875 74.21875 50.515625 64.515625 \nQ 56.984375 54.828125 56.984375 36.375 \nQ 56.984375 17.96875 50.515625 8.265625 \nQ 44.046875 -1.421875 31.78125 -1.421875 \nQ 19.53125 -1.421875 13.0625 8.265625 \nQ 6.59375 17.96875 6.59375 36.375 \nQ 6.59375 54.828125 13.0625 64.515625 \nQ 19.53125 74.21875 31.78125 74.21875 \nz\n\" id=\"DejaVuSans-48\"/>\n      </defs>\n      <g transform=\"translate(38.640057 252.680188)scale(0.1 -0.1)\">\n       <use xlink:href=\"#DejaVuSans-48\"/>\n      </g>\n     </g>\n    </g>\n    <g id=\"xtick_2\">\n     <g id=\"line2d_3\">\n      <path clip-path=\"url(#p314d248b92)\" d=\"M 102.754968 241.58175 \nL 102.754968 24.14175 \n\" style=\"fill:none;stroke:#b2b2b2;stroke-dasharray:1.85,0.8;stroke-dashoffset:0;stroke-width:0.5;\"/>\n     </g>\n     <g id=\"line2d_4\">\n      <g>\n       <use style=\"stroke:#000000;stroke-width:0.8;\" x=\"102.754968\" xlink:href=\"#m1aebdcbec1\" y=\"241.58175\"/>\n      </g>\n     </g>\n     <g id=\"text_2\">\n      <!-- 200 -->\n      <defs>\n       <path d=\"M 19.1875 8.296875 \nL 53.609375 8.296875 \nL 53.609375 0 \nL 7.328125 0 \nL 7.328125 8.296875 \nQ 12.9375 14.109375 22.625 23.890625 \nQ 32.328125 33.6875 34.8125 36.53125 \nQ 39.546875 41.84375 41.421875 45.53125 \nQ 43.3125 49.21875 43.3125 52.78125 \nQ 43.3125 58.59375 39.234375 62.25 \nQ 35.15625 65.921875 28.609375 65.921875 \nQ 23.96875 65.921875 18.8125 64.3125 \nQ 13.671875 62.703125 7.8125 59.421875 \nL 7.8125 69.390625 \nQ 13.765625 71.78125 18.9375 73 \nQ 24.125 74.21875 28.421875 74.21875 \nQ 39.75 74.21875 46.484375 68.546875 \nQ 53.21875 62.890625 53.21875 53.421875 \nQ 53.21875 48.921875 51.53125 44.890625 \nQ 49.859375 40.875 45.40625 35.40625 \nQ 44.1875 33.984375 37.640625 27.21875 \nQ 31.109375 20.453125 19.1875 8.296875 \nz\n\" id=\"DejaVuSans-50\"/>\n      </defs>\n      <g transform=\"translate(93.211218 252.680188)scale(0.1 -0.1)\">\n       <use xlink:href=\"#DejaVuSans-50\"/>\n       <use x=\"63.623047\" xlink:href=\"#DejaVuSans-48\"/>\n       <use x=\"127.246094\" xlink:href=\"#DejaVuSans-48\"/>\n      </g>\n     </g>\n    </g>\n    <g id=\"xtick_3\">\n     <g id=\"line2d_5\">\n      <path clip-path=\"url(#p314d248b92)\" d=\"M 163.688629 241.58175 \nL 163.688629 24.14175 \n\" style=\"fill:none;stroke:#b2b2b2;stroke-dasharray:1.85,0.8;stroke-dashoffset:0;stroke-width:0.5;\"/>\n     </g>\n     <g id=\"line2d_6\">\n      <g>\n       <use style=\"stroke:#000000;stroke-width:0.8;\" x=\"163.688629\" xlink:href=\"#m1aebdcbec1\" y=\"241.58175\"/>\n      </g>\n     </g>\n     <g id=\"text_3\">\n      <!-- 400 -->\n      <defs>\n       <path d=\"M 37.796875 64.3125 \nL 12.890625 25.390625 \nL 37.796875 25.390625 \nz\nM 35.203125 72.90625 \nL 47.609375 72.90625 \nL 47.609375 25.390625 \nL 58.015625 25.390625 \nL 58.015625 17.1875 \nL 47.609375 17.1875 \nL 47.609375 0 \nL 37.796875 0 \nL 37.796875 17.1875 \nL 4.890625 17.1875 \nL 4.890625 26.703125 \nz\n\" id=\"DejaVuSans-52\"/>\n      </defs>\n      <g transform=\"translate(154.144879 252.680188)scale(0.1 -0.1)\">\n       <use xlink:href=\"#DejaVuSans-52\"/>\n       <use x=\"63.623047\" xlink:href=\"#DejaVuSans-48\"/>\n       <use x=\"127.246094\" xlink:href=\"#DejaVuSans-48\"/>\n      </g>\n     </g>\n    </g>\n    <g id=\"xtick_4\">\n     <g id=\"line2d_7\">\n      <path clip-path=\"url(#p314d248b92)\" d=\"M 224.62229 241.58175 \nL 224.62229 24.14175 \n\" style=\"fill:none;stroke:#b2b2b2;stroke-dasharray:1.85,0.8;stroke-dashoffset:0;stroke-width:0.5;\"/>\n     </g>\n     <g id=\"line2d_8\">\n      <g>\n       <use style=\"stroke:#000000;stroke-width:0.8;\" x=\"224.62229\" xlink:href=\"#m1aebdcbec1\" y=\"241.58175\"/>\n      </g>\n     </g>\n     <g id=\"text_4\">\n      <!-- 600 -->\n      <defs>\n       <path d=\"M 33.015625 40.375 \nQ 26.375 40.375 22.484375 35.828125 \nQ 18.609375 31.296875 18.609375 23.390625 \nQ 18.609375 15.53125 22.484375 10.953125 \nQ 26.375 6.390625 33.015625 6.390625 \nQ 39.65625 6.390625 43.53125 10.953125 \nQ 47.40625 15.53125 47.40625 23.390625 \nQ 47.40625 31.296875 43.53125 35.828125 \nQ 39.65625 40.375 33.015625 40.375 \nz\nM 52.59375 71.296875 \nL 52.59375 62.3125 \nQ 48.875 64.0625 45.09375 64.984375 \nQ 41.3125 65.921875 37.59375 65.921875 \nQ 27.828125 65.921875 22.671875 59.328125 \nQ 17.53125 52.734375 16.796875 39.40625 \nQ 19.671875 43.65625 24.015625 45.921875 \nQ 28.375 48.1875 33.59375 48.1875 \nQ 44.578125 48.1875 50.953125 41.515625 \nQ 57.328125 34.859375 57.328125 23.390625 \nQ 57.328125 12.15625 50.6875 5.359375 \nQ 44.046875 -1.421875 33.015625 -1.421875 \nQ 20.359375 -1.421875 13.671875 8.265625 \nQ 6.984375 17.96875 6.984375 36.375 \nQ 6.984375 53.65625 15.1875 63.9375 \nQ 23.390625 74.21875 37.203125 74.21875 \nQ 40.921875 74.21875 44.703125 73.484375 \nQ 48.484375 72.75 52.59375 71.296875 \nz\n\" id=\"DejaVuSans-54\"/>\n      </defs>\n      <g transform=\"translate(215.07854 252.680188)scale(0.1 -0.1)\">\n       <use xlink:href=\"#DejaVuSans-54\"/>\n       <use x=\"63.623047\" xlink:href=\"#DejaVuSans-48\"/>\n       <use x=\"127.246094\" xlink:href=\"#DejaVuSans-48\"/>\n      </g>\n     </g>\n    </g>\n    <g id=\"xtick_5\">\n     <g id=\"line2d_9\">\n      <path clip-path=\"url(#p314d248b92)\" d=\"M 285.555951 241.58175 \nL 285.555951 24.14175 \n\" style=\"fill:none;stroke:#b2b2b2;stroke-dasharray:1.85,0.8;stroke-dashoffset:0;stroke-width:0.5;\"/>\n     </g>\n     <g id=\"line2d_10\">\n      <g>\n       <use style=\"stroke:#000000;stroke-width:0.8;\" x=\"285.555951\" xlink:href=\"#m1aebdcbec1\" y=\"241.58175\"/>\n      </g>\n     </g>\n     <g id=\"text_5\">\n      <!-- 800 -->\n      <defs>\n       <path d=\"M 31.78125 34.625 \nQ 24.75 34.625 20.71875 30.859375 \nQ 16.703125 27.09375 16.703125 20.515625 \nQ 16.703125 13.921875 20.71875 10.15625 \nQ 24.75 6.390625 31.78125 6.390625 \nQ 38.8125 6.390625 42.859375 10.171875 \nQ 46.921875 13.96875 46.921875 20.515625 \nQ 46.921875 27.09375 42.890625 30.859375 \nQ 38.875 34.625 31.78125 34.625 \nz\nM 21.921875 38.8125 \nQ 15.578125 40.375 12.03125 44.71875 \nQ 8.5 49.078125 8.5 55.328125 \nQ 8.5 64.0625 14.71875 69.140625 \nQ 20.953125 74.21875 31.78125 74.21875 \nQ 42.671875 74.21875 48.875 69.140625 \nQ 55.078125 64.0625 55.078125 55.328125 \nQ 55.078125 49.078125 51.53125 44.71875 \nQ 48 40.375 41.703125 38.8125 \nQ 48.828125 37.15625 52.796875 32.3125 \nQ 56.78125 27.484375 56.78125 20.515625 \nQ 56.78125 9.90625 50.3125 4.234375 \nQ 43.84375 -1.421875 31.78125 -1.421875 \nQ 19.734375 -1.421875 13.25 4.234375 \nQ 6.78125 9.90625 6.78125 20.515625 \nQ 6.78125 27.484375 10.78125 32.3125 \nQ 14.796875 37.15625 21.921875 38.8125 \nz\nM 18.3125 54.390625 \nQ 18.3125 48.734375 21.84375 45.5625 \nQ 25.390625 42.390625 31.78125 42.390625 \nQ 38.140625 42.390625 41.71875 45.5625 \nQ 45.3125 48.734375 45.3125 54.390625 \nQ 45.3125 60.0625 41.71875 63.234375 \nQ 38.140625 66.40625 31.78125 66.40625 \nQ 25.390625 66.40625 21.84375 63.234375 \nQ 18.3125 60.0625 18.3125 54.390625 \nz\n\" id=\"DejaVuSans-56\"/>\n      </defs>\n      <g transform=\"translate(276.012201 252.680188)scale(0.1 -0.1)\">\n       <use xlink:href=\"#DejaVuSans-56\"/>\n       <use x=\"63.623047\" xlink:href=\"#DejaVuSans-48\"/>\n       <use x=\"127.246094\" xlink:href=\"#DejaVuSans-48\"/>\n      </g>\n     </g>\n    </g>\n    <g id=\"xtick_6\">\n     <g id=\"line2d_11\">\n      <path clip-path=\"url(#p314d248b92)\" d=\"M 346.489611 241.58175 \nL 346.489611 24.14175 \n\" style=\"fill:none;stroke:#b2b2b2;stroke-dasharray:1.85,0.8;stroke-dashoffset:0;stroke-width:0.5;\"/>\n     </g>\n     <g id=\"line2d_12\">\n      <g>\n       <use style=\"stroke:#000000;stroke-width:0.8;\" x=\"346.489611\" xlink:href=\"#m1aebdcbec1\" y=\"241.58175\"/>\n      </g>\n     </g>\n     <g id=\"text_6\">\n      <!-- 1000 -->\n      <defs>\n       <path d=\"M 12.40625 8.296875 \nL 28.515625 8.296875 \nL 28.515625 63.921875 \nL 10.984375 60.40625 \nL 10.984375 69.390625 \nL 28.421875 72.90625 \nL 38.28125 72.90625 \nL 38.28125 8.296875 \nL 54.390625 8.296875 \nL 54.390625 0 \nL 12.40625 0 \nz\n\" id=\"DejaVuSans-49\"/>\n      </defs>\n      <g transform=\"translate(333.764611 252.680188)scale(0.1 -0.1)\">\n       <use xlink:href=\"#DejaVuSans-49\"/>\n       <use x=\"63.623047\" xlink:href=\"#DejaVuSans-48\"/>\n       <use x=\"127.246094\" xlink:href=\"#DejaVuSans-48\"/>\n       <use x=\"190.869141\" xlink:href=\"#DejaVuSans-48\"/>\n      </g>\n     </g>\n    </g>\n   </g>\n   <g id=\"matplotlib.axis_2\">\n    <g id=\"ytick_1\">\n     <g id=\"line2d_13\">\n      <path clip-path=\"url(#p314d248b92)\" d=\"M 26.603125 231.698114 \nL 361.403125 231.698114 \n\" style=\"fill:none;stroke:#b2b2b2;stroke-dasharray:1.85,0.8;stroke-dashoffset:0;stroke-width:0.5;\"/>\n     </g>\n     <g id=\"line2d_14\">\n      <defs>\n       <path d=\"M 0 0 \nL 3.5 0 \n\" id=\"mf6443cc59a\" style=\"stroke:#000000;stroke-width:0.8;\"/>\n      </defs>\n      <g>\n       <use style=\"stroke:#000000;stroke-width:0.8;\" x=\"26.603125\" xlink:href=\"#mf6443cc59a\" y=\"231.698114\"/>\n      </g>\n     </g>\n     <g id=\"text_7\">\n      <!-- 0.0 -->\n      <defs>\n       <path d=\"M 10.6875 12.40625 \nL 21 12.40625 \nL 21 0 \nL 10.6875 0 \nz\n\" id=\"DejaVuSans-46\"/>\n      </defs>\n      <g transform=\"translate(7.2 235.497332)scale(0.1 -0.1)\">\n       <use xlink:href=\"#DejaVuSans-48\"/>\n       <use x=\"63.623047\" xlink:href=\"#DejaVuSans-46\"/>\n       <use x=\"95.410156\" xlink:href=\"#DejaVuSans-48\"/>\n      </g>\n     </g>\n    </g>\n    <g id=\"ytick_2\">\n     <g id=\"line2d_15\">\n      <path clip-path=\"url(#p314d248b92)\" d=\"M 26.603125 204.243568 \nL 361.403125 204.243568 \n\" style=\"fill:none;stroke:#b2b2b2;stroke-dasharray:1.85,0.8;stroke-dashoffset:0;stroke-width:0.5;\"/>\n     </g>\n     <g id=\"line2d_16\">\n      <g>\n       <use style=\"stroke:#000000;stroke-width:0.8;\" x=\"26.603125\" xlink:href=\"#mf6443cc59a\" y=\"204.243568\"/>\n      </g>\n     </g>\n     <g id=\"text_8\">\n      <!-- 0.5 -->\n      <defs>\n       <path d=\"M 10.796875 72.90625 \nL 49.515625 72.90625 \nL 49.515625 64.59375 \nL 19.828125 64.59375 \nL 19.828125 46.734375 \nQ 21.96875 47.46875 24.109375 47.828125 \nQ 26.265625 48.1875 28.421875 48.1875 \nQ 40.625 48.1875 47.75 41.5 \nQ 54.890625 34.8125 54.890625 23.390625 \nQ 54.890625 11.625 47.5625 5.09375 \nQ 40.234375 -1.421875 26.90625 -1.421875 \nQ 22.3125 -1.421875 17.546875 -0.640625 \nQ 12.796875 0.140625 7.71875 1.703125 \nL 7.71875 11.625 \nQ 12.109375 9.234375 16.796875 8.0625 \nQ 21.484375 6.890625 26.703125 6.890625 \nQ 35.15625 6.890625 40.078125 11.328125 \nQ 45.015625 15.765625 45.015625 23.390625 \nQ 45.015625 31 40.078125 35.4375 \nQ 35.15625 39.890625 26.703125 39.890625 \nQ 22.75 39.890625 18.8125 39.015625 \nQ 14.890625 38.140625 10.796875 36.28125 \nz\n\" id=\"DejaVuSans-53\"/>\n      </defs>\n      <g transform=\"translate(7.2 208.042787)scale(0.1 -0.1)\">\n       <use xlink:href=\"#DejaVuSans-48\"/>\n       <use x=\"63.623047\" xlink:href=\"#DejaVuSans-46\"/>\n       <use x=\"95.410156\" xlink:href=\"#DejaVuSans-53\"/>\n      </g>\n     </g>\n    </g>\n    <g id=\"ytick_3\">\n     <g id=\"line2d_17\">\n      <path clip-path=\"url(#p314d248b92)\" d=\"M 26.603125 176.789023 \nL 361.403125 176.789023 \n\" style=\"fill:none;stroke:#b2b2b2;stroke-dasharray:1.85,0.8;stroke-dashoffset:0;stroke-width:0.5;\"/>\n     </g>\n     <g id=\"line2d_18\">\n      <g>\n       <use style=\"stroke:#000000;stroke-width:0.8;\" x=\"26.603125\" xlink:href=\"#mf6443cc59a\" y=\"176.789023\"/>\n      </g>\n     </g>\n     <g id=\"text_9\">\n      <!-- 1.0 -->\n      <g transform=\"translate(7.2 180.588241)scale(0.1 -0.1)\">\n       <use xlink:href=\"#DejaVuSans-49\"/>\n       <use x=\"63.623047\" xlink:href=\"#DejaVuSans-46\"/>\n       <use x=\"95.410156\" xlink:href=\"#DejaVuSans-48\"/>\n      </g>\n     </g>\n    </g>\n    <g id=\"ytick_4\">\n     <g id=\"line2d_19\">\n      <path clip-path=\"url(#p314d248b92)\" d=\"M 26.603125 149.334477 \nL 361.403125 149.334477 \n\" style=\"fill:none;stroke:#b2b2b2;stroke-dasharray:1.85,0.8;stroke-dashoffset:0;stroke-width:0.5;\"/>\n     </g>\n     <g id=\"line2d_20\">\n      <g>\n       <use style=\"stroke:#000000;stroke-width:0.8;\" x=\"26.603125\" xlink:href=\"#mf6443cc59a\" y=\"149.334477\"/>\n      </g>\n     </g>\n     <g id=\"text_10\">\n      <!-- 1.5 -->\n      <g transform=\"translate(7.2 153.133696)scale(0.1 -0.1)\">\n       <use xlink:href=\"#DejaVuSans-49\"/>\n       <use x=\"63.623047\" xlink:href=\"#DejaVuSans-46\"/>\n       <use x=\"95.410156\" xlink:href=\"#DejaVuSans-53\"/>\n      </g>\n     </g>\n    </g>\n    <g id=\"ytick_5\">\n     <g id=\"line2d_21\">\n      <path clip-path=\"url(#p314d248b92)\" d=\"M 26.603125 121.879932 \nL 361.403125 121.879932 \n\" style=\"fill:none;stroke:#b2b2b2;stroke-dasharray:1.85,0.8;stroke-dashoffset:0;stroke-width:0.5;\"/>\n     </g>\n     <g id=\"line2d_22\">\n      <g>\n       <use style=\"stroke:#000000;stroke-width:0.8;\" x=\"26.603125\" xlink:href=\"#mf6443cc59a\" y=\"121.879932\"/>\n      </g>\n     </g>\n     <g id=\"text_11\">\n      <!-- 2.0 -->\n      <g transform=\"translate(7.2 125.679151)scale(0.1 -0.1)\">\n       <use xlink:href=\"#DejaVuSans-50\"/>\n       <use x=\"63.623047\" xlink:href=\"#DejaVuSans-46\"/>\n       <use x=\"95.410156\" xlink:href=\"#DejaVuSans-48\"/>\n      </g>\n     </g>\n    </g>\n    <g id=\"ytick_6\">\n     <g id=\"line2d_23\">\n      <path clip-path=\"url(#p314d248b92)\" d=\"M 26.603125 94.425386 \nL 361.403125 94.425386 \n\" style=\"fill:none;stroke:#b2b2b2;stroke-dasharray:1.85,0.8;stroke-dashoffset:0;stroke-width:0.5;\"/>\n     </g>\n     <g id=\"line2d_24\">\n      <g>\n       <use style=\"stroke:#000000;stroke-width:0.8;\" x=\"26.603125\" xlink:href=\"#mf6443cc59a\" y=\"94.425386\"/>\n      </g>\n     </g>\n     <g id=\"text_12\">\n      <!-- 2.5 -->\n      <g transform=\"translate(7.2 98.224605)scale(0.1 -0.1)\">\n       <use xlink:href=\"#DejaVuSans-50\"/>\n       <use x=\"63.623047\" xlink:href=\"#DejaVuSans-46\"/>\n       <use x=\"95.410156\" xlink:href=\"#DejaVuSans-53\"/>\n      </g>\n     </g>\n    </g>\n    <g id=\"ytick_7\">\n     <g id=\"line2d_25\">\n      <path clip-path=\"url(#p314d248b92)\" d=\"M 26.603125 66.970841 \nL 361.403125 66.970841 \n\" style=\"fill:none;stroke:#b2b2b2;stroke-dasharray:1.85,0.8;stroke-dashoffset:0;stroke-width:0.5;\"/>\n     </g>\n     <g id=\"line2d_26\">\n      <g>\n       <use style=\"stroke:#000000;stroke-width:0.8;\" x=\"26.603125\" xlink:href=\"#mf6443cc59a\" y=\"66.970841\"/>\n      </g>\n     </g>\n     <g id=\"text_13\">\n      <!-- 3.0 -->\n      <defs>\n       <path d=\"M 40.578125 39.3125 \nQ 47.65625 37.796875 51.625 33 \nQ 55.609375 28.21875 55.609375 21.1875 \nQ 55.609375 10.40625 48.1875 4.484375 \nQ 40.765625 -1.421875 27.09375 -1.421875 \nQ 22.515625 -1.421875 17.65625 -0.515625 \nQ 12.796875 0.390625 7.625 2.203125 \nL 7.625 11.71875 \nQ 11.71875 9.328125 16.59375 8.109375 \nQ 21.484375 6.890625 26.8125 6.890625 \nQ 36.078125 6.890625 40.9375 10.546875 \nQ 45.796875 14.203125 45.796875 21.1875 \nQ 45.796875 27.640625 41.28125 31.265625 \nQ 36.765625 34.90625 28.71875 34.90625 \nL 20.21875 34.90625 \nL 20.21875 43.015625 \nL 29.109375 43.015625 \nQ 36.375 43.015625 40.234375 45.921875 \nQ 44.09375 48.828125 44.09375 54.296875 \nQ 44.09375 59.90625 40.109375 62.90625 \nQ 36.140625 65.921875 28.71875 65.921875 \nQ 24.65625 65.921875 20.015625 65.03125 \nQ 15.375 64.15625 9.8125 62.3125 \nL 9.8125 71.09375 \nQ 15.4375 72.65625 20.34375 73.4375 \nQ 25.25 74.21875 29.59375 74.21875 \nQ 40.828125 74.21875 47.359375 69.109375 \nQ 53.90625 64.015625 53.90625 55.328125 \nQ 53.90625 49.265625 50.4375 45.09375 \nQ 46.96875 40.921875 40.578125 39.3125 \nz\n\" id=\"DejaVuSans-51\"/>\n      </defs>\n      <g transform=\"translate(7.2 70.77006)scale(0.1 -0.1)\">\n       <use xlink:href=\"#DejaVuSans-51\"/>\n       <use x=\"63.623047\" xlink:href=\"#DejaVuSans-46\"/>\n       <use x=\"95.410156\" xlink:href=\"#DejaVuSans-48\"/>\n      </g>\n     </g>\n    </g>\n    <g id=\"ytick_8\">\n     <g id=\"line2d_27\">\n      <path clip-path=\"url(#p314d248b92)\" d=\"M 26.603125 39.516295 \nL 361.403125 39.516295 \n\" style=\"fill:none;stroke:#b2b2b2;stroke-dasharray:1.85,0.8;stroke-dashoffset:0;stroke-width:0.5;\"/>\n     </g>\n     <g id=\"line2d_28\">\n      <g>\n       <use style=\"stroke:#000000;stroke-width:0.8;\" x=\"26.603125\" xlink:href=\"#mf6443cc59a\" y=\"39.516295\"/>\n      </g>\n     </g>\n     <g id=\"text_14\">\n      <!-- 3.5 -->\n      <g transform=\"translate(7.2 43.315514)scale(0.1 -0.1)\">\n       <use xlink:href=\"#DejaVuSans-51\"/>\n       <use x=\"63.623047\" xlink:href=\"#DejaVuSans-46\"/>\n       <use x=\"95.410156\" xlink:href=\"#DejaVuSans-53\"/>\n      </g>\n     </g>\n    </g>\n   </g>\n   <g id=\"line2d_29\">\n    <path clip-path=\"url(#p314d248b92)\" d=\"M 41.821307 231.698114 \nL 42.125975 66.970841 \nL 42.430643 94.425386 \nL 42.735312 103.576902 \nL 43.03998 53.243568 \nL 43.344648 77.952659 \nL 43.953985 74.814997 \nL 44.258653 53.243568 \nL 44.86799 34.025386 \nL 45.477326 57.819326 \nL 45.781995 54.299512 \nL 46.086663 43.438373 \nL 46.391331 37.685992 \nL 46.696 42.948114 \nL 47.000668 44.361215 \nL 47.305336 51.718316 \nL 47.914673 53.243568 \nL 48.219341 51.282529 \nL 48.52401 47.003899 \nL 48.828678 52.64673 \nL 49.133346 53.243568 \nL 49.438014 58.185386 \nL 49.742683 60.635177 \nL 50.047351 58.836161 \nL 50.352019 61.087724 \nL 50.961356 68.801144 \nL 51.266024 65.19958 \nL 51.875361 65.306929 \nL 52.180029 66.970841 \nL 52.484697 65.40201 \nL 52.789366 60.869831 \nL 53.094034 61.034723 \nL 53.398702 58.300984 \nL 54.008039 61.479932 \nL 54.312707 57.596118 \nL 54.617376 55.204607 \nL 54.922044 54.201285 \nL 55.226712 51.995634 \nL 55.531381 51.108215 \nL 56.140717 47.110106 \nL 56.445385 49.81175 \nL 56.750054 51.282529 \nL 57.054722 49.399932 \nL 57.35939 46.514513 \nL 57.664059 44.796016 \nL 57.968727 45.214409 \nL 58.273395 46.634141 \nL 58.578064 47.003899 \nL 58.882732 48.340971 \nL 59.1874 48.667811 \nL 59.796737 45.565602 \nL 60.101405 47.752659 \nL 60.406073 45.367264 \nL 60.710742 45.715709 \nL 61.01541 45.181519 \nL 61.320078 47.237886 \nL 61.929415 47.835855 \nL 62.234083 49.760529 \nL 62.538752 48.398648 \nL 62.84342 48.667811 \nL 63.148088 47.360451 \nL 63.452756 49.183389 \nL 63.757425 47.905184 \nL 64.062093 48.918537 \nL 64.366761 48.420472 \nL 64.67143 48.667811 \nL 64.976098 46.741176 \nL 65.280766 46.290794 \nL 65.585435 45.147997 \nL 65.890103 45.424236 \nL 66.194771 44.320841 \nL 66.499439 45.278361 \nL 66.804108 46.882149 \nL 67.108776 47.124182 \nL 67.718113 48.88314 \nL 68.022781 49.093462 \nL 68.327449 48.036672 \nL 68.632118 46.379932 \nL 68.936786 47.228246 \nL 69.241454 46.837508 \nL 69.546123 47.66215 \nL 69.850791 46.081513 \nL 70.460127 44.18941 \nL 70.764796 43.851224 \nL 71.069464 44.664023 \nL 71.374132 43.761844 \nL 71.678801 42.31778 \nL 71.983469 42.566801 \nL 72.897474 46.514513 \nL 73.202142 47.246216 \nL 73.506811 46.907904 \nL 73.811479 46.053092 \nL 74.116147 46.250429 \nL 74.420815 44.904571 \nL 74.725484 45.108888 \nL 75.030152 43.798197 \nL 75.33482 44.508031 \nL 75.639489 45.699752 \nL 75.944157 46.379932 \nL 76.553494 45.777858 \nL 76.858162 44.529734 \nL 77.467498 43.036109 \nL 77.772167 41.842952 \nL 78.686172 41.104575 \nL 78.99084 41.766668 \nL 79.295508 41.525165 \nL 79.600177 41.730372 \nL 79.904845 42.810841 \nL 80.209513 42.566801 \nL 80.514182 41.461893 \nL 80.81885 42.519136 \nL 81.123518 43.134336 \nL 81.428186 42.050561 \nL 81.732855 43.079099 \nL 82.037523 42.012163 \nL 82.342191 42.612673 \nL 82.64686 42.79445 \nL 83.256196 43.957472 \nL 83.560865 42.923064 \nL 83.865533 42.301539 \nL 84.474869 41.869542 \nL 85.084206 42.223082 \nL 85.388874 42.012163 \nL 85.693543 41.422861 \nL 85.998211 41.220371 \nL 86.302879 40.644564 \nL 86.607548 40.823655 \nL 86.912216 41.74234 \nL 87.216884 40.806106 \nL 87.826221 41.152659 \nL 88.740226 42.725268 \nL 89.044894 41.818935 \nL 89.349562 42.332146 \nL 89.654231 41.789602 \nL 89.958899 41.601451 \nL 90.263567 42.451687 \nL 90.568236 42.604932 \nL 90.872904 42.074172 \nL 91.177572 42.905746 \nL 91.786909 41.859976 \nL 92.091577 42.012163 \nL 92.396245 41.831739 \nL 92.700914 42.31107 \nL 93.005582 41.477334 \nL 93.31025 41.303278 \nL 93.614919 40.485279 \nL 94.528924 40.944567 \nL 94.833592 41.725282 \nL 95.13826 40.928244 \nL 95.747597 40.602068 \nL 96.661602 39.211245 \nL 96.96627 39.364613 \nL 97.270938 39.214597 \nL 97.575607 38.466122 \nL 97.880275 38.621039 \nL 98.184943 39.367893 \nL 98.489611 38.925875 \nL 99.098948 39.224226 \nL 99.403616 39.952082 \nL 99.708285 40.383281 \nL 100.012953 40.235001 \nL 100.317621 39.516295 \nL 100.62229 39.94305 \nL 100.926958 39.516295 \nL 101.231626 39.657088 \nL 101.840963 41.04929 \nL 102.145631 40.902889 \nL 102.450299 41.309808 \nL 102.754968 41.163568 \nL 103.059636 41.291963 \nL 103.364304 41.147259 \nL 103.668973 40.463004 \nL 104.278309 41.793014 \nL 104.887646 40.975233 \nL 105.192314 41.100212 \nL 105.496982 40.435826 \nL 105.801651 40.823655 \nL 106.106319 40.687342 \nL 106.410987 40.811321 \nL 106.715656 40.418558 \nL 107.020324 40.286049 \nL 107.324992 39.899382 \nL 107.629661 39.770504 \nL 107.934329 40.148889 \nL 108.238997 40.271925 \nL 108.543666 40.143112 \nL 108.848334 39.516295 \nL 109.153002 40.137439 \nL 109.762339 38.900723 \nL 110.067007 39.516295 \nL 110.371675 38.906194 \nL 111.28568 38.552978 \nL 111.590349 39.156629 \nL 111.895017 38.561355 \nL 112.199685 39.159743 \nL 112.504354 39.042941 \nL 113.11369 37.873716 \nL 113.723027 37.189639 \nL 114.027695 37.546982 \nL 114.332363 37.670612 \nL 114.637032 37.333717 \nL 114.9417 37.91478 \nL 115.246368 37.579668 \nL 115.551037 37.928016 \nL 115.855705 37.369644 \nL 116.160373 37.715997 \nL 116.76971 36.614596 \nL 117.074378 36.737495 \nL 117.379046 36.416589 \nL 117.988383 37.539568 \nL 118.293051 37.438063 \nL 118.59772 36.901577 \nL 118.902388 37.454492 \nL 119.207056 37.570698 \nL 119.511725 37.040003 \nL 119.816393 37.15692 \nL 120.425729 38.23934 \nL 120.730398 38.138268 \nL 121.035066 38.67154 \nL 121.949071 37.115328 \nL 122.558408 36.926244 \nL 123.167744 37.768253 \nL 123.472412 38.082103 \nL 123.777081 37.985373 \nL 124.691086 39.314424 \nL 125.300422 40.317888 \nL 125.605091 40.015469 \nL 125.909759 39.516295 \nL 126.214427 40.011865 \nL 126.519096 39.71381 \nL 126.823764 39.614699 \nL 127.128432 39.908503 \nL 127.4331 39.418592 \nL 127.737769 39.711009 \nL 128.042437 39.225258 \nL 128.347105 39.516295 \nL 128.651774 39.034637 \nL 129.870447 40.181284 \nL 130.175115 40.084321 \nL 130.479783 40.554096 \nL 130.784452 40.644564 \nL 131.08912 40.359609 \nL 131.698457 40.540024 \nL 132.003125 40.072807 \nL 132.307793 40.53313 \nL 132.612462 40.069072 \nL 133.526467 41.249307 \nL 133.831135 41.152659 \nL 134.135803 41.419086 \nL 134.440471 41.322516 \nL 134.74514 40.866519 \nL 135.049808 40.772386 \nL 135.354476 40.321152 \nL 135.963813 40.493642 \nL 136.57315 40.3108 \nL 136.877818 39.868277 \nL 137.182486 40.130295 \nL 137.487154 39.691165 \nL 137.791823 39.952082 \nL 138.096491 40.037584 \nL 138.401159 40.468977 \nL 138.705828 40.379646 \nL 139.010496 40.635133 \nL 139.315164 40.202659 \nL 139.619833 40.286049 \nL 139.924501 40.539446 \nL 140.229169 40.111286 \nL 140.838506 39.938673 \nL 141.143174 39.684728 \nL 141.447842 40.104007 \nL 141.752511 39.851107 \nL 142.057179 39.933538 \nL 142.361847 40.18186 \nL 142.666516 40.262794 \nL 142.971184 39.847073 \nL 143.275852 39.763634 \nL 144.189857 39.026036 \nL 144.494525 39.108958 \nL 144.799194 39.028937 \nL 145.103862 39.273335 \nL 145.40853 38.870306 \nL 145.713199 39.113736 \nL 146.017867 39.19519 \nL 146.627204 38.558579 \nL 146.931872 38.959247 \nL 147.541209 39.120697 \nL 147.845877 39.042941 \nL 148.150545 39.280296 \nL 148.759882 39.438077 \nL 149.369218 38.971871 \nL 149.673887 38.585633 \nL 149.978555 38.974938 \nL 150.283223 38.899339 \nL 150.587892 39.285585 \nL 151.197228 38.67507 \nL 151.501896 38.906194 \nL 151.806565 38.67973 \nL 152.111233 38.6062 \nL 152.415901 38.38181 \nL 153.329906 38.166072 \nL 153.634575 37.795711 \nL 154.243911 37.656231 \nL 154.54858 37.883863 \nL 154.853248 38.25827 \nL 155.157916 38.335455 \nL 155.462584 38.706644 \nL 155.767253 38.635401 \nL 156.071921 38.857386 \nL 156.376589 38.640087 \nL 156.681258 38.860882 \nL 156.985926 38.789985 \nL 157.595263 39.2273 \nL 157.899931 39.156 \nL 158.204599 38.79759 \nL 158.509268 39.014515 \nL 159.118604 39.159743 \nL 159.423272 39.374044 \nL 160.032609 38.808704 \nL 160.337277 38.739946 \nL 160.641946 38.812333 \nL 160.946614 38.603484 \nL 161.251282 38.815924 \nL 161.555951 38.60813 \nL 161.860619 38.958843 \nL 162.165287 39.029759 \nL 162.469955 39.238977 \nL 162.774624 39.17052 \nL 163.079292 38.826483 \nL 163.38396 39.034637 \nL 163.688629 38.967205 \nL 164.297965 38.286987 \nL 164.602634 38.494414 \nL 165.821307 37.560075 \nL 166.125975 37.901322 \nL 166.735312 37.239577 \nL 167.03998 37.178317 \nL 167.344648 36.98408 \nL 167.649317 36.657832 \nL 167.953985 36.996313 \nL 168.258653 36.93623 \nL 168.563322 37.140421 \nL 168.86799 36.816928 \nL 169.172658 37.151789 \nL 169.477326 37.222956 \nL 170.086663 37.885978 \nL 170.391331 37.824783 \nL 171.000668 38.091767 \nL 171.610005 37.711771 \nL 171.914673 38.037479 \nL 172.52401 37.91638 \nL 172.828678 37.728558 \nL 173.133346 37.796405 \nL 173.742683 38.057971 \nL 174.352019 37.433537 \nL 174.656688 37.627221 \nL 174.961356 37.443069 \nL 175.266024 37.635847 \nL 175.570693 37.577592 \nL 175.875361 37.270014 \nL 176.484697 37.901322 \nL 177.094034 37.661259 \nL 177.398702 37.727123 \nL 177.703371 37.669577 \nL 178.312707 38.290646 \nL 178.617376 37.987646 \nL 179.226712 37.872675 \nL 179.531381 38.180012 \nL 179.836049 38.243568 \nL 181.054722 37.653952 \nL 181.664059 38.260205 \nL 182.273395 38.146546 \nL 182.578064 37.852384 \nL 182.882732 37.79668 \nL 183.1874 37.859556 \nL 183.796737 37.631005 \nL 184.101405 37.811409 \nL 184.406073 37.521734 \nL 185.01541 37.997533 \nL 185.624747 37.771303 \nL 185.929415 37.949123 \nL 186.234083 37.778666 \nL 186.538752 38.071319 \nL 186.84342 38.132033 \nL 187.452756 37.678334 \nL 187.757425 37.510222 \nL 188.062093 37.571598 \nL 188.366761 37.404407 \nL 188.976098 37.981569 \nL 189.280766 38.041465 \nL 189.585435 37.761469 \nL 189.890103 37.708589 \nL 190.194771 37.881425 \nL 191.108776 37.835405 \nL 191.718113 37.953842 \nL 192.022781 37.678567 \nL 192.936786 38.298554 \nL 193.241454 38.135282 \nL 193.546123 38.413703 \nL 194.460127 38.584704 \nL 194.764796 38.313108 \nL 195.069464 38.260919 \nL 195.678801 37.830967 \nL 195.983469 37.78004 \nL 196.592806 38.111142 \nL 196.897474 38.059964 \nL 197.202142 38.224317 \nL 197.506811 38.065664 \nL 197.811479 38.336608 \nL 198.725484 37.757072 \nL 199.030152 37.494449 \nL 200.553494 38.304291 \nL 200.858162 38.043638 \nL 202.076835 38.785566 \nL 202.381503 39.047432 \nL 202.99084 39.049205 \nL 203.295508 39.309091 \nL 203.600177 39.050964 \nL 203.904845 39.000233 \nL 204.514182 39.516295 \nL 204.81885 39.567612 \nL 205.428186 39.158415 \nL 205.732855 39.005988 \nL 206.342191 39.414612 \nL 206.64686 39.161061 \nL 206.951528 39.111062 \nL 207.560865 39.41536 \nL 207.865533 39.163668 \nL 209.084206 40.166403 \nL 209.388874 40.015469 \nL 209.693543 40.263697 \nL 210.302879 39.963114 \nL 210.607548 40.210093 \nL 211.521553 40.354226 \nL 212.130889 39.958319 \nL 212.435557 39.712399 \nL 212.740226 39.663111 \nL 213.044894 39.418592 \nL 213.349562 39.467531 \nL 213.654231 39.224226 \nL 214.263567 39.516295 \nL 214.568236 39.371033 \nL 214.872904 39.612966 \nL 215.177572 39.661047 \nL 215.48224 39.516295 \nL 215.786909 39.564377 \nL 216.091577 39.80428 \nL 216.700914 39.324975 \nL 217.005582 39.564042 \nL 217.31025 39.420967 \nL 217.614919 39.65904 \nL 217.919587 39.611294 \nL 218.224255 39.753381 \nL 218.528924 39.610966 \nL 219.13826 39.610641 \nL 219.442928 39.469204 \nL 220.661602 40.404943 \nL 221.270938 40.401926 \nL 221.575607 40.167759 \nL 222.184943 40.351062 \nL 222.489611 40.395952 \nL 223.098948 39.931574 \nL 223.708285 40.206108 \nL 224.012953 39.975402 \nL 224.317621 40.203805 \nL 224.62229 40.248417 \nL 224.926958 40.110154 \nL 225.536295 40.381364 \nL 225.840963 40.152659 \nL 226.450299 39.969341 \nL 226.754968 39.832905 \nL 227.668973 40.1464 \nL 227.973641 40.010567 \nL 228.278309 40.144341 \nL 228.887646 39.963438 \nL 229.801651 39.73878 \nL 230.106319 39.516295 \nL 230.410987 39.649355 \nL 231.020324 39.648926 \nL 231.324992 39.692852 \nL 231.934329 39.4283 \nL 232.238997 39.472368 \nL 232.848334 39.29736 \nL 233.153002 39.516295 \nL 233.762339 39.516295 \nL 234.371675 39.516295 \nL 235.590349 39.08462 \nL 235.895017 39.214597 \nL 236.504354 38.871823 \nL 237.418358 38.661014 \nL 237.723027 38.448856 \nL 238.027695 38.493145 \nL 238.637032 38.326315 \nL 239.551037 38.458724 \nL 239.855705 38.249163 \nL 240.76971 38.717465 \nL 241.379046 38.552243 \nL 241.988383 38.889479 \nL 242.293051 38.681811 \nL 243.207056 38.810203 \nL 243.511725 38.686853 \nL 244.121061 39.020129 \nL 244.425729 38.89702 \nL 244.730398 39.021619 \nL 245.644403 38.900723 \nL 246.253739 38.493399 \nL 246.558408 38.699196 \nL 247.472412 38.662154 \nL 247.777081 38.704031 \nL 248.386417 38.382479 \nL 249.300422 37.863379 \nL 249.605091 37.825546 \nL 250.519096 38.353986 \nL 251.4331 38.798008 \nL 251.737769 38.67951 \nL 252.956442 39.159743 \nL 253.565779 39.002757 \nL 254.175115 39.161789 \nL 254.784452 39.08425 \nL 256.003125 39.555349 \nL 256.307793 39.516295 \nL 257.221798 39.943452 \nL 257.526467 39.826516 \nL 257.831135 40.019693 \nL 258.74514 40.133252 \nL 259.049808 40.324915 \nL 259.354476 40.208427 \nL 259.659145 40.399449 \nL 260.268481 40.090658 \nL 261.487154 40.239786 \nL 261.791823 40.428912 \nL 262.401159 40.123026 \nL 262.705828 40.008584 \nL 263.010496 40.196987 \nL 263.315164 40.00723 \nL 263.924501 40.307167 \nL 264.229169 40.343693 \nL 264.533838 40.229888 \nL 265.447842 40.4888 \nL 266.057179 40.187738 \nL 266.666516 40.557931 \nL 267.275852 40.555116 \nL 267.580521 40.368461 \nL 268.494525 40.475728 \nL 268.799194 40.290182 \nL 269.103862 40.399552 \nL 270.322535 39.955568 \nL 270.627204 40.13777 \nL 271.23654 40.136119 \nL 271.845877 40.498114 \nL 272.150545 40.53313 \nL 272.455213 40.350449 \nL 272.759882 40.530448 \nL 273.369218 40.383281 \nL 273.673887 40.562526 \nL 273.978555 40.525124 \nL 274.283223 40.631749 \nL 275.806565 40.37425 \nL 276.111233 40.194626 \nL 276.72057 40.335303 \nL 277.025238 40.156427 \nL 277.939243 40.118524 \nL 278.243911 40.153128 \nL 278.853248 39.798604 \nL 279.157916 39.903972 \nL 279.462584 39.868277 \nL 279.767253 39.973285 \nL 280.071921 39.79716 \nL 280.376589 39.972118 \nL 280.985926 40.110852 \nL 281.290594 39.935449 \nL 281.595263 39.900031 \nL 281.899931 39.72534 \nL 282.204599 39.690279 \nL 282.509268 39.794316 \nL 283.118604 39.654955 \nL 283.727941 39.44714 \nL 284.337277 39.723239 \nL 284.946614 39.378679 \nL 285.251282 39.550657 \nL 285.555951 39.516295 \nL 285.860619 39.687672 \nL 287.079292 39.48219 \nL 287.688629 39.346193 \nL 287.993297 39.380382 \nL 288.602634 39.109561 \nL 289.21197 39.042941 \nL 289.821307 39.381384 \nL 290.430643 39.112552 \nL 290.735312 39.079442 \nL 291.344648 38.745289 \nL 291.953985 39.01469 \nL 293.172658 38.68434 \nL 293.477326 38.785061 \nL 294.391331 38.489648 \nL 295.000668 38.756422 \nL 295.305336 38.658341 \nL 295.914673 38.923751 \nL 296.219341 38.825822 \nL 297.438014 39.287235 \nL 297.742683 39.450927 \nL 298.656688 39.483728 \nL 298.961356 39.321121 \nL 299.266024 39.418824 \nL 299.570693 39.386487 \nL 299.875361 39.483882 \nL 300.180029 39.322042 \nL 300.484697 39.354608 \nL 300.789366 39.193301 \nL 301.094034 39.225942 \nL 301.398702 39.065164 \nL 302.922044 38.97169 \nL 303.531381 39.228646 \nL 303.836049 39.069361 \nL 304.140717 39.165541 \nL 304.445385 39.070398 \nL 304.750054 39.102728 \nL 305.054722 38.944326 \nL 305.35939 39.040205 \nL 306.273395 38.567406 \nL 306.882732 38.569587 \nL 307.1874 38.41307 \nL 307.492068 38.571758 \nL 307.796737 38.478495 \nL 308.710742 38.638753 \nL 309.624747 38.860385 \nL 309.929415 38.705138 \nL 310.234083 38.674896 \nL 311.452756 39.113008 \nL 311.757425 39.268399 \nL 312.366761 39.021619 \nL 312.67143 39.176588 \nL 312.976098 39.146122 \nL 313.280766 38.992471 \nL 313.585435 39.146952 \nL 314.804108 38.597058 \nL 315.413444 38.599106 \nL 315.718113 38.630665 \nL 316.022781 38.784174 \nL 316.327449 38.632631 \nL 316.632118 38.785798 \nL 317.241454 38.605193 \nL 317.546123 38.69721 \nL 317.850791 38.607205 \nL 318.155459 38.699016 \nL 318.460127 38.66968 \nL 318.764796 38.821626 \nL 320.288137 38.615162 \nL 321.202142 38.348654 \nL 321.506811 38.439647 \nL 322.725484 38.086992 \nL 323.030152 38.118285 \nL 323.33482 37.971234 \nL 323.639489 38.061947 \nL 324.248825 38.065084 \nL 324.553494 38.096233 \nL 324.858162 38.009103 \nL 325.467498 38.130298 \nL 326.381503 38.45809 \nL 326.686172 38.312406 \nL 328.209513 38.523259 \nL 328.81885 38.700237 \nL 329.123518 38.61376 \nL 329.428186 38.760132 \nL 329.732855 38.73188 \nL 330.342191 38.443626 \nL 332.474869 38.595388 \nL 334.302879 38.372356 \nL 334.607548 38.230703 \nL 334.912216 38.317656 \nL 336.130889 37.981569 \nL 337.044894 38.014654 \nL 338.568236 37.430426 \nL 339.786909 37.158236 \nL 340.091577 37.188688 \nL 341.614919 36.837803 \nL 341.919587 36.92414 \nL 342.224255 36.843236 \nL 342.528924 36.985025 \nL 343.13826 36.823585 \nL 343.747597 36.995242 \nL 344.661602 36.754269 \nL 344.96627 36.839822 \nL 345.880275 36.655301 \nL 346.184943 36.795575 \nL 346.184943 36.795575 \n\" style=\"fill:none;stroke:#348abd;stroke-linecap:square;stroke-width:2;\"/>\n   </g>\n   <g id=\"patch_3\">\n    <path d=\"M 26.603125 241.58175 \nL 26.603125 24.14175 \n\" style=\"fill:none;stroke:#bcbcbc;stroke-linecap:square;stroke-linejoin:miter;stroke-width:0.8;\"/>\n   </g>\n   <g id=\"patch_4\">\n    <path d=\"M 361.403125 241.58175 \nL 361.403125 24.14175 \n\" style=\"fill:none;stroke:#bcbcbc;stroke-linecap:square;stroke-linejoin:miter;stroke-width:0.8;\"/>\n   </g>\n   <g id=\"patch_5\">\n    <path d=\"M 26.603125 241.58175 \nL 361.403125 241.58175 \n\" style=\"fill:none;stroke:#bcbcbc;stroke-linecap:square;stroke-linejoin:miter;stroke-width:0.8;\"/>\n   </g>\n   <g id=\"patch_6\">\n    <path d=\"M 26.603125 24.14175 \nL 361.403125 24.14175 \n\" style=\"fill:none;stroke:#bcbcbc;stroke-linecap:square;stroke-linejoin:miter;stroke-width:0.8;\"/>\n   </g>\n   <g id=\"text_15\">\n    <!-- Expectation of a dice roll -->\n    <defs>\n     <path d=\"M 9.8125 72.90625 \nL 55.90625 72.90625 \nL 55.90625 64.59375 \nL 19.671875 64.59375 \nL 19.671875 43.015625 \nL 54.390625 43.015625 \nL 54.390625 34.71875 \nL 19.671875 34.71875 \nL 19.671875 8.296875 \nL 56.78125 8.296875 \nL 56.78125 0 \nL 9.8125 0 \nz\n\" id=\"DejaVuSans-69\"/>\n     <path d=\"M 54.890625 54.6875 \nL 35.109375 28.078125 \nL 55.90625 0 \nL 45.3125 0 \nL 29.390625 21.484375 \nL 13.484375 0 \nL 2.875 0 \nL 24.125 28.609375 \nL 4.6875 54.6875 \nL 15.28125 54.6875 \nL 29.78125 35.203125 \nL 44.28125 54.6875 \nz\n\" id=\"DejaVuSans-120\"/>\n     <path d=\"M 18.109375 8.203125 \nL 18.109375 -20.796875 \nL 9.078125 -20.796875 \nL 9.078125 54.6875 \nL 18.109375 54.6875 \nL 18.109375 46.390625 \nQ 20.953125 51.265625 25.265625 53.625 \nQ 29.59375 56 35.59375 56 \nQ 45.5625 56 51.78125 48.09375 \nQ 58.015625 40.1875 58.015625 27.296875 \nQ 58.015625 14.40625 51.78125 6.484375 \nQ 45.5625 -1.421875 35.59375 -1.421875 \nQ 29.59375 -1.421875 25.265625 0.953125 \nQ 20.953125 3.328125 18.109375 8.203125 \nz\nM 48.6875 27.296875 \nQ 48.6875 37.203125 44.609375 42.84375 \nQ 40.53125 48.484375 33.40625 48.484375 \nQ 26.265625 48.484375 22.1875 42.84375 \nQ 18.109375 37.203125 18.109375 27.296875 \nQ 18.109375 17.390625 22.1875 11.75 \nQ 26.265625 6.109375 33.40625 6.109375 \nQ 40.53125 6.109375 44.609375 11.75 \nQ 48.6875 17.390625 48.6875 27.296875 \nz\n\" id=\"DejaVuSans-112\"/>\n     <path d=\"M 56.203125 29.59375 \nL 56.203125 25.203125 \nL 14.890625 25.203125 \nQ 15.484375 15.921875 20.484375 11.0625 \nQ 25.484375 6.203125 34.421875 6.203125 \nQ 39.59375 6.203125 44.453125 7.46875 \nQ 49.3125 8.734375 54.109375 11.28125 \nL 54.109375 2.78125 \nQ 49.265625 0.734375 44.1875 -0.34375 \nQ 39.109375 -1.421875 33.890625 -1.421875 \nQ 20.796875 -1.421875 13.15625 6.1875 \nQ 5.515625 13.8125 5.515625 26.8125 \nQ 5.515625 40.234375 12.765625 48.109375 \nQ 20.015625 56 32.328125 56 \nQ 43.359375 56 49.78125 48.890625 \nQ 56.203125 41.796875 56.203125 29.59375 \nz\nM 47.21875 32.234375 \nQ 47.125 39.59375 43.09375 43.984375 \nQ 39.0625 48.390625 32.421875 48.390625 \nQ 24.90625 48.390625 20.390625 44.140625 \nQ 15.875 39.890625 15.1875 32.171875 \nz\n\" id=\"DejaVuSans-101\"/>\n     <path d=\"M 48.78125 52.59375 \nL 48.78125 44.1875 \nQ 44.96875 46.296875 41.140625 47.34375 \nQ 37.3125 48.390625 33.40625 48.390625 \nQ 24.65625 48.390625 19.8125 42.84375 \nQ 14.984375 37.3125 14.984375 27.296875 \nQ 14.984375 17.28125 19.8125 11.734375 \nQ 24.65625 6.203125 33.40625 6.203125 \nQ 37.3125 6.203125 41.140625 7.25 \nQ 44.96875 8.296875 48.78125 10.40625 \nL 48.78125 2.09375 \nQ 45.015625 0.34375 40.984375 -0.53125 \nQ 36.96875 -1.421875 32.421875 -1.421875 \nQ 20.0625 -1.421875 12.78125 6.34375 \nQ 5.515625 14.109375 5.515625 27.296875 \nQ 5.515625 40.671875 12.859375 48.328125 \nQ 20.21875 56 33.015625 56 \nQ 37.15625 56 41.109375 55.140625 \nQ 45.0625 54.296875 48.78125 52.59375 \nz\n\" id=\"DejaVuSans-99\"/>\n     <path d=\"M 18.3125 70.21875 \nL 18.3125 54.6875 \nL 36.8125 54.6875 \nL 36.8125 47.703125 \nL 18.3125 47.703125 \nL 18.3125 18.015625 \nQ 18.3125 11.328125 20.140625 9.421875 \nQ 21.96875 7.515625 27.59375 7.515625 \nL 36.8125 7.515625 \nL 36.8125 0 \nL 27.59375 0 \nQ 17.1875 0 13.234375 3.875 \nQ 9.28125 7.765625 9.28125 18.015625 \nL 9.28125 47.703125 \nL 2.6875 47.703125 \nL 2.6875 54.6875 \nL 9.28125 54.6875 \nL 9.28125 70.21875 \nz\n\" id=\"DejaVuSans-116\"/>\n     <path d=\"M 34.28125 27.484375 \nQ 23.390625 27.484375 19.1875 25 \nQ 14.984375 22.515625 14.984375 16.5 \nQ 14.984375 11.71875 18.140625 8.90625 \nQ 21.296875 6.109375 26.703125 6.109375 \nQ 34.1875 6.109375 38.703125 11.40625 \nQ 43.21875 16.703125 43.21875 25.484375 \nL 43.21875 27.484375 \nz\nM 52.203125 31.203125 \nL 52.203125 0 \nL 43.21875 0 \nL 43.21875 8.296875 \nQ 40.140625 3.328125 35.546875 0.953125 \nQ 30.953125 -1.421875 24.3125 -1.421875 \nQ 15.921875 -1.421875 10.953125 3.296875 \nQ 6 8.015625 6 15.921875 \nQ 6 25.140625 12.171875 29.828125 \nQ 18.359375 34.515625 30.609375 34.515625 \nL 43.21875 34.515625 \nL 43.21875 35.40625 \nQ 43.21875 41.609375 39.140625 45 \nQ 35.0625 48.390625 27.6875 48.390625 \nQ 23 48.390625 18.546875 47.265625 \nQ 14.109375 46.140625 10.015625 43.890625 \nL 10.015625 52.203125 \nQ 14.9375 54.109375 19.578125 55.046875 \nQ 24.21875 56 28.609375 56 \nQ 40.484375 56 46.34375 49.84375 \nQ 52.203125 43.703125 52.203125 31.203125 \nz\n\" id=\"DejaVuSans-97\"/>\n     <path d=\"M 9.421875 54.6875 \nL 18.40625 54.6875 \nL 18.40625 0 \nL 9.421875 0 \nz\nM 9.421875 75.984375 \nL 18.40625 75.984375 \nL 18.40625 64.59375 \nL 9.421875 64.59375 \nz\n\" id=\"DejaVuSans-105\"/>\n     <path d=\"M 30.609375 48.390625 \nQ 23.390625 48.390625 19.1875 42.75 \nQ 14.984375 37.109375 14.984375 27.296875 \nQ 14.984375 17.484375 19.15625 11.84375 \nQ 23.34375 6.203125 30.609375 6.203125 \nQ 37.796875 6.203125 41.984375 11.859375 \nQ 46.1875 17.53125 46.1875 27.296875 \nQ 46.1875 37.015625 41.984375 42.703125 \nQ 37.796875 48.390625 30.609375 48.390625 \nz\nM 30.609375 56 \nQ 42.328125 56 49.015625 48.375 \nQ 55.71875 40.765625 55.71875 27.296875 \nQ 55.71875 13.875 49.015625 6.21875 \nQ 42.328125 -1.421875 30.609375 -1.421875 \nQ 18.84375 -1.421875 12.171875 6.21875 \nQ 5.515625 13.875 5.515625 27.296875 \nQ 5.515625 40.765625 12.171875 48.375 \nQ 18.84375 56 30.609375 56 \nz\n\" id=\"DejaVuSans-111\"/>\n     <path d=\"M 54.890625 33.015625 \nL 54.890625 0 \nL 45.90625 0 \nL 45.90625 32.71875 \nQ 45.90625 40.484375 42.875 44.328125 \nQ 39.84375 48.1875 33.796875 48.1875 \nQ 26.515625 48.1875 22.3125 43.546875 \nQ 18.109375 38.921875 18.109375 30.90625 \nL 18.109375 0 \nL 9.078125 0 \nL 9.078125 54.6875 \nL 18.109375 54.6875 \nL 18.109375 46.1875 \nQ 21.34375 51.125 25.703125 53.5625 \nQ 30.078125 56 35.796875 56 \nQ 45.21875 56 50.046875 50.171875 \nQ 54.890625 44.34375 54.890625 33.015625 \nz\n\" id=\"DejaVuSans-110\"/>\n     <path id=\"DejaVuSans-32\"/>\n     <path d=\"M 37.109375 75.984375 \nL 37.109375 68.5 \nL 28.515625 68.5 \nQ 23.6875 68.5 21.796875 66.546875 \nQ 19.921875 64.59375 19.921875 59.515625 \nL 19.921875 54.6875 \nL 34.71875 54.6875 \nL 34.71875 47.703125 \nL 19.921875 47.703125 \nL 19.921875 0 \nL 10.890625 0 \nL 10.890625 47.703125 \nL 2.296875 47.703125 \nL 2.296875 54.6875 \nL 10.890625 54.6875 \nL 10.890625 58.5 \nQ 10.890625 67.625 15.140625 71.796875 \nQ 19.390625 75.984375 28.609375 75.984375 \nz\n\" id=\"DejaVuSans-102\"/>\n     <path d=\"M 45.40625 46.390625 \nL 45.40625 75.984375 \nL 54.390625 75.984375 \nL 54.390625 0 \nL 45.40625 0 \nL 45.40625 8.203125 \nQ 42.578125 3.328125 38.25 0.953125 \nQ 33.9375 -1.421875 27.875 -1.421875 \nQ 17.96875 -1.421875 11.734375 6.484375 \nQ 5.515625 14.40625 5.515625 27.296875 \nQ 5.515625 40.1875 11.734375 48.09375 \nQ 17.96875 56 27.875 56 \nQ 33.9375 56 38.25 53.625 \nQ 42.578125 51.265625 45.40625 46.390625 \nz\nM 14.796875 27.296875 \nQ 14.796875 17.390625 18.875 11.75 \nQ 22.953125 6.109375 30.078125 6.109375 \nQ 37.203125 6.109375 41.296875 11.75 \nQ 45.40625 17.390625 45.40625 27.296875 \nQ 45.40625 37.203125 41.296875 42.84375 \nQ 37.203125 48.484375 30.078125 48.484375 \nQ 22.953125 48.484375 18.875 42.84375 \nQ 14.796875 37.203125 14.796875 27.296875 \nz\n\" id=\"DejaVuSans-100\"/>\n     <path d=\"M 41.109375 46.296875 \nQ 39.59375 47.171875 37.8125 47.578125 \nQ 36.03125 48 33.890625 48 \nQ 26.265625 48 22.1875 43.046875 \nQ 18.109375 38.09375 18.109375 28.8125 \nL 18.109375 0 \nL 9.078125 0 \nL 9.078125 54.6875 \nL 18.109375 54.6875 \nL 18.109375 46.1875 \nQ 20.953125 51.171875 25.484375 53.578125 \nQ 30.03125 56 36.53125 56 \nQ 37.453125 56 38.578125 55.875 \nQ 39.703125 55.765625 41.0625 55.515625 \nz\n\" id=\"DejaVuSans-114\"/>\n     <path d=\"M 9.421875 75.984375 \nL 18.40625 75.984375 \nL 18.40625 0 \nL 9.421875 0 \nz\n\" id=\"DejaVuSans-108\"/>\n    </defs>\n    <g transform=\"translate(104.536375 18.14175)scale(0.144 -0.144)\">\n     <use xlink:href=\"#DejaVuSans-69\"/>\n     <use x=\"63.183594\" xlink:href=\"#DejaVuSans-120\"/>\n     <use x=\"122.363281\" xlink:href=\"#DejaVuSans-112\"/>\n     <use x=\"185.839844\" xlink:href=\"#DejaVuSans-101\"/>\n     <use x=\"247.363281\" xlink:href=\"#DejaVuSans-99\"/>\n     <use x=\"302.34375\" xlink:href=\"#DejaVuSans-116\"/>\n     <use x=\"341.552734\" xlink:href=\"#DejaVuSans-97\"/>\n     <use x=\"402.832031\" xlink:href=\"#DejaVuSans-116\"/>\n     <use x=\"442.041016\" xlink:href=\"#DejaVuSans-105\"/>\n     <use x=\"469.824219\" xlink:href=\"#DejaVuSans-111\"/>\n     <use x=\"531.005859\" xlink:href=\"#DejaVuSans-110\"/>\n     <use x=\"594.384766\" xlink:href=\"#DejaVuSans-32\"/>\n     <use x=\"626.171875\" xlink:href=\"#DejaVuSans-111\"/>\n     <use x=\"687.353516\" xlink:href=\"#DejaVuSans-102\"/>\n     <use x=\"722.558594\" xlink:href=\"#DejaVuSans-32\"/>\n     <use x=\"754.345703\" xlink:href=\"#DejaVuSans-97\"/>\n     <use x=\"815.625\" xlink:href=\"#DejaVuSans-32\"/>\n     <use x=\"847.412109\" xlink:href=\"#DejaVuSans-100\"/>\n     <use x=\"910.888672\" xlink:href=\"#DejaVuSans-105\"/>\n     <use x=\"938.671875\" xlink:href=\"#DejaVuSans-99\"/>\n     <use x=\"993.652344\" xlink:href=\"#DejaVuSans-101\"/>\n     <use x=\"1055.175781\" xlink:href=\"#DejaVuSans-32\"/>\n     <use x=\"1086.962891\" xlink:href=\"#DejaVuSans-114\"/>\n     <use x=\"1125.826172\" xlink:href=\"#DejaVuSans-111\"/>\n     <use x=\"1187.007812\" xlink:href=\"#DejaVuSans-108\"/>\n     <use x=\"1214.791016\" xlink:href=\"#DejaVuSans-108\"/>\n    </g>\n   </g>\n  </g>\n </g>\n <defs>\n  <clipPath id=\"p314d248b92\">\n   <rect height=\"217.44\" width=\"334.8\" x=\"26.603125\" y=\"24.14175\"/>\n  </clipPath>\n </defs>\n</svg>\n"
          },
          "metadata": {
            "needs_background": "light"
          }
        }
      ],
      "source": [
        "N = 1000\n",
        "roll = np.zeros(N, dtype=int)\n",
        "expectation = np.zeros(N)\n",
        "for i in range(N):\n",
        "    roll[i] = np.random.randint(1, 7)\n",
        "for i in range(1, N):\n",
        "    expectation[i] = np.mean(roll[0:i])\n",
        "plt.plot(expectation)\n",
        "plt.title(\"Expectation of a dice roll\")\n",
        "plt.show()"
      ]
    },
    {
      "cell_type": "markdown",
      "metadata": {
        "id": "Q8nBCm6aYia6"
      },
      "source": [
        "The sympy.stats module has functionality that allows us to evaluate the expected value analytically. "
      ]
    },
    {
      "cell_type": "code",
      "execution_count": 44,
      "metadata": {
        "id": "VPgTyHFyYia6",
        "outputId": "a09c2c5e-ec7c-4f34-ca8f-6c6a443cd0d6",
        "colab": {
          "base_uri": "https://localhost:8080/",
          "height": 51
        }
      },
      "outputs": [
        {
          "output_type": "execute_result",
          "data": {
            "text/plain": [
              "7/2"
            ],
            "text/latex": "$\\displaystyle \\frac{7}{2}$"
          },
          "metadata": {},
          "execution_count": 44
        }
      ],
      "source": [
        "D = sympy.stats.Die(\"D\", 6)\n",
        "sympy.stats.E(D)"
      ]
    },
    {
      "cell_type": "markdown",
      "metadata": {
        "id": "bp8-Qf0dYia6"
      },
      "source": [
        "## Simulating dice throws"
      ]
    },
    {
      "cell_type": "code",
      "execution_count": 47,
      "metadata": {
        "id": "hmqEKBRJYia6"
      },
      "outputs": [],
      "source": [
        "dice = scipy.stats.randint(1, 7)"
      ]
    },
    {
      "cell_type": "markdown",
      "metadata": {
        "id": "jZO9bQBHYia6"
      },
      "source": [
        "What is the probability of a die rolling 4?"
      ]
    },
    {
      "cell_type": "code",
      "execution_count": 46,
      "metadata": {
        "id": "J7DkptfdYia6",
        "outputId": "daa75103-9465-4e8b-fbca-281d276c0d71",
        "colab": {
          "base_uri": "https://localhost:8080/"
        }
      },
      "outputs": [
        {
          "output_type": "execute_result",
          "data": {
            "text/plain": [
              "0.16666666666666666"
            ]
          },
          "metadata": {},
          "execution_count": 46
        }
      ],
      "source": [
        "dice.pmf(4)"
      ]
    },
    {
      "cell_type": "markdown",
      "metadata": {
        "id": "gdEdGrzxYia6"
      },
      "source": [
        "What is the probability of rolling 4 or below?"
      ]
    },
    {
      "cell_type": "code",
      "execution_count": 48,
      "metadata": {
        "id": "SoDbIjaLYia6",
        "outputId": "f7048a01-dae0-4e06-f126-803f6305e72c",
        "colab": {
          "base_uri": "https://localhost:8080/"
        }
      },
      "outputs": [
        {
          "output_type": "execute_result",
          "data": {
            "text/plain": [
              "0.6666666666666666"
            ]
          },
          "metadata": {},
          "execution_count": 48
        }
      ],
      "source": [
        "dice.cdf(4)"
      ]
    },
    {
      "cell_type": "markdown",
      "metadata": {
        "id": "B5zdu_ABYia6"
      },
      "source": [
        "What is the probability of rolling between 2 and 4 (inclusive)?"
      ]
    },
    {
      "cell_type": "code",
      "execution_count": 49,
      "metadata": {
        "id": "1rfdQyh-Yia6",
        "outputId": "3f2d530c-835a-4e27-f730-ea6221d2394c",
        "colab": {
          "base_uri": "https://localhost:8080/"
        }
      },
      "outputs": [
        {
          "output_type": "execute_result",
          "data": {
            "text/plain": [
              "0.5"
            ]
          },
          "metadata": {},
          "execution_count": 49
        }
      ],
      "source": [
        "dice.cdf(4) - dice.cdf(1)"
      ]
    },
    {
      "cell_type": "markdown",
      "metadata": {
        "id": "C0WVSBO5Yia7"
      },
      "source": [
        "Now let’s look at what happens when we roll **three dice**. We’ll estimate the expected value and the probability mass function for the sum of three dice.  "
      ]
    },
    {
      "cell_type": "code",
      "execution_count": 50,
      "metadata": {
        "id": "8popyHbKYia7",
        "outputId": "49171111-103a-4d3f-f12c-fa3fae4d79f2",
        "colab": {
          "base_uri": "https://localhost:8080/"
        }
      },
      "outputs": [
        {
          "output_type": "execute_result",
          "data": {
            "text/plain": [
              "10.5042"
            ]
          },
          "metadata": {},
          "execution_count": 50
        }
      ],
      "source": [
        "N = 10_000\n",
        "roll = np.zeros(N, dtype=int)\n",
        "for i in range(N):\n",
        "    roll[i] = scipy.stats.randint(1, 7).rvs(3).sum()\n",
        "roll.mean()"
      ]
    },
    {
      "cell_type": "markdown",
      "metadata": {
        "id": "2CU6hEjQYia7"
      },
      "source": [
        "We can plot the probability mass function for the sum of three dice:"
      ]
    },
    {
      "cell_type": "code",
      "execution_count": 51,
      "metadata": {
        "id": "cZmTSJ00Yia7",
        "outputId": "b6f5f237-5fef-4243-a249-a9822b9e53f7",
        "colab": {
          "base_uri": "https://localhost:8080/",
          "height": 348
        }
      },
      "outputs": [
        {
          "output_type": "display_data",
          "data": {
            "text/plain": [
              "<Figure size 432x288 with 1 Axes>"
            ],
            "image/svg+xml": "<?xml version=\"1.0\" encoding=\"utf-8\" standalone=\"no\"?>\n<!DOCTYPE svg PUBLIC \"-//W3C//DTD SVG 1.1//EN\"\n  \"http://www.w3.org/Graphics/SVG/1.1/DTD/svg11.dtd\">\n<!-- Created with matplotlib (https://matplotlib.org/) -->\n<svg height=\"245.018125pt\" version=\"1.1\" viewBox=\"0 0 378.15 245.018125\" width=\"378.15pt\" xmlns=\"http://www.w3.org/2000/svg\" xmlns:xlink=\"http://www.w3.org/1999/xlink\">\n <defs>\n  <style type=\"text/css\">\n*{stroke-linecap:butt;stroke-linejoin:round;}\n  </style>\n </defs>\n <g id=\"figure_1\">\n  <g id=\"patch_1\">\n   <path d=\"M 0 245.018125 \nL 378.15 245.018125 \nL 378.15 0 \nL 0 0 \nz\n\" style=\"fill:none;\"/>\n  </g>\n  <g id=\"axes_1\">\n   <g id=\"patch_2\">\n    <path d=\"M 36.15 224.64 \nL 370.95 224.64 \nL 370.95 7.2 \nL 36.15 7.2 \nz\n\" style=\"fill:#eeeeee;\"/>\n   </g>\n   <g id=\"matplotlib.axis_1\">\n    <g id=\"xtick_1\">\n     <g id=\"line2d_1\">\n      <path clip-path=\"url(#p0fd2718d23)\" d=\"M 71.659091 224.64 \nL 71.659091 7.2 \n\" style=\"fill:none;stroke:#b2b2b2;stroke-dasharray:1.85,0.8;stroke-dashoffset:0;stroke-width:0.5;\"/>\n     </g>\n     <g id=\"line2d_2\">\n      <defs>\n       <path d=\"M 0 0 \nL 0 -3.5 \n\" id=\"md445164633\" style=\"stroke:#000000;stroke-width:0.8;\"/>\n      </defs>\n      <g>\n       <use style=\"stroke:#000000;stroke-width:0.8;\" x=\"71.659091\" xlink:href=\"#md445164633\" y=\"224.64\"/>\n      </g>\n     </g>\n     <g id=\"text_1\">\n      <!-- 4 -->\n      <defs>\n       <path d=\"M 37.796875 64.3125 \nL 12.890625 25.390625 \nL 37.796875 25.390625 \nz\nM 35.203125 72.90625 \nL 47.609375 72.90625 \nL 47.609375 25.390625 \nL 58.015625 25.390625 \nL 58.015625 17.1875 \nL 47.609375 17.1875 \nL 47.609375 0 \nL 37.796875 0 \nL 37.796875 17.1875 \nL 4.890625 17.1875 \nL 4.890625 26.703125 \nz\n\" id=\"DejaVuSans-52\"/>\n      </defs>\n      <g transform=\"translate(68.477841 235.738437)scale(0.1 -0.1)\">\n       <use xlink:href=\"#DejaVuSans-52\"/>\n      </g>\n     </g>\n    </g>\n    <g id=\"xtick_2\">\n     <g id=\"line2d_3\">\n      <path clip-path=\"url(#p0fd2718d23)\" d=\"M 112.240909 224.64 \nL 112.240909 7.2 \n\" style=\"fill:none;stroke:#b2b2b2;stroke-dasharray:1.85,0.8;stroke-dashoffset:0;stroke-width:0.5;\"/>\n     </g>\n     <g id=\"line2d_4\">\n      <g>\n       <use style=\"stroke:#000000;stroke-width:0.8;\" x=\"112.240909\" xlink:href=\"#md445164633\" y=\"224.64\"/>\n      </g>\n     </g>\n     <g id=\"text_2\">\n      <!-- 6 -->\n      <defs>\n       <path d=\"M 33.015625 40.375 \nQ 26.375 40.375 22.484375 35.828125 \nQ 18.609375 31.296875 18.609375 23.390625 \nQ 18.609375 15.53125 22.484375 10.953125 \nQ 26.375 6.390625 33.015625 6.390625 \nQ 39.65625 6.390625 43.53125 10.953125 \nQ 47.40625 15.53125 47.40625 23.390625 \nQ 47.40625 31.296875 43.53125 35.828125 \nQ 39.65625 40.375 33.015625 40.375 \nz\nM 52.59375 71.296875 \nL 52.59375 62.3125 \nQ 48.875 64.0625 45.09375 64.984375 \nQ 41.3125 65.921875 37.59375 65.921875 \nQ 27.828125 65.921875 22.671875 59.328125 \nQ 17.53125 52.734375 16.796875 39.40625 \nQ 19.671875 43.65625 24.015625 45.921875 \nQ 28.375 48.1875 33.59375 48.1875 \nQ 44.578125 48.1875 50.953125 41.515625 \nQ 57.328125 34.859375 57.328125 23.390625 \nQ 57.328125 12.15625 50.6875 5.359375 \nQ 44.046875 -1.421875 33.015625 -1.421875 \nQ 20.359375 -1.421875 13.671875 8.265625 \nQ 6.984375 17.96875 6.984375 36.375 \nQ 6.984375 53.65625 15.1875 63.9375 \nQ 23.390625 74.21875 37.203125 74.21875 \nQ 40.921875 74.21875 44.703125 73.484375 \nQ 48.484375 72.75 52.59375 71.296875 \nz\n\" id=\"DejaVuSans-54\"/>\n      </defs>\n      <g transform=\"translate(109.059659 235.738437)scale(0.1 -0.1)\">\n       <use xlink:href=\"#DejaVuSans-54\"/>\n      </g>\n     </g>\n    </g>\n    <g id=\"xtick_3\">\n     <g id=\"line2d_5\">\n      <path clip-path=\"url(#p0fd2718d23)\" d=\"M 152.822727 224.64 \nL 152.822727 7.2 \n\" style=\"fill:none;stroke:#b2b2b2;stroke-dasharray:1.85,0.8;stroke-dashoffset:0;stroke-width:0.5;\"/>\n     </g>\n     <g id=\"line2d_6\">\n      <g>\n       <use style=\"stroke:#000000;stroke-width:0.8;\" x=\"152.822727\" xlink:href=\"#md445164633\" y=\"224.64\"/>\n      </g>\n     </g>\n     <g id=\"text_3\">\n      <!-- 8 -->\n      <defs>\n       <path d=\"M 31.78125 34.625 \nQ 24.75 34.625 20.71875 30.859375 \nQ 16.703125 27.09375 16.703125 20.515625 \nQ 16.703125 13.921875 20.71875 10.15625 \nQ 24.75 6.390625 31.78125 6.390625 \nQ 38.8125 6.390625 42.859375 10.171875 \nQ 46.921875 13.96875 46.921875 20.515625 \nQ 46.921875 27.09375 42.890625 30.859375 \nQ 38.875 34.625 31.78125 34.625 \nz\nM 21.921875 38.8125 \nQ 15.578125 40.375 12.03125 44.71875 \nQ 8.5 49.078125 8.5 55.328125 \nQ 8.5 64.0625 14.71875 69.140625 \nQ 20.953125 74.21875 31.78125 74.21875 \nQ 42.671875 74.21875 48.875 69.140625 \nQ 55.078125 64.0625 55.078125 55.328125 \nQ 55.078125 49.078125 51.53125 44.71875 \nQ 48 40.375 41.703125 38.8125 \nQ 48.828125 37.15625 52.796875 32.3125 \nQ 56.78125 27.484375 56.78125 20.515625 \nQ 56.78125 9.90625 50.3125 4.234375 \nQ 43.84375 -1.421875 31.78125 -1.421875 \nQ 19.734375 -1.421875 13.25 4.234375 \nQ 6.78125 9.90625 6.78125 20.515625 \nQ 6.78125 27.484375 10.78125 32.3125 \nQ 14.796875 37.15625 21.921875 38.8125 \nz\nM 18.3125 54.390625 \nQ 18.3125 48.734375 21.84375 45.5625 \nQ 25.390625 42.390625 31.78125 42.390625 \nQ 38.140625 42.390625 41.71875 45.5625 \nQ 45.3125 48.734375 45.3125 54.390625 \nQ 45.3125 60.0625 41.71875 63.234375 \nQ 38.140625 66.40625 31.78125 66.40625 \nQ 25.390625 66.40625 21.84375 63.234375 \nQ 18.3125 60.0625 18.3125 54.390625 \nz\n\" id=\"DejaVuSans-56\"/>\n      </defs>\n      <g transform=\"translate(149.641477 235.738437)scale(0.1 -0.1)\">\n       <use xlink:href=\"#DejaVuSans-56\"/>\n      </g>\n     </g>\n    </g>\n    <g id=\"xtick_4\">\n     <g id=\"line2d_7\">\n      <path clip-path=\"url(#p0fd2718d23)\" d=\"M 193.404545 224.64 \nL 193.404545 7.2 \n\" style=\"fill:none;stroke:#b2b2b2;stroke-dasharray:1.85,0.8;stroke-dashoffset:0;stroke-width:0.5;\"/>\n     </g>\n     <g id=\"line2d_8\">\n      <g>\n       <use style=\"stroke:#000000;stroke-width:0.8;\" x=\"193.404545\" xlink:href=\"#md445164633\" y=\"224.64\"/>\n      </g>\n     </g>\n     <g id=\"text_4\">\n      <!-- 10 -->\n      <defs>\n       <path d=\"M 12.40625 8.296875 \nL 28.515625 8.296875 \nL 28.515625 63.921875 \nL 10.984375 60.40625 \nL 10.984375 69.390625 \nL 28.421875 72.90625 \nL 38.28125 72.90625 \nL 38.28125 8.296875 \nL 54.390625 8.296875 \nL 54.390625 0 \nL 12.40625 0 \nz\n\" id=\"DejaVuSans-49\"/>\n       <path d=\"M 31.78125 66.40625 \nQ 24.171875 66.40625 20.328125 58.90625 \nQ 16.5 51.421875 16.5 36.375 \nQ 16.5 21.390625 20.328125 13.890625 \nQ 24.171875 6.390625 31.78125 6.390625 \nQ 39.453125 6.390625 43.28125 13.890625 \nQ 47.125 21.390625 47.125 36.375 \nQ 47.125 51.421875 43.28125 58.90625 \nQ 39.453125 66.40625 31.78125 66.40625 \nz\nM 31.78125 74.21875 \nQ 44.046875 74.21875 50.515625 64.515625 \nQ 56.984375 54.828125 56.984375 36.375 \nQ 56.984375 17.96875 50.515625 8.265625 \nQ 44.046875 -1.421875 31.78125 -1.421875 \nQ 19.53125 -1.421875 13.0625 8.265625 \nQ 6.59375 17.96875 6.59375 36.375 \nQ 6.59375 54.828125 13.0625 64.515625 \nQ 19.53125 74.21875 31.78125 74.21875 \nz\n\" id=\"DejaVuSans-48\"/>\n      </defs>\n      <g transform=\"translate(187.042045 235.738437)scale(0.1 -0.1)\">\n       <use xlink:href=\"#DejaVuSans-49\"/>\n       <use x=\"63.623047\" xlink:href=\"#DejaVuSans-48\"/>\n      </g>\n     </g>\n    </g>\n    <g id=\"xtick_5\">\n     <g id=\"line2d_9\">\n      <path clip-path=\"url(#p0fd2718d23)\" d=\"M 233.986364 224.64 \nL 233.986364 7.2 \n\" style=\"fill:none;stroke:#b2b2b2;stroke-dasharray:1.85,0.8;stroke-dashoffset:0;stroke-width:0.5;\"/>\n     </g>\n     <g id=\"line2d_10\">\n      <g>\n       <use style=\"stroke:#000000;stroke-width:0.8;\" x=\"233.986364\" xlink:href=\"#md445164633\" y=\"224.64\"/>\n      </g>\n     </g>\n     <g id=\"text_5\">\n      <!-- 12 -->\n      <defs>\n       <path d=\"M 19.1875 8.296875 \nL 53.609375 8.296875 \nL 53.609375 0 \nL 7.328125 0 \nL 7.328125 8.296875 \nQ 12.9375 14.109375 22.625 23.890625 \nQ 32.328125 33.6875 34.8125 36.53125 \nQ 39.546875 41.84375 41.421875 45.53125 \nQ 43.3125 49.21875 43.3125 52.78125 \nQ 43.3125 58.59375 39.234375 62.25 \nQ 35.15625 65.921875 28.609375 65.921875 \nQ 23.96875 65.921875 18.8125 64.3125 \nQ 13.671875 62.703125 7.8125 59.421875 \nL 7.8125 69.390625 \nQ 13.765625 71.78125 18.9375 73 \nQ 24.125 74.21875 28.421875 74.21875 \nQ 39.75 74.21875 46.484375 68.546875 \nQ 53.21875 62.890625 53.21875 53.421875 \nQ 53.21875 48.921875 51.53125 44.890625 \nQ 49.859375 40.875 45.40625 35.40625 \nQ 44.1875 33.984375 37.640625 27.21875 \nQ 31.109375 20.453125 19.1875 8.296875 \nz\n\" id=\"DejaVuSans-50\"/>\n      </defs>\n      <g transform=\"translate(227.623864 235.738437)scale(0.1 -0.1)\">\n       <use xlink:href=\"#DejaVuSans-49\"/>\n       <use x=\"63.623047\" xlink:href=\"#DejaVuSans-50\"/>\n      </g>\n     </g>\n    </g>\n    <g id=\"xtick_6\">\n     <g id=\"line2d_11\">\n      <path clip-path=\"url(#p0fd2718d23)\" d=\"M 274.568182 224.64 \nL 274.568182 7.2 \n\" style=\"fill:none;stroke:#b2b2b2;stroke-dasharray:1.85,0.8;stroke-dashoffset:0;stroke-width:0.5;\"/>\n     </g>\n     <g id=\"line2d_12\">\n      <g>\n       <use style=\"stroke:#000000;stroke-width:0.8;\" x=\"274.568182\" xlink:href=\"#md445164633\" y=\"224.64\"/>\n      </g>\n     </g>\n     <g id=\"text_6\">\n      <!-- 14 -->\n      <g transform=\"translate(268.205682 235.738437)scale(0.1 -0.1)\">\n       <use xlink:href=\"#DejaVuSans-49\"/>\n       <use x=\"63.623047\" xlink:href=\"#DejaVuSans-52\"/>\n      </g>\n     </g>\n    </g>\n    <g id=\"xtick_7\">\n     <g id=\"line2d_13\">\n      <path clip-path=\"url(#p0fd2718d23)\" d=\"M 315.15 224.64 \nL 315.15 7.2 \n\" style=\"fill:none;stroke:#b2b2b2;stroke-dasharray:1.85,0.8;stroke-dashoffset:0;stroke-width:0.5;\"/>\n     </g>\n     <g id=\"line2d_14\">\n      <g>\n       <use style=\"stroke:#000000;stroke-width:0.8;\" x=\"315.15\" xlink:href=\"#md445164633\" y=\"224.64\"/>\n      </g>\n     </g>\n     <g id=\"text_7\">\n      <!-- 16 -->\n      <g transform=\"translate(308.7875 235.738437)scale(0.1 -0.1)\">\n       <use xlink:href=\"#DejaVuSans-49\"/>\n       <use x=\"63.623047\" xlink:href=\"#DejaVuSans-54\"/>\n      </g>\n     </g>\n    </g>\n    <g id=\"xtick_8\">\n     <g id=\"line2d_15\">\n      <path clip-path=\"url(#p0fd2718d23)\" d=\"M 355.731818 224.64 \nL 355.731818 7.2 \n\" style=\"fill:none;stroke:#b2b2b2;stroke-dasharray:1.85,0.8;stroke-dashoffset:0;stroke-width:0.5;\"/>\n     </g>\n     <g id=\"line2d_16\">\n      <g>\n       <use style=\"stroke:#000000;stroke-width:0.8;\" x=\"355.731818\" xlink:href=\"#md445164633\" y=\"224.64\"/>\n      </g>\n     </g>\n     <g id=\"text_8\">\n      <!-- 18 -->\n      <g transform=\"translate(349.369318 235.738437)scale(0.1 -0.1)\">\n       <use xlink:href=\"#DejaVuSans-49\"/>\n       <use x=\"63.623047\" xlink:href=\"#DejaVuSans-56\"/>\n      </g>\n     </g>\n    </g>\n   </g>\n   <g id=\"matplotlib.axis_2\">\n    <g id=\"ytick_1\">\n     <g id=\"line2d_17\">\n      <path clip-path=\"url(#p0fd2718d23)\" d=\"M 36.15 214.756364 \nL 370.95 214.756364 \n\" style=\"fill:none;stroke:#b2b2b2;stroke-dasharray:1.85,0.8;stroke-dashoffset:0;stroke-width:0.5;\"/>\n     </g>\n     <g id=\"line2d_18\">\n      <defs>\n       <path d=\"M 0 0 \nL 3.5 0 \n\" id=\"m1cbd8588d2\" style=\"stroke:#000000;stroke-width:0.8;\"/>\n      </defs>\n      <g>\n       <use style=\"stroke:#000000;stroke-width:0.8;\" x=\"36.15\" xlink:href=\"#m1cbd8588d2\" y=\"214.756364\"/>\n      </g>\n     </g>\n     <g id=\"text_9\">\n      <!-- 0 -->\n      <g transform=\"translate(26.2875 218.555582)scale(0.1 -0.1)\">\n       <use xlink:href=\"#DejaVuSans-48\"/>\n      </g>\n     </g>\n    </g>\n    <g id=\"ytick_2\">\n     <g id=\"line2d_19\">\n      <path clip-path=\"url(#p0fd2718d23)\" d=\"M 36.15 182.718644 \nL 370.95 182.718644 \n\" style=\"fill:none;stroke:#b2b2b2;stroke-dasharray:1.85,0.8;stroke-dashoffset:0;stroke-width:0.5;\"/>\n     </g>\n     <g id=\"line2d_20\">\n      <g>\n       <use style=\"stroke:#000000;stroke-width:0.8;\" x=\"36.15\" xlink:href=\"#m1cbd8588d2\" y=\"182.718644\"/>\n      </g>\n     </g>\n     <g id=\"text_10\">\n      <!-- 200 -->\n      <g transform=\"translate(13.5625 186.517863)scale(0.1 -0.1)\">\n       <use xlink:href=\"#DejaVuSans-50\"/>\n       <use x=\"63.623047\" xlink:href=\"#DejaVuSans-48\"/>\n       <use x=\"127.246094\" xlink:href=\"#DejaVuSans-48\"/>\n      </g>\n     </g>\n    </g>\n    <g id=\"ytick_3\">\n     <g id=\"line2d_21\">\n      <path clip-path=\"url(#p0fd2718d23)\" d=\"M 36.15 150.680925 \nL 370.95 150.680925 \n\" style=\"fill:none;stroke:#b2b2b2;stroke-dasharray:1.85,0.8;stroke-dashoffset:0;stroke-width:0.5;\"/>\n     </g>\n     <g id=\"line2d_22\">\n      <g>\n       <use style=\"stroke:#000000;stroke-width:0.8;\" x=\"36.15\" xlink:href=\"#m1cbd8588d2\" y=\"150.680925\"/>\n      </g>\n     </g>\n     <g id=\"text_11\">\n      <!-- 400 -->\n      <g transform=\"translate(13.5625 154.480144)scale(0.1 -0.1)\">\n       <use xlink:href=\"#DejaVuSans-52\"/>\n       <use x=\"63.623047\" xlink:href=\"#DejaVuSans-48\"/>\n       <use x=\"127.246094\" xlink:href=\"#DejaVuSans-48\"/>\n      </g>\n     </g>\n    </g>\n    <g id=\"ytick_4\">\n     <g id=\"line2d_23\">\n      <path clip-path=\"url(#p0fd2718d23)\" d=\"M 36.15 118.643206 \nL 370.95 118.643206 \n\" style=\"fill:none;stroke:#b2b2b2;stroke-dasharray:1.85,0.8;stroke-dashoffset:0;stroke-width:0.5;\"/>\n     </g>\n     <g id=\"line2d_24\">\n      <g>\n       <use style=\"stroke:#000000;stroke-width:0.8;\" x=\"36.15\" xlink:href=\"#m1cbd8588d2\" y=\"118.643206\"/>\n      </g>\n     </g>\n     <g id=\"text_12\">\n      <!-- 600 -->\n      <g transform=\"translate(13.5625 122.442425)scale(0.1 -0.1)\">\n       <use xlink:href=\"#DejaVuSans-54\"/>\n       <use x=\"63.623047\" xlink:href=\"#DejaVuSans-48\"/>\n       <use x=\"127.246094\" xlink:href=\"#DejaVuSans-48\"/>\n      </g>\n     </g>\n    </g>\n    <g id=\"ytick_5\">\n     <g id=\"line2d_25\">\n      <path clip-path=\"url(#p0fd2718d23)\" d=\"M 36.15 86.605487 \nL 370.95 86.605487 \n\" style=\"fill:none;stroke:#b2b2b2;stroke-dasharray:1.85,0.8;stroke-dashoffset:0;stroke-width:0.5;\"/>\n     </g>\n     <g id=\"line2d_26\">\n      <g>\n       <use style=\"stroke:#000000;stroke-width:0.8;\" x=\"36.15\" xlink:href=\"#m1cbd8588d2\" y=\"86.605487\"/>\n      </g>\n     </g>\n     <g id=\"text_13\">\n      <!-- 800 -->\n      <g transform=\"translate(13.5625 90.404706)scale(0.1 -0.1)\">\n       <use xlink:href=\"#DejaVuSans-56\"/>\n       <use x=\"63.623047\" xlink:href=\"#DejaVuSans-48\"/>\n       <use x=\"127.246094\" xlink:href=\"#DejaVuSans-48\"/>\n      </g>\n     </g>\n    </g>\n    <g id=\"ytick_6\">\n     <g id=\"line2d_27\">\n      <path clip-path=\"url(#p0fd2718d23)\" d=\"M 36.15 54.567768 \nL 370.95 54.567768 \n\" style=\"fill:none;stroke:#b2b2b2;stroke-dasharray:1.85,0.8;stroke-dashoffset:0;stroke-width:0.5;\"/>\n     </g>\n     <g id=\"line2d_28\">\n      <g>\n       <use style=\"stroke:#000000;stroke-width:0.8;\" x=\"36.15\" xlink:href=\"#m1cbd8588d2\" y=\"54.567768\"/>\n      </g>\n     </g>\n     <g id=\"text_14\">\n      <!-- 1000 -->\n      <g transform=\"translate(7.2 58.366987)scale(0.1 -0.1)\">\n       <use xlink:href=\"#DejaVuSans-49\"/>\n       <use x=\"63.623047\" xlink:href=\"#DejaVuSans-48\"/>\n       <use x=\"127.246094\" xlink:href=\"#DejaVuSans-48\"/>\n       <use x=\"190.869141\" xlink:href=\"#DejaVuSans-48\"/>\n      </g>\n     </g>\n    </g>\n    <g id=\"ytick_7\">\n     <g id=\"line2d_29\">\n      <path clip-path=\"url(#p0fd2718d23)\" d=\"M 36.15 22.530049 \nL 370.95 22.530049 \n\" style=\"fill:none;stroke:#b2b2b2;stroke-dasharray:1.85,0.8;stroke-dashoffset:0;stroke-width:0.5;\"/>\n     </g>\n     <g id=\"line2d_30\">\n      <g>\n       <use style=\"stroke:#000000;stroke-width:0.8;\" x=\"36.15\" xlink:href=\"#m1cbd8588d2\" y=\"22.530049\"/>\n      </g>\n     </g>\n     <g id=\"text_15\">\n      <!-- 1200 -->\n      <g transform=\"translate(7.2 26.329267)scale(0.1 -0.1)\">\n       <use xlink:href=\"#DejaVuSans-49\"/>\n       <use x=\"63.623047\" xlink:href=\"#DejaVuSans-50\"/>\n       <use x=\"127.246094\" xlink:href=\"#DejaVuSans-48\"/>\n       <use x=\"190.869141\" xlink:href=\"#DejaVuSans-48\"/>\n      </g>\n     </g>\n    </g>\n   </g>\n   <g id=\"LineCollection_1\">\n    <path clip-path=\"url(#p0fd2718d23)\" d=\"M 51.368182 214.756364 \nL 51.368182 207.067311 \n\" style=\"fill:none;stroke:#348abd;stroke-width:2;\"/>\n    <path clip-path=\"url(#p0fd2718d23)\" d=\"M 71.659091 214.756364 \nL 71.659091 191.20864 \n\" style=\"fill:none;stroke:#348abd;stroke-width:2;\"/>\n    <path clip-path=\"url(#p0fd2718d23)\" d=\"M 91.95 214.756364 \nL 91.95 172.786952 \n\" style=\"fill:none;stroke:#348abd;stroke-width:2;\"/>\n    <path clip-path=\"url(#p0fd2718d23)\" d=\"M 112.240909 214.756364 \nL 112.240909 139.788101 \n\" style=\"fill:none;stroke:#348abd;stroke-width:2;\"/>\n    <path clip-path=\"url(#p0fd2718d23)\" d=\"M 132.531818 214.756364 \nL 132.531818 102.624347 \n\" style=\"fill:none;stroke:#348abd;stroke-width:2;\"/>\n    <path clip-path=\"url(#p0fd2718d23)\" d=\"M 152.822727 214.756364 \nL 152.822727 60.01418 \n\" style=\"fill:none;stroke:#348abd;stroke-width:2;\"/>\n    <path clip-path=\"url(#p0fd2718d23)\" d=\"M 173.113636 214.756364 \nL 173.113636 25.413443 \n\" style=\"fill:none;stroke:#348abd;stroke-width:2;\"/>\n    <path clip-path=\"url(#p0fd2718d23)\" d=\"M 193.404545 214.756364 \nL 193.404545 18.685522 \n\" style=\"fill:none;stroke:#348abd;stroke-width:2;\"/>\n    <path clip-path=\"url(#p0fd2718d23)\" d=\"M 213.695455 214.756364 \nL 213.695455 17.083636 \n\" style=\"fill:none;stroke:#348abd;stroke-width:2;\"/>\n    <path clip-path=\"url(#p0fd2718d23)\" d=\"M 233.986364 214.756364 \nL 233.986364 29.738535 \n\" style=\"fill:none;stroke:#348abd;stroke-width:2;\"/>\n    <path clip-path=\"url(#p0fd2718d23)\" d=\"M 254.277273 214.756364 \nL 254.277273 55.368711 \n\" style=\"fill:none;stroke:#348abd;stroke-width:2;\"/>\n    <path clip-path=\"url(#p0fd2718d23)\" d=\"M 274.568182 214.756364 \nL 274.568182 103.585478 \n\" style=\"fill:none;stroke:#348abd;stroke-width:2;\"/>\n    <path clip-path=\"url(#p0fd2718d23)\" d=\"M 294.859091 214.756364 \nL 294.859091 144.753947 \n\" style=\"fill:none;stroke:#348abd;stroke-width:2;\"/>\n    <path clip-path=\"url(#p0fd2718d23)\" d=\"M 315.15 214.756364 \nL 315.15 166.539596 \n\" style=\"fill:none;stroke:#348abd;stroke-width:2;\"/>\n    <path clip-path=\"url(#p0fd2718d23)\" d=\"M 335.440909 214.756364 \nL 335.440909 192.970715 \n\" style=\"fill:none;stroke:#348abd;stroke-width:2;\"/>\n    <path clip-path=\"url(#p0fd2718d23)\" d=\"M 355.731818 214.756364 \nL 355.731818 206.586745 \n\" style=\"fill:none;stroke:#348abd;stroke-width:2;\"/>\n   </g>\n   <g id=\"line2d_31\">\n    <defs>\n     <path d=\"M 0 3 \nC 0.795609 3 1.55874 2.683901 2.12132 2.12132 \nC 2.683901 1.55874 3 0.795609 3 0 \nC 3 -0.795609 2.683901 -1.55874 2.12132 -2.12132 \nC 1.55874 -2.683901 0.795609 -3 0 -3 \nC -0.795609 -3 -1.55874 -2.683901 -2.12132 -2.12132 \nC -2.683901 -1.55874 -3 -0.795609 -3 0 \nC -3 0.795609 -2.683901 1.55874 -2.12132 2.12132 \nC -1.55874 2.683901 -0.795609 3 0 3 \nz\n\" id=\"mb350a60cd1\" style=\"stroke:#348abd;\"/>\n    </defs>\n    <g clip-path=\"url(#p0fd2718d23)\">\n     <use style=\"fill:#348abd;stroke:#348abd;\" x=\"51.368182\" xlink:href=\"#mb350a60cd1\" y=\"207.067311\"/>\n     <use style=\"fill:#348abd;stroke:#348abd;\" x=\"71.659091\" xlink:href=\"#mb350a60cd1\" y=\"191.20864\"/>\n     <use style=\"fill:#348abd;stroke:#348abd;\" x=\"91.95\" xlink:href=\"#mb350a60cd1\" y=\"172.786952\"/>\n     <use style=\"fill:#348abd;stroke:#348abd;\" x=\"112.240909\" xlink:href=\"#mb350a60cd1\" y=\"139.788101\"/>\n     <use style=\"fill:#348abd;stroke:#348abd;\" x=\"132.531818\" xlink:href=\"#mb350a60cd1\" y=\"102.624347\"/>\n     <use style=\"fill:#348abd;stroke:#348abd;\" x=\"152.822727\" xlink:href=\"#mb350a60cd1\" y=\"60.01418\"/>\n     <use style=\"fill:#348abd;stroke:#348abd;\" x=\"173.113636\" xlink:href=\"#mb350a60cd1\" y=\"25.413443\"/>\n     <use style=\"fill:#348abd;stroke:#348abd;\" x=\"193.404545\" xlink:href=\"#mb350a60cd1\" y=\"18.685522\"/>\n     <use style=\"fill:#348abd;stroke:#348abd;\" x=\"213.695455\" xlink:href=\"#mb350a60cd1\" y=\"17.083636\"/>\n     <use style=\"fill:#348abd;stroke:#348abd;\" x=\"233.986364\" xlink:href=\"#mb350a60cd1\" y=\"29.738535\"/>\n     <use style=\"fill:#348abd;stroke:#348abd;\" x=\"254.277273\" xlink:href=\"#mb350a60cd1\" y=\"55.368711\"/>\n     <use style=\"fill:#348abd;stroke:#348abd;\" x=\"274.568182\" xlink:href=\"#mb350a60cd1\" y=\"103.585478\"/>\n     <use style=\"fill:#348abd;stroke:#348abd;\" x=\"294.859091\" xlink:href=\"#mb350a60cd1\" y=\"144.753947\"/>\n     <use style=\"fill:#348abd;stroke:#348abd;\" x=\"315.15\" xlink:href=\"#mb350a60cd1\" y=\"166.539596\"/>\n     <use style=\"fill:#348abd;stroke:#348abd;\" x=\"335.440909\" xlink:href=\"#mb350a60cd1\" y=\"192.970715\"/>\n     <use style=\"fill:#348abd;stroke:#348abd;\" x=\"355.731818\" xlink:href=\"#mb350a60cd1\" y=\"206.586745\"/>\n    </g>\n   </g>\n   <g id=\"line2d_32\">\n    <path clip-path=\"url(#p0fd2718d23)\" d=\"M 51.368182 214.756364 \nL 355.731818 214.756364 \n\" style=\"fill:none;stroke:#467821;stroke-linecap:square;stroke-width:2;\"/>\n   </g>\n   <g id=\"patch_3\">\n    <path d=\"M 36.15 224.64 \nL 36.15 7.2 \n\" style=\"fill:none;stroke:#bcbcbc;stroke-linecap:square;stroke-linejoin:miter;stroke-width:0.8;\"/>\n   </g>\n   <g id=\"patch_4\">\n    <path d=\"M 370.95 224.64 \nL 370.95 7.2 \n\" style=\"fill:none;stroke:#bcbcbc;stroke-linecap:square;stroke-linejoin:miter;stroke-width:0.8;\"/>\n   </g>\n   <g id=\"patch_5\">\n    <path d=\"M 36.15 224.64 \nL 370.95 224.64 \n\" style=\"fill:none;stroke:#bcbcbc;stroke-linecap:square;stroke-linejoin:miter;stroke-width:0.8;\"/>\n   </g>\n   <g id=\"patch_6\">\n    <path d=\"M 36.15 7.2 \nL 370.95 7.2 \n\" style=\"fill:none;stroke:#bcbcbc;stroke-linecap:square;stroke-linejoin:miter;stroke-width:0.8;\"/>\n   </g>\n  </g>\n </g>\n <defs>\n  <clipPath id=\"p0fd2718d23\">\n   <rect height=\"217.44\" width=\"334.8\" x=\"36.15\" y=\"7.2\"/>\n  </clipPath>\n </defs>\n</svg>\n"
          },
          "metadata": {
            "needs_background": "light"
          }
        }
      ],
      "source": [
        "values, counts = np.unique(roll, return_counts=True)\n",
        "plt.stem(values, counts, use_line_collection=True)\n",
        "plt.show()"
      ]
    },
    {
      "cell_type": "markdown",
      "metadata": {
        "id": "g6unEJpUYia9"
      },
      "source": [
        "## Pepys and Newton"
      ]
    },
    {
      "cell_type": "markdown",
      "metadata": {
        "id": "23ARmIJfYia9"
      },
      "source": [
        "Samuel Pepys was a great diarist of the English language and a friend of Isaac Newton’s. Pepys was a gambler and [wrote to Newton](https://en.wikipedia.org/wiki/Newton%E2%80%93Pepys_problem) to ask which of three events is the most likely:\n",
        "\n",
        "1. at least one six comes up when six fair dice are rolled;\n",
        "2. at least two sixes come up when 12 dice are rolled;\n",
        "3. at least three sixes come up when 18 dice are rolled.\n",
        "\n",
        "Now Newton wasn’t able to use Python, and spent a while working out the answers, but we can [stand on the shoulders of giants](https://en.wikipedia.org/wiki/Standing_on_the_shoulders_of_giants) and figure this out quite easily.  "
      ]
    },
    {
      "cell_type": "markdown",
      "metadata": {
        "id": "TGVaIzsmYia9"
      },
      "source": [
        "**Possibility 1**: the probability of rolling at least one six is 1 minus the probability of zero sixes, which is"
      ]
    },
    {
      "cell_type": "code",
      "execution_count": 52,
      "metadata": {
        "id": "nq0ysIOGYia9",
        "outputId": "e2e58bac-1cf7-4299-ab73-4ea818d026be",
        "colab": {
          "base_uri": "https://localhost:8080/"
        }
      },
      "outputs": [
        {
          "output_type": "execute_result",
          "data": {
            "text/plain": [
              "0.6651020233196159"
            ]
          },
          "metadata": {},
          "execution_count": 52
        }
      ],
      "source": [
        "1 - (5/6.0)**6"
      ]
    },
    {
      "cell_type": "markdown",
      "metadata": {
        "id": "Q-qn_AiDYia9"
      },
      "source": [
        "**Possibility 2**: the probability of at least two sixes is 1 minus the probability of zero sixes, minus the probability of a single six. The probability of zero sixes is easy to calculate; here are three ways of calculating it."
      ]
    },
    {
      "cell_type": "code",
      "execution_count": 53,
      "metadata": {
        "id": "Suq19bThYia9",
        "outputId": "5b6a936c-8e9d-436a-ffaf-03d6ca538138",
        "colab": {
          "base_uri": "https://localhost:8080/"
        }
      },
      "outputs": [
        {
          "output_type": "execute_result",
          "data": {
            "text/plain": [
              "0.11215665478461515"
            ]
          },
          "metadata": {},
          "execution_count": 53
        }
      ],
      "source": [
        "# throw a non-6 12 times\n",
        "(5/6.0)**12"
      ]
    },
    {
      "cell_type": "markdown",
      "metadata": {
        "id": "AjQ_b3xBYia9"
      },
      "source": [
        "The probability of rolling a single six can likewise be determined using the binomial distribution."
      ]
    },
    {
      "cell_type": "code",
      "execution_count": 54,
      "metadata": {
        "id": "gGK85ghHYia-",
        "outputId": "d9ba1d0c-5fda-41fb-eaab-f593fb152efb",
        "colab": {
          "base_uri": "https://localhost:8080/"
        }
      },
      "outputs": [
        {
          "output_type": "execute_result",
          "data": {
            "text/plain": [
              "0.2691759714830762"
            ]
          },
          "metadata": {},
          "execution_count": 54
        }
      ],
      "source": [
        "scipy.stats.binom(12, 1/6.0).pmf(1)"
      ]
    },
    {
      "cell_type": "markdown",
      "metadata": {
        "id": "YDOCgzXdYia-"
      },
      "source": [
        "so the final answer is"
      ]
    },
    {
      "cell_type": "code",
      "execution_count": 55,
      "metadata": {
        "id": "9kwWTjOIYia-",
        "outputId": "0d6b4f80-72a0-47d9-be92-03313a996f73",
        "colab": {
          "base_uri": "https://localhost:8080/"
        }
      },
      "outputs": [
        {
          "output_type": "execute_result",
          "data": {
            "text/plain": [
              "0.6186673737323087"
            ]
          },
          "metadata": {},
          "execution_count": 55
        }
      ],
      "source": [
        "roll12 = scipy.stats.binom(12, 1/6.0)\n",
        "1 - roll12.pmf(0) - roll12.pmf(1)"
      ]
    },
    {
      "cell_type": "markdown",
      "metadata": {
        "id": "FuDckKrpYia-"
      },
      "source": [
        "**Possibility 3**: in the same way, the probability of at least three sixes when rolling 18 dice is one minus the probability of zero sixes, minus the probability of one six, minus the probability of two sixes."
      ]
    },
    {
      "cell_type": "code",
      "execution_count": 56,
      "metadata": {
        "id": "mm7JSG0_Yia-",
        "outputId": "765af4da-de16-46fb-e5b0-b847d43bfcef",
        "colab": {
          "base_uri": "https://localhost:8080/"
        }
      },
      "outputs": [
        {
          "output_type": "execute_result",
          "data": {
            "text/plain": [
              "0.5973456859477231"
            ]
          },
          "metadata": {},
          "execution_count": 56
        }
      ],
      "source": [
        "roll18 = scipy.stats.binom(18, 1/6.0)\n",
        "1 - roll18.pmf(0) - roll18.pmf(1) - roll18.pmf(2)"
      ]
    },
    {
      "cell_type": "code",
      "execution_count": 57,
      "metadata": {
        "id": "KIU7cROuYia-",
        "outputId": "dcaaac55-e107-4ba8-9498-33084f68d52e",
        "colab": {
          "base_uri": "https://localhost:8080/"
        }
      },
      "outputs": [
        {
          "output_type": "execute_result",
          "data": {
            "text/plain": [
              "0.5973456859477229"
            ]
          },
          "metadata": {},
          "execution_count": 57
        }
      ],
      "source": [
        "1 - roll18.cdf(2)"
      ]
    },
    {
      "cell_type": "markdown",
      "metadata": {
        "id": "PFMJXsRWYia-"
      },
      "source": [
        "Conclusion: it’s best to bet on possibility 1."
      ]
    }
  ],
  "metadata": {
    "anaconda-cloud": {},
    "kernelspec": {
      "display_name": "Python 3 (ipykernel)",
      "language": "python",
      "name": "python3"
    },
    "language_info": {
      "codemirror_mode": {
        "name": "ipython",
        "version": 3
      },
      "file_extension": ".py",
      "mimetype": "text/x-python",
      "name": "python",
      "nbconvert_exporter": "python",
      "pygments_lexer": "ipython3",
      "version": "3.10.4"
    },
    "colab": {
      "name": "Probability_Applications.ipynb",
      "provenance": []
    }
  },
  "nbformat": 4,
  "nbformat_minor": 0
}